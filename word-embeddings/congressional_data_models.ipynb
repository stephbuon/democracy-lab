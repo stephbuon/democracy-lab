{
 "cells": [
  {
   "cell_type": "code",
   "execution_count": 13,
   "metadata": {},
   "outputs": [],
   "source": [
    "import sys\n",
    "import os\n",
    "import re\n",
    "import gensim\n",
    "import numpy as np\n",
    "import pandas as pd\n",
    "\n",
    "sys.path.append('../')\n",
    "sys.path.append('../democracy-lab/util/')\n",
    "\n",
    "from util.read_us_congressional_data import import_congressional_data\n",
    "from util.interval_subsetter import interval_subset\n",
    "from util.parallelize_operation import parallelize_operation\n",
    "from util.str_split_sentences import str_split_sentences"
   ]
  },
  {
   "cell_type": "code",
   "execution_count": 14,
   "metadata": {},
   "outputs": [
    {
     "name": "stdout",
     "output_type": "stream",
     "text": [
      "Reading /scratch/group/oit_research_data/stanford_congress/hein-bound/speeches_043.txt...\n",
      "Reading /scratch/group/oit_research_data/stanford_congress/hein-bound/speeches_044.txt...\n",
      "Reading /scratch/group/oit_research_data/stanford_congress/hein-bound/speeches_045.txt...\n",
      "Reading /scratch/group/oit_research_data/stanford_congress/hein-bound/speeches_046.txt...\n",
      "Reading /scratch/group/oit_research_data/stanford_congress/hein-bound/speeches_047.txt...\n",
      "Reading /scratch/group/oit_research_data/stanford_congress/hein-bound/speeches_048.txt...\n",
      "Reading /scratch/group/oit_research_data/stanford_congress/hein-bound/speeches_049.txt...\n",
      "Reading /scratch/group/oit_research_data/stanford_congress/hein-bound/speeches_050.txt...\n",
      "Reading /scratch/group/oit_research_data/stanford_congress/hein-bound/speeches_051.txt...\n",
      "Reading /scratch/group/oit_research_data/stanford_congress/hein-bound/speeches_052.txt...\n",
      "Reading /scratch/group/oit_research_data/stanford_congress/hein-bound/speeches_053.txt...\n",
      "Reading /scratch/group/oit_research_data/stanford_congress/hein-bound/speeches_054.txt...\n",
      "Reading /scratch/group/oit_research_data/stanford_congress/hein-bound/speeches_055.txt...\n",
      "Reading /scratch/group/oit_research_data/stanford_congress/hein-bound/speeches_056.txt...\n",
      "Reading /scratch/group/oit_research_data/stanford_congress/hein-bound/speeches_057.txt...\n",
      "Reading /scratch/group/oit_research_data/stanford_congress/hein-bound/speeches_058.txt...\n",
      "Reading /scratch/group/oit_research_data/stanford_congress/hein-bound/speeches_059.txt...\n",
      "Reading /scratch/group/oit_research_data/stanford_congress/hein-bound/speeches_060.txt...\n",
      "Reading /scratch/group/oit_research_data/stanford_congress/hein-bound/speeches_061.txt...\n",
      "Reading /scratch/group/oit_research_data/stanford_congress/hein-bound/speeches_062.txt...\n",
      "Reading /scratch/group/oit_research_data/stanford_congress/hein-bound/speeches_063.txt...\n",
      "Reading /scratch/group/oit_research_data/stanford_congress/hein-bound/speeches_064.txt...\n",
      "Reading /scratch/group/oit_research_data/stanford_congress/hein-bound/speeches_065.txt...\n",
      "Reading /scratch/group/oit_research_data/stanford_congress/hein-bound/speeches_066.txt...\n",
      "Reading /scratch/group/oit_research_data/stanford_congress/hein-bound/speeches_067.txt...\n",
      "Reading /scratch/group/oit_research_data/stanford_congress/hein-bound/speeches_068.txt...\n",
      "Reading /scratch/group/oit_research_data/stanford_congress/hein-bound/speeches_069.txt...\n",
      "Reading /scratch/group/oit_research_data/stanford_congress/hein-bound/speeches_070.txt...\n",
      "Reading /scratch/group/oit_research_data/stanford_congress/hein-bound/speeches_071.txt...\n",
      "Reading /scratch/group/oit_research_data/stanford_congress/hein-bound/speeches_072.txt...\n",
      "Reading /scratch/group/oit_research_data/stanford_congress/hein-bound/speeches_073.txt...\n",
      "Reading /scratch/group/oit_research_data/stanford_congress/hein-bound/speeches_074.txt...\n",
      "Reading /scratch/group/oit_research_data/stanford_congress/hein-bound/speeches_075.txt...\n",
      "Reading /scratch/group/oit_research_data/stanford_congress/hein-bound/speeches_076.txt...\n",
      "Reading /scratch/group/oit_research_data/stanford_congress/hein-bound/speeches_077.txt...\n",
      "Reading /scratch/group/oit_research_data/stanford_congress/hein-bound/speeches_078.txt...\n",
      "Reading /scratch/group/oit_research_data/stanford_congress/hein-bound/speeches_079.txt...\n",
      "Reading /scratch/group/oit_research_data/stanford_congress/hein-bound/speeches_080.txt...\n",
      "Reading /scratch/group/oit_research_data/stanford_congress/hein-bound/speeches_081.txt...\n",
      "Reading /scratch/group/oit_research_data/stanford_congress/hein-bound/speeches_082.txt...\n",
      "Reading /scratch/group/oit_research_data/stanford_congress/hein-bound/speeches_083.txt...\n",
      "Reading /scratch/group/oit_research_data/stanford_congress/hein-bound/speeches_084.txt...\n",
      "Reading /scratch/group/oit_research_data/stanford_congress/hein-bound/speeches_085.txt...\n",
      "Reading /scratch/group/oit_research_data/stanford_congress/hein-bound/speeches_086.txt...\n",
      "Reading /scratch/group/oit_research_data/stanford_congress/hein-bound/speeches_087.txt...\n",
      "Reading /scratch/group/oit_research_data/stanford_congress/hein-bound/speeches_088.txt...\n",
      "Reading /scratch/group/oit_research_data/stanford_congress/hein-bound/speeches_089.txt...\n",
      "Reading /scratch/group/oit_research_data/stanford_congress/hein-bound/speeches_090.txt...\n",
      "Reading /scratch/group/oit_research_data/stanford_congress/hein-bound/speeches_091.txt...\n",
      "Reading /scratch/group/oit_research_data/stanford_congress/hein-bound/speeches_092.txt...\n",
      "Reading /scratch/group/oit_research_data/stanford_congress/hein-bound/speeches_093.txt...\n",
      "Reading /scratch/group/oit_research_data/stanford_congress/hein-bound/speeches_094.txt...\n",
      "Reading /scratch/group/oit_research_data/stanford_congress/hein-bound/speeches_095.txt...\n",
      "Reading /scratch/group/oit_research_data/stanford_congress/hein-bound/speeches_096.txt...\n",
      "Reading /scratch/group/oit_research_data/stanford_congress/hein-bound/speeches_097.txt...\n",
      "Reading /scratch/group/oit_research_data/stanford_congress/hein-bound/speeches_098.txt...\n",
      "Reading /scratch/group/oit_research_data/stanford_congress/hein-bound/speeches_099.txt...\n",
      "Reading /scratch/group/oit_research_data/stanford_congress/hein-bound/speeches_100.txt...\n",
      "Reading /scratch/group/oit_research_data/stanford_congress/hein-bound/speeches_101.txt...\n",
      "Reading /scratch/group/oit_research_data/stanford_congress/hein-bound/speeches_102.txt...\n",
      "Reading /scratch/group/oit_research_data/stanford_congress/hein-bound/speeches_103.txt...\n",
      "Reading /scratch/group/oit_research_data/stanford_congress/hein-bound/speeches_104.txt...\n",
      "Reading /scratch/group/oit_research_data/stanford_congress/hein-bound/speeches_105.txt...\n",
      "Reading /scratch/group/oit_research_data/stanford_congress/hein-bound/speeches_106.txt...\n",
      "Reading /scratch/group/oit_research_data/stanford_congress/hein-bound/speeches_107.txt...\n",
      "Reading /scratch/group/oit_research_data/stanford_congress/hein-bound/speeches_108.txt...\n",
      "Reading /scratch/group/oit_research_data/stanford_congress/hein-bound/speeches_109.txt...\n",
      "Reading /scratch/group/oit_research_data/stanford_congress/hein-bound/speeches_110.txt...\n",
      "Reading /scratch/group/oit_research_data/stanford_congress/hein-bound/speeches_111.txt...\n",
      "Reading /scratch/group/oit_research_data/stanford_congress/hein-bound/descr_043.txt...\n",
      "Reading /scratch/group/oit_research_data/stanford_congress/hein-bound/descr_044.txt...\n",
      "Reading /scratch/group/oit_research_data/stanford_congress/hein-bound/descr_045.txt...\n",
      "Reading /scratch/group/oit_research_data/stanford_congress/hein-bound/descr_046.txt...\n",
      "Reading /scratch/group/oit_research_data/stanford_congress/hein-bound/descr_047.txt...\n",
      "Reading /scratch/group/oit_research_data/stanford_congress/hein-bound/descr_048.txt...\n",
      "Reading /scratch/group/oit_research_data/stanford_congress/hein-bound/descr_049.txt...\n",
      "Reading /scratch/group/oit_research_data/stanford_congress/hein-bound/descr_050.txt...\n",
      "Reading /scratch/group/oit_research_data/stanford_congress/hein-bound/descr_051.txt...\n",
      "Reading /scratch/group/oit_research_data/stanford_congress/hein-bound/descr_052.txt...\n",
      "Reading /scratch/group/oit_research_data/stanford_congress/hein-bound/descr_053.txt...\n",
      "Reading /scratch/group/oit_research_data/stanford_congress/hein-bound/descr_054.txt...\n",
      "Reading /scratch/group/oit_research_data/stanford_congress/hein-bound/descr_055.txt...\n",
      "Reading /scratch/group/oit_research_data/stanford_congress/hein-bound/descr_056.txt...\n",
      "Reading /scratch/group/oit_research_data/stanford_congress/hein-bound/descr_057.txt...\n",
      "Reading /scratch/group/oit_research_data/stanford_congress/hein-bound/descr_058.txt...\n",
      "Reading /scratch/group/oit_research_data/stanford_congress/hein-bound/descr_059.txt...\n",
      "Reading /scratch/group/oit_research_data/stanford_congress/hein-bound/descr_060.txt...\n",
      "Reading /scratch/group/oit_research_data/stanford_congress/hein-bound/descr_061.txt...\n",
      "Reading /scratch/group/oit_research_data/stanford_congress/hein-bound/descr_062.txt...\n",
      "Reading /scratch/group/oit_research_data/stanford_congress/hein-bound/descr_063.txt...\n",
      "Reading /scratch/group/oit_research_data/stanford_congress/hein-bound/descr_064.txt...\n",
      "Reading /scratch/group/oit_research_data/stanford_congress/hein-bound/descr_065.txt...\n",
      "Reading /scratch/group/oit_research_data/stanford_congress/hein-bound/descr_066.txt...\n",
      "Reading /scratch/group/oit_research_data/stanford_congress/hein-bound/descr_067.txt...\n",
      "Reading /scratch/group/oit_research_data/stanford_congress/hein-bound/descr_068.txt...\n",
      "Reading /scratch/group/oit_research_data/stanford_congress/hein-bound/descr_069.txt...\n",
      "Reading /scratch/group/oit_research_data/stanford_congress/hein-bound/descr_070.txt...\n",
      "Reading /scratch/group/oit_research_data/stanford_congress/hein-bound/descr_071.txt...\n",
      "Reading /scratch/group/oit_research_data/stanford_congress/hein-bound/descr_072.txt...\n",
      "Reading /scratch/group/oit_research_data/stanford_congress/hein-bound/descr_073.txt...\n",
      "Reading /scratch/group/oit_research_data/stanford_congress/hein-bound/descr_074.txt...\n",
      "Reading /scratch/group/oit_research_data/stanford_congress/hein-bound/descr_075.txt...\n",
      "Reading /scratch/group/oit_research_data/stanford_congress/hein-bound/descr_076.txt...\n",
      "Reading /scratch/group/oit_research_data/stanford_congress/hein-bound/descr_077.txt...\n",
      "Reading /scratch/group/oit_research_data/stanford_congress/hein-bound/descr_078.txt...\n",
      "Reading /scratch/group/oit_research_data/stanford_congress/hein-bound/descr_079.txt...\n",
      "Reading /scratch/group/oit_research_data/stanford_congress/hein-bound/descr_080.txt...\n",
      "Reading /scratch/group/oit_research_data/stanford_congress/hein-bound/descr_081.txt...\n",
      "Reading /scratch/group/oit_research_data/stanford_congress/hein-bound/descr_082.txt...\n",
      "Reading /scratch/group/oit_research_data/stanford_congress/hein-bound/descr_083.txt...\n",
      "Reading /scratch/group/oit_research_data/stanford_congress/hein-bound/descr_084.txt...\n",
      "Reading /scratch/group/oit_research_data/stanford_congress/hein-bound/descr_085.txt...\n",
      "Reading /scratch/group/oit_research_data/stanford_congress/hein-bound/descr_086.txt...\n",
      "Reading /scratch/group/oit_research_data/stanford_congress/hein-bound/descr_087.txt...\n",
      "Reading /scratch/group/oit_research_data/stanford_congress/hein-bound/descr_088.txt...\n",
      "Reading /scratch/group/oit_research_data/stanford_congress/hein-bound/descr_089.txt...\n",
      "Reading /scratch/group/oit_research_data/stanford_congress/hein-bound/descr_090.txt...\n",
      "Reading /scratch/group/oit_research_data/stanford_congress/hein-bound/descr_091.txt...\n",
      "Reading /scratch/group/oit_research_data/stanford_congress/hein-bound/descr_092.txt...\n",
      "Reading /scratch/group/oit_research_data/stanford_congress/hein-bound/descr_093.txt...\n",
      "Reading /scratch/group/oit_research_data/stanford_congress/hein-bound/descr_094.txt...\n",
      "Reading /scratch/group/oit_research_data/stanford_congress/hein-bound/descr_095.txt...\n",
      "Reading /scratch/group/oit_research_data/stanford_congress/hein-bound/descr_096.txt...\n",
      "Reading /scratch/group/oit_research_data/stanford_congress/hein-bound/descr_097.txt...\n",
      "Reading /scratch/group/oit_research_data/stanford_congress/hein-bound/descr_098.txt...\n",
      "Reading /scratch/group/oit_research_data/stanford_congress/hein-bound/descr_099.txt...\n",
      "Reading /scratch/group/oit_research_data/stanford_congress/hein-bound/descr_100.txt...\n",
      "Reading /scratch/group/oit_research_data/stanford_congress/hein-bound/descr_101.txt...\n",
      "Reading /scratch/group/oit_research_data/stanford_congress/hein-bound/descr_102.txt...\n",
      "Reading /scratch/group/oit_research_data/stanford_congress/hein-bound/descr_103.txt...\n",
      "Reading /scratch/group/oit_research_data/stanford_congress/hein-bound/descr_104.txt...\n",
      "Reading /scratch/group/oit_research_data/stanford_congress/hein-bound/descr_105.txt...\n",
      "Reading /scratch/group/oit_research_data/stanford_congress/hein-bound/descr_106.txt...\n",
      "Reading /scratch/group/oit_research_data/stanford_congress/hein-bound/descr_107.txt...\n",
      "Reading /scratch/group/oit_research_data/stanford_congress/hein-bound/descr_108.txt...\n",
      "Reading /scratch/group/oit_research_data/stanford_congress/hein-bound/descr_109.txt...\n",
      "Reading /scratch/group/oit_research_data/stanford_congress/hein-bound/descr_110.txt...\n",
      "Reading /scratch/group/oit_research_data/stanford_congress/hein-bound/descr_111.txt...\n"
     ]
    }
   ],
   "source": [
    "congressional_data = import_congressional_data(clean_data = True)"
   ]
  },
  {
   "cell_type": "code",
   "execution_count": 15,
   "metadata": {},
   "outputs": [],
   "source": [
    "os.chdir('/users/sbuongiorno/democracy-lab/word-embeddings')"
   ]
  },
  {
   "cell_type": "code",
   "execution_count": 16,
   "metadata": {},
   "outputs": [
    {
     "ename": "KeyboardInterrupt",
     "evalue": "",
     "output_type": "error",
     "traceback": [
      "\u001b[0;31m---------------------------------------------------------------------------\u001b[0m",
      "\u001b[0;31mKeyboardInterrupt\u001b[0m                         Traceback (most recent call last)",
      "\u001b[0;32m<ipython-input-16-65733a8e8946>\u001b[0m in \u001b[0;36m<module>\u001b[0;34m\u001b[0m\n\u001b[0;32m----> 1\u001b[0;31m \u001b[0msubset_loc\u001b[0m \u001b[0;34m=\u001b[0m \u001b[0minterval_subset\u001b[0m\u001b[0;34m(\u001b[0m\u001b[0mcongressional_data\u001b[0m\u001b[0;34m,\u001b[0m \u001b[0;34m'year'\u001b[0m\u001b[0;34m,\u001b[0m \u001b[0;36m1870\u001b[0m\u001b[0;34m,\u001b[0m \u001b[0;36m2010\u001b[0m\u001b[0;34m,\u001b[0m \u001b[0;36m5\u001b[0m\u001b[0;34m,\u001b[0m \u001b[0mfname\u001b[0m\u001b[0;34m=\u001b[0m\u001b[0;34m'stanford_congressional_records'\u001b[0m\u001b[0;34m)\u001b[0m\u001b[0;34m\u001b[0m\u001b[0;34m\u001b[0m\u001b[0m\n\u001b[0m",
      "\u001b[0;32m~/democracy-lab/util/interval_subsetter.py\u001b[0m in \u001b[0;36minterval_subset\u001b[0;34m(data, col_name, start, end, intv, fname)\u001b[0m\n\u001b[1;32m     24\u001b[0m         \u001b[0mfile_name\u001b[0m \u001b[0;34m=\u001b[0m \u001b[0mfname\u001b[0m \u001b[0;34m+\u001b[0m \u001b[0mdescr\u001b[0m \u001b[0;34m+\u001b[0m \u001b[0;34m\"_\"\u001b[0m \u001b[0;34m+\u001b[0m \u001b[0mdescr_2\u001b[0m\u001b[0;34m\u001b[0m\u001b[0;34m\u001b[0m\u001b[0m\n\u001b[1;32m     25\u001b[0m         \u001b[0msave_name\u001b[0m \u001b[0;34m=\u001b[0m \u001b[0mos\u001b[0m\u001b[0;34m.\u001b[0m\u001b[0mpath\u001b[0m\u001b[0;34m.\u001b[0m\u001b[0mjoin\u001b[0m\u001b[0;34m(\u001b[0m\u001b[0mtarget_folder\u001b[0m\u001b[0;34m,\u001b[0m \u001b[0mfile_name\u001b[0m\u001b[0;34m)\u001b[0m\u001b[0;34m\u001b[0m\u001b[0;34m\u001b[0m\u001b[0m\n\u001b[0;32m---> 26\u001b[0;31m         \u001b[0msubset\u001b[0m\u001b[0;34m.\u001b[0m\u001b[0mto_csv\u001b[0m\u001b[0;34m(\u001b[0m\u001b[0msave_name\u001b[0m \u001b[0;34m+\u001b[0m \u001b[0;34m\".csv\"\u001b[0m\u001b[0;34m,\u001b[0m \u001b[0mindex\u001b[0m \u001b[0;34m=\u001b[0m \u001b[0;32mFalse\u001b[0m\u001b[0;34m)\u001b[0m\u001b[0;34m\u001b[0m\u001b[0;34m\u001b[0m\u001b[0m\n\u001b[0m\u001b[1;32m     27\u001b[0m \u001b[0;34m\u001b[0m\u001b[0m\n\u001b[1;32m     28\u001b[0m     \u001b[0;32mreturn\u001b[0m \u001b[0msave_name\u001b[0m\u001b[0;34m\u001b[0m\u001b[0;34m\u001b[0m\u001b[0m\n",
      "\u001b[0;32m/hpc/applications/anaconda/3/lib/python3.6/site-packages/pandas/core/generic.py\u001b[0m in \u001b[0;36mto_csv\u001b[0;34m(self, path_or_buf, sep, na_rep, float_format, columns, header, index, index_label, mode, encoding, compression, quoting, quotechar, line_terminator, chunksize, date_format, doublequote, escapechar, decimal)\u001b[0m\n\u001b[1;32m   3226\u001b[0m             \u001b[0mdecimal\u001b[0m\u001b[0;34m=\u001b[0m\u001b[0mdecimal\u001b[0m\u001b[0;34m,\u001b[0m\u001b[0;34m\u001b[0m\u001b[0;34m\u001b[0m\u001b[0m\n\u001b[1;32m   3227\u001b[0m         )\n\u001b[0;32m-> 3228\u001b[0;31m         \u001b[0mformatter\u001b[0m\u001b[0;34m.\u001b[0m\u001b[0msave\u001b[0m\u001b[0;34m(\u001b[0m\u001b[0;34m)\u001b[0m\u001b[0;34m\u001b[0m\u001b[0;34m\u001b[0m\u001b[0m\n\u001b[0m\u001b[1;32m   3229\u001b[0m \u001b[0;34m\u001b[0m\u001b[0m\n\u001b[1;32m   3230\u001b[0m         \u001b[0;32mif\u001b[0m \u001b[0mpath_or_buf\u001b[0m \u001b[0;32mis\u001b[0m \u001b[0;32mNone\u001b[0m\u001b[0;34m:\u001b[0m\u001b[0;34m\u001b[0m\u001b[0;34m\u001b[0m\u001b[0m\n",
      "\u001b[0;32m/hpc/applications/anaconda/3/lib/python3.6/site-packages/pandas/io/formats/csvs.py\u001b[0m in \u001b[0;36msave\u001b[0;34m(self)\u001b[0m\n\u001b[1;32m    200\u001b[0m                 \u001b[0mself\u001b[0m\u001b[0;34m.\u001b[0m\u001b[0mwriter\u001b[0m \u001b[0;34m=\u001b[0m \u001b[0mUnicodeWriter\u001b[0m\u001b[0;34m(\u001b[0m\u001b[0mf\u001b[0m\u001b[0;34m,\u001b[0m \u001b[0;34m**\u001b[0m\u001b[0mwriter_kwargs\u001b[0m\u001b[0;34m)\u001b[0m\u001b[0;34m\u001b[0m\u001b[0;34m\u001b[0m\u001b[0m\n\u001b[1;32m    201\u001b[0m \u001b[0;34m\u001b[0m\u001b[0m\n\u001b[0;32m--> 202\u001b[0;31m             \u001b[0mself\u001b[0m\u001b[0;34m.\u001b[0m\u001b[0m_save\u001b[0m\u001b[0;34m(\u001b[0m\u001b[0;34m)\u001b[0m\u001b[0;34m\u001b[0m\u001b[0;34m\u001b[0m\u001b[0m\n\u001b[0m\u001b[1;32m    203\u001b[0m \u001b[0;34m\u001b[0m\u001b[0m\n\u001b[1;32m    204\u001b[0m         \u001b[0;32mfinally\u001b[0m\u001b[0;34m:\u001b[0m\u001b[0;34m\u001b[0m\u001b[0;34m\u001b[0m\u001b[0m\n",
      "\u001b[0;32m/hpc/applications/anaconda/3/lib/python3.6/site-packages/pandas/io/formats/csvs.py\u001b[0m in \u001b[0;36m_save\u001b[0;34m(self)\u001b[0m\n\u001b[1;32m    322\u001b[0m                 \u001b[0;32mbreak\u001b[0m\u001b[0;34m\u001b[0m\u001b[0;34m\u001b[0m\u001b[0m\n\u001b[1;32m    323\u001b[0m \u001b[0;34m\u001b[0m\u001b[0m\n\u001b[0;32m--> 324\u001b[0;31m             \u001b[0mself\u001b[0m\u001b[0;34m.\u001b[0m\u001b[0m_save_chunk\u001b[0m\u001b[0;34m(\u001b[0m\u001b[0mstart_i\u001b[0m\u001b[0;34m,\u001b[0m \u001b[0mend_i\u001b[0m\u001b[0;34m)\u001b[0m\u001b[0;34m\u001b[0m\u001b[0;34m\u001b[0m\u001b[0m\n\u001b[0m\u001b[1;32m    325\u001b[0m \u001b[0;34m\u001b[0m\u001b[0m\n\u001b[1;32m    326\u001b[0m     \u001b[0;32mdef\u001b[0m \u001b[0m_save_chunk\u001b[0m\u001b[0;34m(\u001b[0m\u001b[0mself\u001b[0m\u001b[0;34m,\u001b[0m \u001b[0mstart_i\u001b[0m\u001b[0;34m,\u001b[0m \u001b[0mend_i\u001b[0m\u001b[0;34m)\u001b[0m\u001b[0;34m:\u001b[0m\u001b[0;34m\u001b[0m\u001b[0;34m\u001b[0m\u001b[0m\n",
      "\u001b[0;32m/hpc/applications/anaconda/3/lib/python3.6/site-packages/pandas/io/formats/csvs.py\u001b[0m in \u001b[0;36m_save_chunk\u001b[0;34m(self, start_i, end_i)\u001b[0m\n\u001b[1;32m    354\u001b[0m         )\n\u001b[1;32m    355\u001b[0m \u001b[0;34m\u001b[0m\u001b[0m\n\u001b[0;32m--> 356\u001b[0;31m         \u001b[0mlibwriters\u001b[0m\u001b[0;34m.\u001b[0m\u001b[0mwrite_csv_rows\u001b[0m\u001b[0;34m(\u001b[0m\u001b[0mself\u001b[0m\u001b[0;34m.\u001b[0m\u001b[0mdata\u001b[0m\u001b[0;34m,\u001b[0m \u001b[0mix\u001b[0m\u001b[0;34m,\u001b[0m \u001b[0mself\u001b[0m\u001b[0;34m.\u001b[0m\u001b[0mnlevels\u001b[0m\u001b[0;34m,\u001b[0m \u001b[0mself\u001b[0m\u001b[0;34m.\u001b[0m\u001b[0mcols\u001b[0m\u001b[0;34m,\u001b[0m \u001b[0mself\u001b[0m\u001b[0;34m.\u001b[0m\u001b[0mwriter\u001b[0m\u001b[0;34m)\u001b[0m\u001b[0;34m\u001b[0m\u001b[0;34m\u001b[0m\u001b[0m\n\u001b[0m",
      "\u001b[0;32mpandas/_libs/writers.pyx\u001b[0m in \u001b[0;36mpandas._libs.writers.write_csv_rows\u001b[0;34m()\u001b[0m\n",
      "\u001b[0;31mKeyboardInterrupt\u001b[0m: "
     ]
    }
   ],
   "source": [
    "interval_subset(congressional_data, 'year', 1870, 2010, 5, fname='stanford_congressional_records')"
   ]
  },
  {
   "cell_type": "code",
   "execution_count": 8,
   "metadata": {},
   "outputs": [],
   "source": [
    "n = 1"
   ]
  },
  {
   "cell_type": "code",
   "execution_count": 11,
   "metadata": {},
   "outputs": [],
   "source": [
    "# The gensim Word2Vec model does not expect strings as its text examples (sentences), \n",
    "# but lists-of-tokens. Thus, it's up to your code to tokenize your text, \n",
    "# before passing it to Word2Vec. "
   ]
  },
  {
   "cell_type": "code",
   "execution_count": 18,
   "metadata": {},
   "outputs": [
    {
     "name": "stdout",
     "output_type": "stream",
     "text": [
      "stanford_congressional_records_subsets/stanford_congressional_records1873_1874\n"
     ]
    },
    {
     "ename": "KeyboardInterrupt",
     "evalue": "",
     "output_type": "error",
     "traceback": [
      "\u001b[0;31m---------------------------------------------------------------------------\u001b[0m",
      "\u001b[0;31mKeyboardInterrupt\u001b[0m                         Traceback (most recent call last)",
      "\u001b[0;32m<ipython-input-18-5cd3df5a9f98>\u001b[0m in \u001b[0;36m<module>\u001b[0;34m\u001b[0m\n\u001b[1;32m     38\u001b[0m \u001b[0;34m\u001b[0m\u001b[0m\n\u001b[1;32m     39\u001b[0m \u001b[0;34m\u001b[0m\u001b[0m\n\u001b[0;32m---> 40\u001b[0;31m \u001b[0mexport_congressional_gensim_models\u001b[0m\u001b[0;34m(\u001b[0m\u001b[0;34m'stanford_congressional_records_subsets/'\u001b[0m\u001b[0;34m)\u001b[0m\u001b[0;34m\u001b[0m\u001b[0;34m\u001b[0m\u001b[0m\n\u001b[0m",
      "\u001b[0;32m<ipython-input-18-5cd3df5a9f98>\u001b[0m in \u001b[0;36mexport_congressional_gensim_models\u001b[0;34m(dir_path)\u001b[0m\n\u001b[1;32m     20\u001b[0m                                              \u001b[0mworkers\u001b[0m \u001b[0;34m=\u001b[0m \u001b[0mn\u001b[0m\u001b[0;34m,\u001b[0m\u001b[0;34m\u001b[0m\u001b[0;34m\u001b[0m\u001b[0m\n\u001b[1;32m     21\u001b[0m                                              \u001b[0mmin_count\u001b[0m \u001b[0;34m=\u001b[0m \u001b[0;36m20\u001b[0m\u001b[0;34m,\u001b[0m \u001b[0;31m# remove words stated less than 20 times\u001b[0m\u001b[0;34m\u001b[0m\u001b[0;34m\u001b[0m\u001b[0m\n\u001b[0;32m---> 22\u001b[0;31m                                              size = 100) # size of neuralnet layers; default is 100 - go higher for larger corpora \n\u001b[0m\u001b[1;32m     23\u001b[0m \u001b[0;34m\u001b[0m\u001b[0m\n\u001b[1;32m     24\u001b[0m         \u001b[0mextention_position\u001b[0m \u001b[0;34m=\u001b[0m \u001b[0mfname\u001b[0m\u001b[0;34m.\u001b[0m\u001b[0mindex\u001b[0m\u001b[0;34m(\u001b[0m\u001b[0;34m'.'\u001b[0m\u001b[0;34m)\u001b[0m\u001b[0;34m\u001b[0m\u001b[0;34m\u001b[0m\u001b[0m\n",
      "\u001b[0;32m/hpc/applications/anaconda/3/lib/python3.6/site-packages/gensim/models/word2vec.py\u001b[0m in \u001b[0;36m__init__\u001b[0;34m(self, sentences, corpus_file, size, alpha, window, min_count, max_vocab_size, sample, seed, workers, min_alpha, sg, hs, negative, ns_exponent, cbow_mean, hashfxn, iter, null_word, trim_rule, sorted_vocab, batch_words, compute_loss, callbacks, max_final_vocab)\u001b[0m\n\u001b[1;32m    781\u001b[0m             \u001b[0mcallbacks\u001b[0m\u001b[0;34m=\u001b[0m\u001b[0mcallbacks\u001b[0m\u001b[0;34m,\u001b[0m \u001b[0mbatch_words\u001b[0m\u001b[0;34m=\u001b[0m\u001b[0mbatch_words\u001b[0m\u001b[0;34m,\u001b[0m \u001b[0mtrim_rule\u001b[0m\u001b[0;34m=\u001b[0m\u001b[0mtrim_rule\u001b[0m\u001b[0;34m,\u001b[0m \u001b[0msg\u001b[0m\u001b[0;34m=\u001b[0m\u001b[0msg\u001b[0m\u001b[0;34m,\u001b[0m \u001b[0malpha\u001b[0m\u001b[0;34m=\u001b[0m\u001b[0malpha\u001b[0m\u001b[0;34m,\u001b[0m \u001b[0mwindow\u001b[0m\u001b[0;34m=\u001b[0m\u001b[0mwindow\u001b[0m\u001b[0;34m,\u001b[0m\u001b[0;34m\u001b[0m\u001b[0;34m\u001b[0m\u001b[0m\n\u001b[1;32m    782\u001b[0m             \u001b[0mseed\u001b[0m\u001b[0;34m=\u001b[0m\u001b[0mseed\u001b[0m\u001b[0;34m,\u001b[0m \u001b[0mhs\u001b[0m\u001b[0;34m=\u001b[0m\u001b[0mhs\u001b[0m\u001b[0;34m,\u001b[0m \u001b[0mnegative\u001b[0m\u001b[0;34m=\u001b[0m\u001b[0mnegative\u001b[0m\u001b[0;34m,\u001b[0m \u001b[0mcbow_mean\u001b[0m\u001b[0;34m=\u001b[0m\u001b[0mcbow_mean\u001b[0m\u001b[0;34m,\u001b[0m \u001b[0mmin_alpha\u001b[0m\u001b[0;34m=\u001b[0m\u001b[0mmin_alpha\u001b[0m\u001b[0;34m,\u001b[0m \u001b[0mcompute_loss\u001b[0m\u001b[0;34m=\u001b[0m\u001b[0mcompute_loss\u001b[0m\u001b[0;34m,\u001b[0m\u001b[0;34m\u001b[0m\u001b[0;34m\u001b[0m\u001b[0m\n\u001b[0;32m--> 783\u001b[0;31m             fast_version=FAST_VERSION)\n\u001b[0m\u001b[1;32m    784\u001b[0m \u001b[0;34m\u001b[0m\u001b[0m\n\u001b[1;32m    785\u001b[0m     def _do_train_epoch(self, corpus_file, thread_id, offset, cython_vocab, thread_private_mem, cur_epoch,\n",
      "\u001b[0;32m/hpc/applications/anaconda/3/lib/python3.6/site-packages/gensim/models/base_any2vec.py\u001b[0m in \u001b[0;36m__init__\u001b[0;34m(self, sentences, corpus_file, workers, vector_size, epochs, callbacks, batch_words, trim_rule, sg, alpha, window, seed, hs, negative, ns_exponent, cbow_mean, min_alpha, compute_loss, fast_version, **kwargs)\u001b[0m\n\u001b[1;32m    761\u001b[0m                 \u001b[0msentences\u001b[0m\u001b[0;34m=\u001b[0m\u001b[0msentences\u001b[0m\u001b[0;34m,\u001b[0m \u001b[0mcorpus_file\u001b[0m\u001b[0;34m=\u001b[0m\u001b[0mcorpus_file\u001b[0m\u001b[0;34m,\u001b[0m \u001b[0mtotal_examples\u001b[0m\u001b[0;34m=\u001b[0m\u001b[0mself\u001b[0m\u001b[0;34m.\u001b[0m\u001b[0mcorpus_count\u001b[0m\u001b[0;34m,\u001b[0m\u001b[0;34m\u001b[0m\u001b[0;34m\u001b[0m\u001b[0m\n\u001b[1;32m    762\u001b[0m                 \u001b[0mtotal_words\u001b[0m\u001b[0;34m=\u001b[0m\u001b[0mself\u001b[0m\u001b[0;34m.\u001b[0m\u001b[0mcorpus_total_words\u001b[0m\u001b[0;34m,\u001b[0m \u001b[0mepochs\u001b[0m\u001b[0;34m=\u001b[0m\u001b[0mself\u001b[0m\u001b[0;34m.\u001b[0m\u001b[0mepochs\u001b[0m\u001b[0;34m,\u001b[0m \u001b[0mstart_alpha\u001b[0m\u001b[0;34m=\u001b[0m\u001b[0mself\u001b[0m\u001b[0;34m.\u001b[0m\u001b[0malpha\u001b[0m\u001b[0;34m,\u001b[0m\u001b[0;34m\u001b[0m\u001b[0;34m\u001b[0m\u001b[0m\n\u001b[0;32m--> 763\u001b[0;31m                 end_alpha=self.min_alpha, compute_loss=compute_loss)\n\u001b[0m\u001b[1;32m    764\u001b[0m         \u001b[0;32melse\u001b[0m\u001b[0;34m:\u001b[0m\u001b[0;34m\u001b[0m\u001b[0;34m\u001b[0m\u001b[0m\n\u001b[1;32m    765\u001b[0m             \u001b[0;32mif\u001b[0m \u001b[0mtrim_rule\u001b[0m \u001b[0;32mis\u001b[0m \u001b[0;32mnot\u001b[0m \u001b[0;32mNone\u001b[0m\u001b[0;34m:\u001b[0m\u001b[0;34m\u001b[0m\u001b[0;34m\u001b[0m\u001b[0m\n",
      "\u001b[0;32m/hpc/applications/anaconda/3/lib/python3.6/site-packages/gensim/models/word2vec.py\u001b[0m in \u001b[0;36mtrain\u001b[0;34m(self, sentences, corpus_file, total_examples, total_words, epochs, start_alpha, end_alpha, word_count, queue_factor, report_delay, compute_loss, callbacks)\u001b[0m\n\u001b[1;32m    908\u001b[0m             \u001b[0msentences\u001b[0m\u001b[0;34m=\u001b[0m\u001b[0msentences\u001b[0m\u001b[0;34m,\u001b[0m \u001b[0mcorpus_file\u001b[0m\u001b[0;34m=\u001b[0m\u001b[0mcorpus_file\u001b[0m\u001b[0;34m,\u001b[0m \u001b[0mtotal_examples\u001b[0m\u001b[0;34m=\u001b[0m\u001b[0mtotal_examples\u001b[0m\u001b[0;34m,\u001b[0m \u001b[0mtotal_words\u001b[0m\u001b[0;34m=\u001b[0m\u001b[0mtotal_words\u001b[0m\u001b[0;34m,\u001b[0m\u001b[0;34m\u001b[0m\u001b[0;34m\u001b[0m\u001b[0m\n\u001b[1;32m    909\u001b[0m             \u001b[0mepochs\u001b[0m\u001b[0;34m=\u001b[0m\u001b[0mepochs\u001b[0m\u001b[0;34m,\u001b[0m \u001b[0mstart_alpha\u001b[0m\u001b[0;34m=\u001b[0m\u001b[0mstart_alpha\u001b[0m\u001b[0;34m,\u001b[0m \u001b[0mend_alpha\u001b[0m\u001b[0;34m=\u001b[0m\u001b[0mend_alpha\u001b[0m\u001b[0;34m,\u001b[0m \u001b[0mword_count\u001b[0m\u001b[0;34m=\u001b[0m\u001b[0mword_count\u001b[0m\u001b[0;34m,\u001b[0m\u001b[0;34m\u001b[0m\u001b[0;34m\u001b[0m\u001b[0m\n\u001b[0;32m--> 910\u001b[0;31m             queue_factor=queue_factor, report_delay=report_delay, compute_loss=compute_loss, callbacks=callbacks)\n\u001b[0m\u001b[1;32m    911\u001b[0m \u001b[0;34m\u001b[0m\u001b[0m\n\u001b[1;32m    912\u001b[0m     \u001b[0;32mdef\u001b[0m \u001b[0mscore\u001b[0m\u001b[0;34m(\u001b[0m\u001b[0mself\u001b[0m\u001b[0;34m,\u001b[0m \u001b[0msentences\u001b[0m\u001b[0;34m,\u001b[0m \u001b[0mtotal_sentences\u001b[0m\u001b[0;34m=\u001b[0m\u001b[0mint\u001b[0m\u001b[0;34m(\u001b[0m\u001b[0;36m1e6\u001b[0m\u001b[0;34m)\u001b[0m\u001b[0;34m,\u001b[0m \u001b[0mchunksize\u001b[0m\u001b[0;34m=\u001b[0m\u001b[0;36m100\u001b[0m\u001b[0;34m,\u001b[0m \u001b[0mqueue_factor\u001b[0m\u001b[0;34m=\u001b[0m\u001b[0;36m2\u001b[0m\u001b[0;34m,\u001b[0m \u001b[0mreport_delay\u001b[0m\u001b[0;34m=\u001b[0m\u001b[0;36m1\u001b[0m\u001b[0;34m)\u001b[0m\u001b[0;34m:\u001b[0m\u001b[0;34m\u001b[0m\u001b[0;34m\u001b[0m\u001b[0m\n",
      "\u001b[0;32m/hpc/applications/anaconda/3/lib/python3.6/site-packages/gensim/models/base_any2vec.py\u001b[0m in \u001b[0;36mtrain\u001b[0;34m(self, sentences, corpus_file, total_examples, total_words, epochs, start_alpha, end_alpha, word_count, queue_factor, report_delay, compute_loss, callbacks, **kwargs)\u001b[0m\n\u001b[1;32m   1079\u001b[0m             \u001b[0mtotal_words\u001b[0m\u001b[0;34m=\u001b[0m\u001b[0mtotal_words\u001b[0m\u001b[0;34m,\u001b[0m \u001b[0mepochs\u001b[0m\u001b[0;34m=\u001b[0m\u001b[0mepochs\u001b[0m\u001b[0;34m,\u001b[0m \u001b[0mstart_alpha\u001b[0m\u001b[0;34m=\u001b[0m\u001b[0mstart_alpha\u001b[0m\u001b[0;34m,\u001b[0m \u001b[0mend_alpha\u001b[0m\u001b[0;34m=\u001b[0m\u001b[0mend_alpha\u001b[0m\u001b[0;34m,\u001b[0m \u001b[0mword_count\u001b[0m\u001b[0;34m=\u001b[0m\u001b[0mword_count\u001b[0m\u001b[0;34m,\u001b[0m\u001b[0;34m\u001b[0m\u001b[0;34m\u001b[0m\u001b[0m\n\u001b[1;32m   1080\u001b[0m             \u001b[0mqueue_factor\u001b[0m\u001b[0;34m=\u001b[0m\u001b[0mqueue_factor\u001b[0m\u001b[0;34m,\u001b[0m \u001b[0mreport_delay\u001b[0m\u001b[0;34m=\u001b[0m\u001b[0mreport_delay\u001b[0m\u001b[0;34m,\u001b[0m \u001b[0mcompute_loss\u001b[0m\u001b[0;34m=\u001b[0m\u001b[0mcompute_loss\u001b[0m\u001b[0;34m,\u001b[0m \u001b[0mcallbacks\u001b[0m\u001b[0;34m=\u001b[0m\u001b[0mcallbacks\u001b[0m\u001b[0;34m,\u001b[0m\u001b[0;34m\u001b[0m\u001b[0;34m\u001b[0m\u001b[0m\n\u001b[0;32m-> 1081\u001b[0;31m             **kwargs)\n\u001b[0m\u001b[1;32m   1082\u001b[0m \u001b[0;34m\u001b[0m\u001b[0m\n\u001b[1;32m   1083\u001b[0m     \u001b[0;32mdef\u001b[0m \u001b[0m_get_job_params\u001b[0m\u001b[0;34m(\u001b[0m\u001b[0mself\u001b[0m\u001b[0;34m,\u001b[0m \u001b[0mcur_epoch\u001b[0m\u001b[0;34m)\u001b[0m\u001b[0;34m:\u001b[0m\u001b[0;34m\u001b[0m\u001b[0;34m\u001b[0m\u001b[0m\n",
      "\u001b[0;32m/hpc/applications/anaconda/3/lib/python3.6/site-packages/gensim/models/base_any2vec.py\u001b[0m in \u001b[0;36mtrain\u001b[0;34m(self, data_iterable, corpus_file, epochs, total_examples, total_words, queue_factor, report_delay, callbacks, **kwargs)\u001b[0m\n\u001b[1;32m    551\u001b[0m                 trained_word_count_epoch, raw_word_count_epoch, job_tally_epoch = self._train_epoch(\n\u001b[1;32m    552\u001b[0m                     \u001b[0mdata_iterable\u001b[0m\u001b[0;34m,\u001b[0m \u001b[0mcur_epoch\u001b[0m\u001b[0;34m=\u001b[0m\u001b[0mcur_epoch\u001b[0m\u001b[0;34m,\u001b[0m \u001b[0mtotal_examples\u001b[0m\u001b[0;34m=\u001b[0m\u001b[0mtotal_examples\u001b[0m\u001b[0;34m,\u001b[0m\u001b[0;34m\u001b[0m\u001b[0;34m\u001b[0m\u001b[0m\n\u001b[0;32m--> 553\u001b[0;31m                     total_words=total_words, queue_factor=queue_factor, report_delay=report_delay)\n\u001b[0m\u001b[1;32m    554\u001b[0m             \u001b[0;32melse\u001b[0m\u001b[0;34m:\u001b[0m\u001b[0;34m\u001b[0m\u001b[0;34m\u001b[0m\u001b[0m\n\u001b[1;32m    555\u001b[0m                 trained_word_count_epoch, raw_word_count_epoch, job_tally_epoch = self._train_epoch_corpusfile(\n",
      "\u001b[0;32m/hpc/applications/anaconda/3/lib/python3.6/site-packages/gensim/models/base_any2vec.py\u001b[0m in \u001b[0;36m_train_epoch\u001b[0;34m(self, data_iterable, cur_epoch, total_examples, total_words, queue_factor, report_delay)\u001b[0m\n\u001b[1;32m    487\u001b[0m         trained_word_count, raw_word_count, job_tally = self._log_epoch_progress(\n\u001b[1;32m    488\u001b[0m             \u001b[0mprogress_queue\u001b[0m\u001b[0;34m,\u001b[0m \u001b[0mjob_queue\u001b[0m\u001b[0;34m,\u001b[0m \u001b[0mcur_epoch\u001b[0m\u001b[0;34m=\u001b[0m\u001b[0mcur_epoch\u001b[0m\u001b[0;34m,\u001b[0m \u001b[0mtotal_examples\u001b[0m\u001b[0;34m=\u001b[0m\u001b[0mtotal_examples\u001b[0m\u001b[0;34m,\u001b[0m \u001b[0mtotal_words\u001b[0m\u001b[0;34m=\u001b[0m\u001b[0mtotal_words\u001b[0m\u001b[0;34m,\u001b[0m\u001b[0;34m\u001b[0m\u001b[0;34m\u001b[0m\u001b[0m\n\u001b[0;32m--> 489\u001b[0;31m             report_delay=report_delay, is_corpus_file_mode=False)\n\u001b[0m\u001b[1;32m    490\u001b[0m \u001b[0;34m\u001b[0m\u001b[0m\n\u001b[1;32m    491\u001b[0m         \u001b[0;32mreturn\u001b[0m \u001b[0mtrained_word_count\u001b[0m\u001b[0;34m,\u001b[0m \u001b[0mraw_word_count\u001b[0m\u001b[0;34m,\u001b[0m \u001b[0mjob_tally\u001b[0m\u001b[0;34m\u001b[0m\u001b[0;34m\u001b[0m\u001b[0m\n",
      "\u001b[0;32m/hpc/applications/anaconda/3/lib/python3.6/site-packages/gensim/models/base_any2vec.py\u001b[0m in \u001b[0;36m_log_epoch_progress\u001b[0;34m(self, progress_queue, job_queue, cur_epoch, total_examples, total_words, report_delay, is_corpus_file_mode)\u001b[0m\n\u001b[1;32m    344\u001b[0m \u001b[0;34m\u001b[0m\u001b[0m\n\u001b[1;32m    345\u001b[0m         \u001b[0;32mwhile\u001b[0m \u001b[0munfinished_worker_count\u001b[0m \u001b[0;34m>\u001b[0m \u001b[0;36m0\u001b[0m\u001b[0;34m:\u001b[0m\u001b[0;34m\u001b[0m\u001b[0;34m\u001b[0m\u001b[0m\n\u001b[0;32m--> 346\u001b[0;31m             \u001b[0mreport\u001b[0m \u001b[0;34m=\u001b[0m \u001b[0mprogress_queue\u001b[0m\u001b[0;34m.\u001b[0m\u001b[0mget\u001b[0m\u001b[0;34m(\u001b[0m\u001b[0;34m)\u001b[0m  \u001b[0;31m# blocks if workers too slow\u001b[0m\u001b[0;34m\u001b[0m\u001b[0;34m\u001b[0m\u001b[0m\n\u001b[0m\u001b[1;32m    347\u001b[0m             \u001b[0;32mif\u001b[0m \u001b[0mreport\u001b[0m \u001b[0;32mis\u001b[0m \u001b[0;32mNone\u001b[0m\u001b[0;34m:\u001b[0m  \u001b[0;31m# a thread reporting that it finished\u001b[0m\u001b[0;34m\u001b[0m\u001b[0;34m\u001b[0m\u001b[0m\n\u001b[1;32m    348\u001b[0m                 \u001b[0munfinished_worker_count\u001b[0m \u001b[0;34m-=\u001b[0m \u001b[0;36m1\u001b[0m\u001b[0;34m\u001b[0m\u001b[0;34m\u001b[0m\u001b[0m\n",
      "\u001b[0;32m/hpc/applications/anaconda/3/lib/python3.6/queue.py\u001b[0m in \u001b[0;36mget\u001b[0;34m(self, block, timeout)\u001b[0m\n\u001b[1;32m    162\u001b[0m             \u001b[0;32melif\u001b[0m \u001b[0mtimeout\u001b[0m \u001b[0;32mis\u001b[0m \u001b[0;32mNone\u001b[0m\u001b[0;34m:\u001b[0m\u001b[0;34m\u001b[0m\u001b[0;34m\u001b[0m\u001b[0m\n\u001b[1;32m    163\u001b[0m                 \u001b[0;32mwhile\u001b[0m \u001b[0;32mnot\u001b[0m \u001b[0mself\u001b[0m\u001b[0;34m.\u001b[0m\u001b[0m_qsize\u001b[0m\u001b[0;34m(\u001b[0m\u001b[0;34m)\u001b[0m\u001b[0;34m:\u001b[0m\u001b[0;34m\u001b[0m\u001b[0;34m\u001b[0m\u001b[0m\n\u001b[0;32m--> 164\u001b[0;31m                     \u001b[0mself\u001b[0m\u001b[0;34m.\u001b[0m\u001b[0mnot_empty\u001b[0m\u001b[0;34m.\u001b[0m\u001b[0mwait\u001b[0m\u001b[0;34m(\u001b[0m\u001b[0;34m)\u001b[0m\u001b[0;34m\u001b[0m\u001b[0;34m\u001b[0m\u001b[0m\n\u001b[0m\u001b[1;32m    165\u001b[0m             \u001b[0;32melif\u001b[0m \u001b[0mtimeout\u001b[0m \u001b[0;34m<\u001b[0m \u001b[0;36m0\u001b[0m\u001b[0;34m:\u001b[0m\u001b[0;34m\u001b[0m\u001b[0;34m\u001b[0m\u001b[0m\n\u001b[1;32m    166\u001b[0m                 \u001b[0;32mraise\u001b[0m \u001b[0mValueError\u001b[0m\u001b[0;34m(\u001b[0m\u001b[0;34m\"'timeout' must be a non-negative number\"\u001b[0m\u001b[0;34m)\u001b[0m\u001b[0;34m\u001b[0m\u001b[0;34m\u001b[0m\u001b[0m\n",
      "\u001b[0;32m/hpc/applications/anaconda/3/lib/python3.6/threading.py\u001b[0m in \u001b[0;36mwait\u001b[0;34m(self, timeout)\u001b[0m\n\u001b[1;32m    293\u001b[0m         \u001b[0;32mtry\u001b[0m\u001b[0;34m:\u001b[0m    \u001b[0;31m# restore state no matter what (e.g., KeyboardInterrupt)\u001b[0m\u001b[0;34m\u001b[0m\u001b[0;34m\u001b[0m\u001b[0m\n\u001b[1;32m    294\u001b[0m             \u001b[0;32mif\u001b[0m \u001b[0mtimeout\u001b[0m \u001b[0;32mis\u001b[0m \u001b[0;32mNone\u001b[0m\u001b[0;34m:\u001b[0m\u001b[0;34m\u001b[0m\u001b[0;34m\u001b[0m\u001b[0m\n\u001b[0;32m--> 295\u001b[0;31m                 \u001b[0mwaiter\u001b[0m\u001b[0;34m.\u001b[0m\u001b[0macquire\u001b[0m\u001b[0;34m(\u001b[0m\u001b[0;34m)\u001b[0m\u001b[0;34m\u001b[0m\u001b[0;34m\u001b[0m\u001b[0m\n\u001b[0m\u001b[1;32m    296\u001b[0m                 \u001b[0mgotit\u001b[0m \u001b[0;34m=\u001b[0m \u001b[0;32mTrue\u001b[0m\u001b[0;34m\u001b[0m\u001b[0;34m\u001b[0m\u001b[0m\n\u001b[1;32m    297\u001b[0m             \u001b[0;32melse\u001b[0m\u001b[0;34m:\u001b[0m\u001b[0;34m\u001b[0m\u001b[0;34m\u001b[0m\u001b[0m\n",
      "\u001b[0;31mKeyboardInterrupt\u001b[0m: "
     ]
    }
   ],
   "source": [
    "# this is all going in word-embeddings -- make it go to a diff folder \n",
    "\n",
    "def export_congressional_gensim_models(dir_path):\n",
    "    file_names = []\n",
    "    cycle = 0\n",
    "    \n",
    "    for fname in os.listdir(dir_path):\n",
    "        file_names.append(fname)\n",
    "        \n",
    "    for fname in file_names:\n",
    "        cycle = cycle + 1\n",
    "        \n",
    "        imported_data = pd.read_csv(dir_path + fname)\n",
    "        \n",
    "        sentences_df = parallelize_operation(imported_data, str_split_sentences, n)\n",
    "        \n",
    "        sentences_df['sentence'] = sentences_df['sentence'].str.split()\n",
    "        \n",
    "        period_model = gensim.models.Word2Vec(sentences = sentences_df['sentence'],\n",
    "                                             workers = n, \n",
    "                                             min_count = 20, # remove words stated less than 20 times\n",
    "                                             size = 100) # size of neuralnet layers; default is 100 - go higher for larger corpora \n",
    "        \n",
    "        extention_position = fname.index('.')\n",
    "        fname = fname[0:extention_position]\n",
    "        \n",
    "        #period_model.save(add somethign about period + '_model')\n",
    "        \n",
    "        if cycle == 1:\n",
    "            congress_model = period_model\n",
    "        else:\n",
    "            congress_model.build_vocab(sentences_df['sentence'], update = True)\n",
    "            congress_model.train(sentences_df['sentence'], total_examples = period_model.corpus_count, epochs = period_model.epochs)\n",
    "        \n",
    "        save_name = os.path.join(dir_path, fname)\n",
    "        \n",
    "        congress_model.save(save_name + '_model')\n",
    "                      \n",
    "\n",
    "export_congressional_gensim_models('stanford_congressional_records_subsets/')  "
   ]
  },
  {
   "cell_type": "code",
   "execution_count": 22,
   "metadata": {},
   "outputs": [],
   "source": [
    "congress_model = gensim.models.Word2Vec.load('/users/sbuongiorno/democracy-lab/word-embeddings/stanford_congressional_records_subsets/stanford_congressional_records1873_1874_model') # contains the list of all unique words in pre-trained word2vec vectors"
   ]
  },
  {
   "cell_type": "code",
   "execution_count": 24,
   "metadata": {},
   "outputs": [],
   "source": [
    "congress_w2v_vocabulary = congress_model.wv.vocab"
   ]
  },
  {
   "cell_type": "code",
   "execution_count": 25,
   "metadata": {},
   "outputs": [
    {
     "data": {
      "text/plain": [
       "['the',\n",
       " 'of',\n",
       " 'to',\n",
       " 'and',\n",
       " 'that',\n",
       " 'I',\n",
       " 'in',\n",
       " 'a',\n",
       " 'is',\n",
       " 'it',\n",
       " 'be',\n",
       " 'for',\n",
       " 'this',\n",
       " 'not',\n",
       " 'as',\n",
       " 'by',\n",
       " 'have',\n",
       " 'was',\n",
       " 'from',\n",
       " 'on',\n",
       " 'The',\n",
       " 'which',\n",
       " 'will',\n",
       " 'or',\n",
       " 'at']"
      ]
     },
     "execution_count": 25,
     "metadata": {},
     "output_type": "execute_result"
    }
   ],
   "source": [
    "congress_model.wv.index2word[:25]"
   ]
  },
  {
   "cell_type": "code",
   "execution_count": 26,
   "metadata": {},
   "outputs": [
    {
     "data": {
      "text/plain": [
       "15327"
      ]
     },
     "execution_count": 26,
     "metadata": {},
     "output_type": "execute_result"
    }
   ],
   "source": [
    "len(congress_model.wv.index2word)"
   ]
  },
  {
   "cell_type": "code",
   "execution_count": 27,
   "metadata": {},
   "outputs": [
    {
     "data": {
      "text/plain": [
       "array([[ 1.73035562e+00, -6.83970094e-01, -2.69009709e-01, ...,\n",
       "         3.92869741e-01, -8.13241079e-02, -6.10144734e-01],\n",
       "       [ 1.76975167e+00, -1.46722076e-02, -4.42213297e-01, ...,\n",
       "         6.75639212e-01,  1.39195370e-02, -7.84029961e-01],\n",
       "       [ 9.16211843e-01, -8.73500168e-01,  1.89974701e+00, ...,\n",
       "         4.91572767e-01,  1.01502645e+00, -1.67135492e-01],\n",
       "       ...,\n",
       "       [ 2.01857984e-02, -4.97993231e-02, -2.06858143e-02, ...,\n",
       "        -1.01056248e-01,  3.14819254e-02, -3.12528685e-02],\n",
       "       [ 5.89295104e-02, -1.70368829e-03,  1.27697602e-01, ...,\n",
       "        -2.35911578e-01, -1.18444666e-01, -7.70635530e-02],\n",
       "       [ 6.27761930e-02, -1.31842718e-01,  1.25894830e-01, ...,\n",
       "        -1.82212010e-01, -8.32660496e-02,  4.40259390e-02]], dtype=float32)"
      ]
     },
     "execution_count": 27,
     "metadata": {},
     "output_type": "execute_result"
    }
   ],
   "source": [
    "congress_model.wv.vectors"
   ]
  },
  {
   "cell_type": "code",
   "execution_count": 28,
   "metadata": {},
   "outputs": [
    {
     "data": {
      "text/plain": [
       "'and'"
      ]
     },
     "execution_count": 28,
     "metadata": {},
     "output_type": "execute_result"
    }
   ],
   "source": [
    "congress_model.wv.index2word[3]"
   ]
  },
  {
   "cell_type": "code",
   "execution_count": 29,
   "metadata": {},
   "outputs": [
    {
     "data": {
      "text/plain": [
       "array([ 0.91621184, -0.87350017,  1.899747  ,  1.905248  , -0.13984899,\n",
       "       -1.0875859 ,  1.6942468 , -0.01040702,  1.8601773 ,  2.709001  ,\n",
       "       -0.24671529, -2.486799  , -0.9311729 ,  0.28369635,  1.1143824 ,\n",
       "       -1.2657373 ,  0.58928347, -0.147861  ,  0.11638104, -0.80986816,\n",
       "        0.9408491 , -2.6817534 , -0.44196448, -2.5782387 ,  0.9019148 ,\n",
       "        0.04292612,  0.29616672,  1.1208102 , -0.63703114, -0.28486174,\n",
       "        1.4621372 , -0.74971825, -0.9556688 , -0.32937533,  0.1302492 ,\n",
       "        1.4080564 ,  1.229292  ,  0.18882783,  1.1709342 , -1.3881642 ,\n",
       "        1.0525256 ,  0.5111599 ,  0.05191733, -1.5173302 , -0.93335575,\n",
       "       -0.50936973, -0.20901261,  1.8754948 ,  0.5607795 , -1.0483916 ,\n",
       "       -0.47771373,  1.0070051 , -0.47526026, -1.0236734 , -1.7460467 ,\n",
       "       -2.1290226 , -1.4244438 ,  0.11539432,  0.90179926,  1.3103766 ,\n",
       "        0.512915  , -0.16312021, -1.2417433 ,  1.3376906 , -0.49068815,\n",
       "       -1.2018003 ,  1.584356  ,  0.31289983, -0.28954217,  1.3765568 ,\n",
       "        2.4800081 , -0.67764324, -1.5330877 , -0.96118784,  2.1529686 ,\n",
       "        1.3222066 , -1.2469205 ,  1.5045137 ,  1.7814437 , -1.5373058 ,\n",
       "       -0.52180403, -0.90622437,  0.21490458,  0.9778082 ,  1.2446356 ,\n",
       "        0.9666302 ,  1.271274  , -1.5870007 , -0.39055166, -0.6679828 ,\n",
       "       -0.8408751 ,  1.0088519 , -1.6686109 , -1.3167557 ,  1.3809677 ,\n",
       "        1.1763123 , -0.22929583,  0.49157277,  1.0150265 , -0.16713549],\n",
       "      dtype=float32)"
      ]
     },
     "execution_count": 29,
     "metadata": {},
     "output_type": "execute_result"
    }
   ],
   "source": [
    "congress_model.wv['to']"
   ]
  },
  {
   "cell_type": "code",
   "execution_count": 30,
   "metadata": {},
   "outputs": [
    {
     "data": {
      "text/plain": [
       "array([ 0.25987232, -1.0454421 ,  0.55559415, -1.0159976 ,  0.20438798,\n",
       "       -0.2817539 , -0.444001  ,  0.6758486 ,  0.7846123 ,  1.1649584 ,\n",
       "       -0.24571837, -0.9608447 ,  0.566566  ,  0.59756935,  1.2640162 ,\n",
       "        0.01420574,  0.6141216 , -0.6792223 , -0.39184752, -0.32092163,\n",
       "        0.7508321 , -0.63225496, -1.4306395 ,  0.21366134,  0.2802836 ,\n",
       "        0.3817243 , -1.0148244 ,  0.15586749,  1.0278411 , -1.3139789 ,\n",
       "        0.13459414,  0.02274267,  0.99231356,  0.2764427 , -0.5354334 ,\n",
       "        0.11765855,  0.8595166 , -1.9107814 ,  2.4422991 , -0.6925129 ,\n",
       "       -0.07926845,  0.586401  ,  0.09067354, -0.6419713 ,  0.3716558 ,\n",
       "       -1.0815433 ,  0.41559333,  1.065362  , -0.7503217 ,  0.45964354,\n",
       "        0.87521446,  0.27853864,  0.29807135, -0.18738072,  0.5378493 ,\n",
       "        0.5734402 , -0.6965925 , -0.19923292, -1.0329779 ,  0.89816874,\n",
       "        0.49004483, -0.77272165, -1.9950471 ,  0.9752638 , -0.5072653 ,\n",
       "        0.1952957 ,  0.02216992,  1.2731632 , -0.05519395,  1.1732687 ,\n",
       "        0.35680392,  0.21180198, -1.1539359 , -0.60683787,  0.5199582 ,\n",
       "        1.2770743 ,  0.2769506 , -0.56800246,  0.31435877,  0.07918427,\n",
       "        0.35855135,  1.0772176 ,  0.92930734,  0.46107167,  0.6259181 ,\n",
       "        0.7618069 ,  0.60621464, -0.36561158,  0.08861659, -0.8580908 ,\n",
       "       -0.22630976, -0.09776402, -2.252134  , -0.5246687 ,  1.2781751 ,\n",
       "        1.0612104 , -0.64274657,  0.7054868 , -0.30200428, -0.6027239 ],\n",
       "      dtype=float32)"
      ]
     },
     "execution_count": 30,
     "metadata": {},
     "output_type": "execute_result"
    }
   ],
   "source": [
    "congress_model.wv.vectors[3]"
   ]
  },
  {
   "cell_type": "code",
   "execution_count": 31,
   "metadata": {},
   "outputs": [
    {
     "data": {
      "text/plain": [
       "[('man', 1.0),\n",
       " ('lawyer', 0.7873023748397827),\n",
       " ('mai', 0.7688322067260742),\n",
       " ('merchant', 0.7556109428405762),\n",
       " ('mian', 0.7486206293106079),\n",
       " ('soldier', 0.7367701530456543),\n",
       " ('mani', 0.7314112186431885),\n",
       " ('man.', 0.7275295257568359),\n",
       " ('witness', 0.722841739654541),\n",
       " ('citizen', 0.7098455429077148)]"
      ]
     },
     "execution_count": 31,
     "metadata": {},
     "output_type": "execute_result"
    }
   ],
   "source": [
    "man_vector = congress_model.wv['man']\n",
    "congress_model.wv.similar_by_vector(man_vector)"
   ]
  },
  {
   "cell_type": "code",
   "execution_count": 32,
   "metadata": {},
   "outputs": [
    {
     "data": {
      "text/plain": [
       "[('woman', 1.0),\n",
       " ('mau', 0.7746826410293579),\n",
       " ('citizen', 0.7594645023345947),\n",
       " ('soldier', 0.7473379373550415),\n",
       " ('man.', 0.7440284490585327),\n",
       " ('nian', 0.739978551864624),\n",
       " ('mian', 0.7210935950279236),\n",
       " ('foreigner', 0.7194973230361938),\n",
       " ('nan', 0.7192388772964478),\n",
       " ('child', 0.7159484624862671)]"
      ]
     },
     "execution_count": 32,
     "metadata": {},
     "output_type": "execute_result"
    }
   ],
   "source": [
    "woman_vector = congress_model.wv['woman']\n",
    "congress_model.wv.similar_by_vector(woman_vector)"
   ]
  },
  {
   "cell_type": "code",
   "execution_count": 33,
   "metadata": {},
   "outputs": [
    {
     "data": {
      "text/plain": [
       "[('individual', 1.0),\n",
       " ('honest', 0.6153244376182556),\n",
       " ('creditor', 0.6087626814842224),\n",
       " ('individual.', 0.6070312857627869),\n",
       " ('fraudulent', 0.5945761799812317),\n",
       " ('superior', 0.5931428670883179),\n",
       " ('mans', 0.5908780097961426),\n",
       " ('race', 0.5881892442703247),\n",
       " ('society', 0.5822649002075195),\n",
       " ('citizen.', 0.5816092491149902)]"
      ]
     },
     "execution_count": 33,
     "metadata": {},
     "output_type": "execute_result"
    }
   ],
   "source": [
    "individual_vector = congress_model.wv['individual']\n",
    "congress_model.wv.similar_by_vector(individual_vector)"
   ]
  },
  {
   "cell_type": "code",
   "execution_count": 34,
   "metadata": {},
   "outputs": [
    {
     "data": {
      "text/plain": [
       "[('soldier', 1.0),\n",
       " ('merchant', 0.7489620447158813),\n",
       " ('woman', 0.7473379373550415),\n",
       " ('mian', 0.742435097694397),\n",
       " ('pensioner', 0.7392129898071289),\n",
       " ('man', 0.7367701530456543),\n",
       " ('master', 0.7333453893661499),\n",
       " ('nian', 0.7064769268035889),\n",
       " ('soldier.', 0.7063614130020142),\n",
       " ('captain', 0.7043235301971436)]"
      ]
     },
     "execution_count": 34,
     "metadata": {},
     "output_type": "execute_result"
    }
   ],
   "source": [
    "soldier_vector = congress_model.wv['soldier']\n",
    "congress_model.wv.similar_by_vector(soldier_vector)"
   ]
  },
  {
   "cell_type": "code",
   "execution_count": 35,
   "metadata": {},
   "outputs": [
    {
     "data": {
      "text/plain": [
       "0.6369535"
      ]
     },
     "execution_count": 35,
     "metadata": {},
     "output_type": "execute_result"
    }
   ],
   "source": [
    "congress_model.wv.similarity('women', 'men')"
   ]
  },
  {
   "cell_type": "code",
   "execution_count": 36,
   "metadata": {},
   "outputs": [
    {
     "data": {
      "text/plain": [
       "[('children', 0.7649115324020386),\n",
       " ('merchants', 0.7290546298027039),\n",
       " ('children.', 0.6868888735771179),\n",
       " ('rich', 0.6865991353988647),\n",
       " ('wealthy', 0.6686532497406006),\n",
       " ('soldiers', 0.6671132445335388),\n",
       " ('destitute', 0.6626975536346436),\n",
       " ('colored', 0.6594951152801514),\n",
       " ('struggling', 0.6561284065246582),\n",
       " ('noble', 0.6490404605865479),\n",
       " ('poor', 0.6459184288978577),\n",
       " ('widows', 0.644420862197876),\n",
       " ('traders', 0.6371326446533203),\n",
       " ('men', 0.6369534730911255),\n",
       " ('skilled', 0.6349139213562012),\n",
       " ('capitalists', 0.6344571113586426),\n",
       " ('fields', 0.6341192126274109),\n",
       " ('farmers', 0.6315756440162659),\n",
       " ('mechanics', 0.6282700300216675),\n",
       " ('women.', 0.6276668906211853),\n",
       " ('brave', 0.6266326904296875),\n",
       " ('white', 0.6262197494506836),\n",
       " ('laborers', 0.6215879917144775),\n",
       " ('families', 0.618699312210083),\n",
       " ('orphans', 0.6185200214385986),\n",
       " ('bankers', 0.6162791848182678),\n",
       " ('habits', 0.6152911186218262),\n",
       " ('trained', 0.6091819405555725),\n",
       " ('men.', 0.6084530353546143),\n",
       " ('miners', 0.6082907915115356),\n",
       " ('black', 0.608189046382904),\n",
       " ('patriotic', 0.60260009765625),\n",
       " ('bread', 0.6009469628334045),\n",
       " ('starving', 0.5995293855667114),\n",
       " ('soldiers.', 0.5994361042976379),\n",
       " ('poor.', 0.5990910530090332),\n",
       " ('pursuits', 0.5989997386932373),\n",
       " ('boys', 0.5960805416107178),\n",
       " ('race', 0.5955729484558105),\n",
       " ('thousands', 0.5923489332199097),\n",
       " ('agriculturists', 0.5877745151519775),\n",
       " ('masters', 0.5866717100143433),\n",
       " ('nen', 0.5844448208808899),\n",
       " ('race.', 0.5816906094551086),\n",
       " ('whites', 0.5812400579452515),\n",
       " ('culture', 0.5797741413116455),\n",
       " ('sailors', 0.5790680646896362),\n",
       " ('sailors.', 0.5788769721984863),\n",
       " ('citizens.', 0.5787416100502014),\n",
       " ('parents', 0.5760336518287659)]"
      ]
     },
     "execution_count": 36,
     "metadata": {},
     "output_type": "execute_result"
    }
   ],
   "source": [
    "congress_model.wv.most_similar(\"women\", topn = 50)"
   ]
  },
  {
   "cell_type": "code",
   "execution_count": 37,
   "metadata": {},
   "outputs": [
    {
     "data": {
      "text/plain": [
       "[('men.', 0.7389687299728394),\n",
       " ('persons', 0.691087007522583),\n",
       " ('lawyers', 0.6904367804527283),\n",
       " ('Men', 0.6618365049362183),\n",
       " ('merchants', 0.6598010659217834),\n",
       " ('people', 0.6544091701507568),\n",
       " ('gentlemen', 0.6472547054290771),\n",
       " ('nen', 0.6388335824012756),\n",
       " ('women', 0.6369534134864807),\n",
       " ('ones', 0.6297272443771362),\n",
       " ('farmers', 0.6238963603973389),\n",
       " ('capitalists', 0.6147263050079346),\n",
       " ('parties', 0.6117362380027771),\n",
       " ('others', 0.6092349290847778),\n",
       " ('claimants', 0.6037822961807251),\n",
       " ('children', 0.6009438037872314),\n",
       " ('soldiers', 0.5979388952255249),\n",
       " ('foreigners', 0.5976136326789856),\n",
       " ('politicians', 0.5932735204696655),\n",
       " ('ladies', 0.5877074003219604),\n",
       " ('statesmen', 0.5874553918838501),\n",
       " ('witnesses', 0.5851725339889526),\n",
       " ('mcn', 0.5825263261795044),\n",
       " ('man', 0.5695891380310059),\n",
       " ('laborers', 0.5683018565177917),\n",
       " ('meu', 0.5656101703643799),\n",
       " ('mon', 0.5635080337524414),\n",
       " ('boys', 0.5634727478027344),\n",
       " ('negroes', 0.5616649985313416),\n",
       " ('mei', 0.557658314704895),\n",
       " ('bankers', 0.5562137365341187),\n",
       " ('mechanics', 0.5546979308128357),\n",
       " ('officers', 0.548090934753418),\n",
       " ('miners', 0.5452719926834106),\n",
       " ('pilots', 0.5449994802474976),\n",
       " ('printers', 0.5429702401161194),\n",
       " ('Indians', 0.5407403707504272),\n",
       " ('positions', 0.5368291735649109),\n",
       " ('republicans', 0.5356074571609497),\n",
       " ('individuals', 0.5332755446434021),\n",
       " ('skilled', 0.5321464538574219),\n",
       " ('families', 0.5289841294288635),\n",
       " ('struggling', 0.5243566632270813),\n",
       " ('whites', 0.5181846022605896),\n",
       " ('mn', 0.5175377130508423),\n",
       " ('inen', 0.5168136358261108),\n",
       " ('officials', 0.5146636962890625),\n",
       " ('democrats', 0.5142396092414856),\n",
       " ('community', 0.5127623081207275),\n",
       " ('traders', 0.5112526416778564)]"
      ]
     },
     "execution_count": 37,
     "metadata": {},
     "output_type": "execute_result"
    }
   ],
   "source": [
    "congress_model.wv.most_similar(\"men\", topn = 50)"
   ]
  },
  {
   "cell_type": "code",
   "execution_count": 38,
   "metadata": {},
   "outputs": [
    {
     "data": {
      "text/plain": [
       "[('man', 0.9886401295661926),\n",
       " ('lawyer', 0.7529689073562622),\n",
       " ('mai', 0.726211428642273),\n",
       " ('merchant', 0.7248859405517578),\n",
       " ('witness', 0.7051510214805603),\n",
       " ('mian', 0.6982424259185791),\n",
       " ('mani', 0.6860320568084717),\n",
       " ('soldier', 0.6793063879013062),\n",
       " ('man.', 0.6695171594619751),\n",
       " ('person', 0.6633116006851196),\n",
       " ('mal', 0.6597539186477661),\n",
       " ('citizen', 0.6462264060974121),\n",
       " ('farmer', 0.6450856924057007),\n",
       " ('nian', 0.631976842880249),\n",
       " ('mans', 0.6207333207130432),\n",
       " ('mau', 0.6102208495140076),\n",
       " ('claimant', 0.60492342710495),\n",
       " ('creditor', 0.601830005645752),\n",
       " ('foreigner', 0.5999503135681152),\n",
       " ('child', 0.59288489818573),\n",
       " ('party', 0.5820441842079163),\n",
       " ('everybody', 0.5819985866546631),\n",
       " ('manufacturer', 0.5808119177818298),\n",
       " ('woman', 0.580191969871521),\n",
       " ('officer', 0.5729767084121704),\n",
       " ('anybody', 0.5680667757987976),\n",
       " ('importer', 0.5605961680412292),\n",
       " ('men', 0.5604574084281921),\n",
       " ('contractor', 0.5591752529144287),\n",
       " ('inventor', 0.5537365078926086),\n",
       " ('banker', 0.5460249781608582),\n",
       " ('member', 0.5408440232276917),\n",
       " ('nan', 0.5345739126205444),\n",
       " ('mas', 0.5287490487098694),\n",
       " ('he', 0.5284063220024109),\n",
       " ('laborer', 0.5274409055709839),\n",
       " ('debtor', 0.5264487266540527),\n",
       " ('him', 0.5240200161933899),\n",
       " ('lady', 0.5208617448806763),\n",
       " ('inan', 0.5203758478164673)]"
      ]
     },
     "execution_count": 38,
     "metadata": {},
     "output_type": "execute_result"
    }
   ],
   "source": [
    "diff = congress_model.wv['man'] - congress_model.wv['woman']\n",
    "congress_model.wv.similar_by_vector(diff, topn=40)"
   ]
  },
  {
   "cell_type": "code",
   "execution_count": 39,
   "metadata": {},
   "outputs": [
    {
     "data": {
      "text/plain": [
       "[('instructing', 0.42829954624176025),\n",
       " ('Whereas', 0.42052528262138367),\n",
       " ('limiting', 0.4200958013534546),\n",
       " ('regulating', 0.41683223843574524),\n",
       " ('numbered', 0.4070498049259186),\n",
       " ('following', 0.4062387943267822),\n",
       " ('revised', 0.3852912187576294),\n",
       " ('adopted:', 0.38496482372283936),\n",
       " ('thie', 0.38468122482299805),\n",
       " ('Tite', 0.38423842191696167),\n",
       " ('recommend', 0.38337522745132446),\n",
       " ('thatthe', 0.3787490129470825),\n",
       " ('tse', 0.37820374965667725),\n",
       " ('joint', 0.376299649477005),\n",
       " ('bythe', 0.37561750411987305),\n",
       " ('changing', 0.3745558261871338),\n",
       " ('fifteenth', 0.3718433380126953),\n",
       " ('refers.', 0.3667224049568176),\n",
       " ('By', 0.36655232310295105),\n",
       " ('relating', 0.36471980810165405),\n",
       " ('Tile', 0.3620380759239197),\n",
       " ('directing', 0.3603741526603699),\n",
       " ('approved', 0.357888400554657),\n",
       " ('embraced', 0.3556845784187317),\n",
       " ('rejecting', 0.35543444752693176),\n",
       " ('fixing', 0.3542177677154541),\n",
       " ('concurrent', 0.3537256121635437),\n",
       " ('requiring', 0.3499775528907776),\n",
       " ('refers', 0.3488360345363617),\n",
       " ('thc', 0.3485381603240967),\n",
       " ('tbe', 0.3477025032043457),\n",
       " ('construing', 0.3462144732475281),\n",
       " ('relative', 0.34537243843078613),\n",
       " ('asa', 0.3400205075740814),\n",
       " ('repealing', 0.3389521837234497),\n",
       " ('askc', 0.3386949896812439),\n",
       " ('Should', 0.337361216545105),\n",
       " ('authorizes', 0.33717307448387146),\n",
       " ('providing', 0.33516451716423035),\n",
       " ('indicated', 0.3341253697872162)]"
      ]
     },
     "execution_count": 39,
     "metadata": {},
     "output_type": "execute_result"
    }
   ],
   "source": [
    "diff = congress_model.wv['woman'] - congress_model.wv['man']\n",
    "congress_model.wv.similar_by_vector(diff, topn = 40)"
   ]
  },
  {
   "cell_type": "code",
   "execution_count": 40,
   "metadata": {},
   "outputs": [],
   "source": [
    "# come back to rest: https://github.com/stephbuon/democracy-lab/blob/main/word-embeddings/workhorse-parallel-context-vectors.ipynb"
   ]
  },
  {
   "cell_type": "code",
   "execution_count": 41,
   "metadata": {},
   "outputs": [],
   "source": [
    "#keyword1 = 'feminine'  # define the keyword you're looking for. you can change this variable as many times as you want.\n",
    "#enddate = 1950\n",
    "#########  after the first run, use this line to call the old data without generating it again\n",
    "#keyword_context = []\n",
    "#dates_found = []\n",
    "\n",
    "#for p in range(0, 18) :\n",
    "\n",
    "#    period1 = periodnames[p]\n",
    "#    print('working on ', period1)\n",
    "#    period_model = gensim.models.Word2Vec.load('model-' + str(period1)) # to load a saved model\n",
    "\n",
    "    ## analysis\n",
    "#    if keyword1 in period_model.wv.vocab:\n",
    "#        print('found ', keyword1)\n",
    "#        keyword_context_period = period_model.wv.most_similar(keyword1, topn = 5000) # extract the context of how women were talked about in that period\n",
    "#        keyword_context.append(keyword_context_period) # save the context of how women were talked about for later\n",
    "#        dates_found.append(period1)\n",
    "\n"
   ]
  },
  {
   "cell_type": "code",
   "execution_count": 48,
   "metadata": {},
   "outputs": [],
   "source": [
    "keyword = 'woman'"
   ]
  },
  {
   "cell_type": "code",
   "execution_count": 49,
   "metadata": {},
   "outputs": [],
   "source": [
    "keyword_context = []\n",
    "\n",
    "dir_path = '/users/sbuongiorno/diagnostics'\n",
    "    \n",
    "for fname in os.listdir(dir_path):\n",
    "    if '_model' in fname:\n",
    "        congress_model = gensim.models.Word2Vec.load(fname)\n",
    "        if keyword in congress_model.wv.vocab:\n",
    "            keyword_context_period = congress_model.wv.most_similar(keyword, topn = 1000)\n",
    "            keyword_context.append(keyword_context_period)\n",
    "        else: \n",
    "            pass\n"
   ]
  },
  {
   "cell_type": "code",
   "execution_count": 53,
   "metadata": {},
   "outputs": [
    {
     "data": {
      "text/plain": [
       "[('mau', 0.7833964228630066),\n",
       " ('citizen', 0.7581620216369629),\n",
       " ('soldier', 0.7527076601982117),\n",
       " ('nian', 0.7463874816894531),\n",
       " ('man.', 0.7352272868156433),\n",
       " ('child', 0.7283610105514526),\n",
       " ('mian', 0.7250927090644836),\n",
       " ('foreigner', 0.7204998731613159),\n",
       " ('nan', 0.7189040184020996),\n",
       " ('lady', 0.7056132555007935),\n",
       " ('citizen.', 0.7028462290763855),\n",
       " ('mai', 0.696204662322998),\n",
       " ('man', 0.6869451999664307),\n",
       " ('mani', 0.6857932209968567),\n",
       " ('statesman', 0.6771718263626099)]"
      ]
     },
     "execution_count": 53,
     "metadata": {},
     "output_type": "execute_result"
    }
   ],
   "source": [
    "keyword_context[0][:15]"
   ]
  },
  {
   "cell_type": "code",
   "execution_count": 59,
   "metadata": {},
   "outputs": [
    {
     "data": {
      "text/plain": [
       "['mau', 'citizen', 'soldier', 'nian', 'man.']"
      ]
     },
     "execution_count": 59,
     "metadata": {},
     "output_type": "execute_result"
    }
   ],
   "source": [
    "[elem[0] for elem in keyword_context[0]][:5]"
   ]
  },
  {
   "cell_type": "code",
   "execution_count": 62,
   "metadata": {},
   "outputs": [
    {
     "data": {
      "text/plain": [
       "[0.7833964228630066,\n",
       " 0.7581620216369629,\n",
       " 0.7527076601982117,\n",
       " 0.7463874816894531,\n",
       " 0.7352272868156433]"
      ]
     },
     "execution_count": 62,
     "metadata": {},
     "output_type": "execute_result"
    }
   ],
   "source": [
    "[elem[1] for elem in keyword_context[0]][:5]"
   ]
  },
  {
   "cell_type": "code",
   "execution_count": null,
   "metadata": {},
   "outputs": [],
   "source": [
    "# maybe I want a df with 10 words per period and their scores "
   ]
  },
  {
   "cell_type": "code",
   "execution_count": null,
   "metadata": {},
   "outputs": [],
   "source": []
  },
  {
   "cell_type": "code",
   "execution_count": null,
   "metadata": {},
   "outputs": [],
   "source": []
  },
  {
   "cell_type": "code",
   "execution_count": null,
   "metadata": {},
   "outputs": [],
   "source": []
  },
  {
   "cell_type": "code",
   "execution_count": null,
   "metadata": {},
   "outputs": [],
   "source": []
  },
  {
   "cell_type": "code",
   "execution_count": null,
   "metadata": {},
   "outputs": [],
   "source": []
  }
 ],
 "metadata": {
  "kernelspec": {
   "display_name": "Python 3",
   "language": "python",
   "name": "python3"
  },
  "language_info": {
   "codemirror_mode": {
    "name": "ipython",
    "version": 3
   },
   "file_extension": ".py",
   "mimetype": "text/x-python",
   "name": "python",
   "nbconvert_exporter": "python",
   "pygments_lexer": "ipython3",
   "version": "3.6.7"
  }
 },
 "nbformat": 4,
 "nbformat_minor": 4
}
