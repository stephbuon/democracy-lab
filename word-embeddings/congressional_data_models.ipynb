{
 "cells": [
  {
   "cell_type": "code",
   "execution_count": 5,
   "metadata": {},
   "outputs": [
    {
     "name": "stdout",
     "output_type": "stream",
     "text": [
      "Reading /scratch/group/oit_research_data/stanford_congress/hein-bound/speeches_043.txt...\n",
      "Reading /scratch/group/oit_research_data/stanford_congress/hein-bound/speeches_044.txt...\n",
      "Reading /scratch/group/oit_research_data/stanford_congress/hein-bound/speeches_045.txt...\n"
     ]
    },
    {
     "ename": "KeyboardInterrupt",
     "evalue": "",
     "output_type": "error",
     "traceback": [
      "\u001b[0;31m---------------------------------------------------------------------------\u001b[0m",
      "\u001b[0;31mKeyboardInterrupt\u001b[0m                         Traceback (most recent call last)",
      "\u001b[0;32m<ipython-input-5-d054dacade4b>\u001b[0m in \u001b[0;36m<module>\u001b[0;34m\u001b[0m\n\u001b[1;32m     67\u001b[0m     \u001b[0;32mreturn\u001b[0m \u001b[0mall_data\u001b[0m\u001b[0;34m\u001b[0m\u001b[0;34m\u001b[0m\u001b[0m\n\u001b[1;32m     68\u001b[0m \u001b[0;34m\u001b[0m\u001b[0m\n\u001b[0;32m---> 69\u001b[0;31m \u001b[0mcongressional_data\u001b[0m \u001b[0;34m=\u001b[0m \u001b[0mimport_congressional_data\u001b[0m\u001b[0;34m(\u001b[0m\u001b[0mclean_data\u001b[0m \u001b[0;34m=\u001b[0m \u001b[0;32mTrue\u001b[0m\u001b[0;34m)\u001b[0m\u001b[0;34m\u001b[0m\u001b[0;34m\u001b[0m\u001b[0m\n\u001b[0m",
      "\u001b[0;32m<ipython-input-5-d054dacade4b>\u001b[0m in \u001b[0;36mimport_congressional_data\u001b[0;34m(*args, **kwargs)\u001b[0m\n\u001b[1;32m     54\u001b[0m     \u001b[0mdescription_files\u001b[0m \u001b[0;34m=\u001b[0m \u001b[0mread_descriptions\u001b[0m\u001b[0;34m(\u001b[0m\u001b[0;34m)\u001b[0m\u001b[0;34m\u001b[0m\u001b[0;34m\u001b[0m\u001b[0m\n\u001b[1;32m     55\u001b[0m \u001b[0;34m\u001b[0m\u001b[0m\n\u001b[0;32m---> 56\u001b[0;31m     \u001b[0mspeeches_df\u001b[0m \u001b[0;34m=\u001b[0m \u001b[0mpd\u001b[0m\u001b[0;34m.\u001b[0m\u001b[0mconcat\u001b[0m\u001b[0;34m(\u001b[0m\u001b[0;34m(\u001b[0m\u001b[0mreader\u001b[0m\u001b[0;34m(\u001b[0m\u001b[0mfn\u001b[0m\u001b[0;34m)\u001b[0m \u001b[0;32mfor\u001b[0m \u001b[0mfn\u001b[0m \u001b[0;32min\u001b[0m \u001b[0mspeech_files\u001b[0m\u001b[0;34m)\u001b[0m\u001b[0;34m)\u001b[0m\u001b[0;34m\u001b[0m\u001b[0;34m\u001b[0m\u001b[0m\n\u001b[0m\u001b[1;32m     57\u001b[0m     \u001b[0mspeeches_df\u001b[0m\u001b[0;34m.\u001b[0m\u001b[0mdropna\u001b[0m\u001b[0;34m(\u001b[0m\u001b[0mhow\u001b[0m\u001b[0;34m=\u001b[0m\u001b[0;34m'any'\u001b[0m\u001b[0;34m,\u001b[0m \u001b[0minplace\u001b[0m\u001b[0;34m=\u001b[0m\u001b[0;32mTrue\u001b[0m\u001b[0;34m)\u001b[0m\u001b[0;34m\u001b[0m\u001b[0;34m\u001b[0m\u001b[0m\n\u001b[1;32m     58\u001b[0m \u001b[0;34m\u001b[0m\u001b[0m\n",
      "\u001b[0;32m/hpc/applications/anaconda/3/lib/python3.6/site-packages/pandas/core/reshape/concat.py\u001b[0m in \u001b[0;36mconcat\u001b[0;34m(objs, axis, join, join_axes, ignore_index, keys, levels, names, verify_integrity, sort, copy)\u001b[0m\n\u001b[1;32m    253\u001b[0m         \u001b[0mverify_integrity\u001b[0m\u001b[0;34m=\u001b[0m\u001b[0mverify_integrity\u001b[0m\u001b[0;34m,\u001b[0m\u001b[0;34m\u001b[0m\u001b[0;34m\u001b[0m\u001b[0m\n\u001b[1;32m    254\u001b[0m         \u001b[0mcopy\u001b[0m\u001b[0;34m=\u001b[0m\u001b[0mcopy\u001b[0m\u001b[0;34m,\u001b[0m\u001b[0;34m\u001b[0m\u001b[0;34m\u001b[0m\u001b[0m\n\u001b[0;32m--> 255\u001b[0;31m         \u001b[0msort\u001b[0m\u001b[0;34m=\u001b[0m\u001b[0msort\u001b[0m\u001b[0;34m,\u001b[0m\u001b[0;34m\u001b[0m\u001b[0;34m\u001b[0m\u001b[0m\n\u001b[0m\u001b[1;32m    256\u001b[0m     )\n\u001b[1;32m    257\u001b[0m \u001b[0;34m\u001b[0m\u001b[0m\n",
      "\u001b[0;32m/hpc/applications/anaconda/3/lib/python3.6/site-packages/pandas/core/reshape/concat.py\u001b[0m in \u001b[0;36m__init__\u001b[0;34m(self, objs, axis, join, join_axes, keys, levels, names, ignore_index, verify_integrity, copy, sort)\u001b[0m\n\u001b[1;32m    299\u001b[0m             \u001b[0mobjs\u001b[0m \u001b[0;34m=\u001b[0m \u001b[0;34m[\u001b[0m\u001b[0mobjs\u001b[0m\u001b[0;34m[\u001b[0m\u001b[0mk\u001b[0m\u001b[0;34m]\u001b[0m \u001b[0;32mfor\u001b[0m \u001b[0mk\u001b[0m \u001b[0;32min\u001b[0m \u001b[0mkeys\u001b[0m\u001b[0;34m]\u001b[0m\u001b[0;34m\u001b[0m\u001b[0;34m\u001b[0m\u001b[0m\n\u001b[1;32m    300\u001b[0m         \u001b[0;32melse\u001b[0m\u001b[0;34m:\u001b[0m\u001b[0;34m\u001b[0m\u001b[0;34m\u001b[0m\u001b[0m\n\u001b[0;32m--> 301\u001b[0;31m             \u001b[0mobjs\u001b[0m \u001b[0;34m=\u001b[0m \u001b[0mlist\u001b[0m\u001b[0;34m(\u001b[0m\u001b[0mobjs\u001b[0m\u001b[0;34m)\u001b[0m\u001b[0;34m\u001b[0m\u001b[0;34m\u001b[0m\u001b[0m\n\u001b[0m\u001b[1;32m    302\u001b[0m \u001b[0;34m\u001b[0m\u001b[0m\n\u001b[1;32m    303\u001b[0m         \u001b[0;32mif\u001b[0m \u001b[0mlen\u001b[0m\u001b[0;34m(\u001b[0m\u001b[0mobjs\u001b[0m\u001b[0;34m)\u001b[0m \u001b[0;34m==\u001b[0m \u001b[0;36m0\u001b[0m\u001b[0;34m:\u001b[0m\u001b[0;34m\u001b[0m\u001b[0;34m\u001b[0m\u001b[0m\n",
      "\u001b[0;32m<ipython-input-5-d054dacade4b>\u001b[0m in \u001b[0;36m<genexpr>\u001b[0;34m(.0)\u001b[0m\n\u001b[1;32m     54\u001b[0m     \u001b[0mdescription_files\u001b[0m \u001b[0;34m=\u001b[0m \u001b[0mread_descriptions\u001b[0m\u001b[0;34m(\u001b[0m\u001b[0;34m)\u001b[0m\u001b[0;34m\u001b[0m\u001b[0;34m\u001b[0m\u001b[0m\n\u001b[1;32m     55\u001b[0m \u001b[0;34m\u001b[0m\u001b[0m\n\u001b[0;32m---> 56\u001b[0;31m     \u001b[0mspeeches_df\u001b[0m \u001b[0;34m=\u001b[0m \u001b[0mpd\u001b[0m\u001b[0;34m.\u001b[0m\u001b[0mconcat\u001b[0m\u001b[0;34m(\u001b[0m\u001b[0;34m(\u001b[0m\u001b[0mreader\u001b[0m\u001b[0;34m(\u001b[0m\u001b[0mfn\u001b[0m\u001b[0;34m)\u001b[0m \u001b[0;32mfor\u001b[0m \u001b[0mfn\u001b[0m \u001b[0;32min\u001b[0m \u001b[0mspeech_files\u001b[0m\u001b[0;34m)\u001b[0m\u001b[0;34m)\u001b[0m\u001b[0;34m\u001b[0m\u001b[0;34m\u001b[0m\u001b[0m\n\u001b[0m\u001b[1;32m     57\u001b[0m     \u001b[0mspeeches_df\u001b[0m\u001b[0;34m.\u001b[0m\u001b[0mdropna\u001b[0m\u001b[0;34m(\u001b[0m\u001b[0mhow\u001b[0m\u001b[0;34m=\u001b[0m\u001b[0;34m'any'\u001b[0m\u001b[0;34m,\u001b[0m \u001b[0minplace\u001b[0m\u001b[0;34m=\u001b[0m\u001b[0;32mTrue\u001b[0m\u001b[0;34m)\u001b[0m\u001b[0;34m\u001b[0m\u001b[0;34m\u001b[0m\u001b[0m\n\u001b[1;32m     58\u001b[0m \u001b[0;34m\u001b[0m\u001b[0m\n",
      "\u001b[0;32m<ipython-input-5-d054dacade4b>\u001b[0m in \u001b[0;36mreader\u001b[0;34m(fn)\u001b[0m\n\u001b[1;32m     37\u001b[0m \u001b[0;32mdef\u001b[0m \u001b[0mreader\u001b[0m\u001b[0;34m(\u001b[0m\u001b[0mfn\u001b[0m\u001b[0;34m)\u001b[0m\u001b[0;34m:\u001b[0m\u001b[0;34m\u001b[0m\u001b[0;34m\u001b[0m\u001b[0m\n\u001b[1;32m     38\u001b[0m     \u001b[0mprint\u001b[0m\u001b[0;34m(\u001b[0m\u001b[0;34mf'Reading {fn}...'\u001b[0m\u001b[0;34m)\u001b[0m\u001b[0;34m\u001b[0m\u001b[0;34m\u001b[0m\u001b[0m\n\u001b[0;32m---> 39\u001b[0;31m     \u001b[0;32mreturn\u001b[0m \u001b[0mpd\u001b[0m\u001b[0;34m.\u001b[0m\u001b[0mread_csv\u001b[0m\u001b[0;34m(\u001b[0m\u001b[0mfn\u001b[0m\u001b[0;34m,\u001b[0m \u001b[0msep\u001b[0m\u001b[0;34m=\u001b[0m\u001b[0;34m'|'\u001b[0m\u001b[0;34m,\u001b[0m \u001b[0mencoding\u001b[0m\u001b[0;34m=\u001b[0m\u001b[0;34m\"ISO-8859-1\"\u001b[0m\u001b[0;34m,\u001b[0m \u001b[0merror_bad_lines\u001b[0m\u001b[0;34m=\u001b[0m\u001b[0;32mFalse\u001b[0m\u001b[0;34m,\u001b[0m \u001b[0mwarn_bad_lines\u001b[0m\u001b[0;34m=\u001b[0m\u001b[0;32mFalse\u001b[0m\u001b[0;34m,\u001b[0m \u001b[0mquoting\u001b[0m\u001b[0;34m=\u001b[0m\u001b[0mcsv\u001b[0m\u001b[0;34m.\u001b[0m\u001b[0mQUOTE_NONE\u001b[0m\u001b[0;34m)\u001b[0m\u001b[0;34m\u001b[0m\u001b[0;34m\u001b[0m\u001b[0m\n\u001b[0m\u001b[1;32m     40\u001b[0m \u001b[0;34m\u001b[0m\u001b[0m\n\u001b[1;32m     41\u001b[0m \u001b[0;32mdef\u001b[0m \u001b[0mclean_data\u001b[0m\u001b[0;34m(\u001b[0m\u001b[0mall_data\u001b[0m\u001b[0;34m)\u001b[0m\u001b[0;34m:\u001b[0m\u001b[0;34m\u001b[0m\u001b[0;34m\u001b[0m\u001b[0m\n",
      "\u001b[0;32m/hpc/applications/anaconda/3/lib/python3.6/site-packages/pandas/io/parsers.py\u001b[0m in \u001b[0;36mparser_f\u001b[0;34m(filepath_or_buffer, sep, delimiter, header, names, index_col, usecols, squeeze, prefix, mangle_dupe_cols, dtype, engine, converters, true_values, false_values, skipinitialspace, skiprows, skipfooter, nrows, na_values, keep_default_na, na_filter, verbose, skip_blank_lines, parse_dates, infer_datetime_format, keep_date_col, date_parser, dayfirst, cache_dates, iterator, chunksize, compression, thousands, decimal, lineterminator, quotechar, quoting, doublequote, escapechar, comment, encoding, dialect, error_bad_lines, warn_bad_lines, delim_whitespace, low_memory, memory_map, float_precision)\u001b[0m\n\u001b[1;32m    683\u001b[0m         )\n\u001b[1;32m    684\u001b[0m \u001b[0;34m\u001b[0m\u001b[0m\n\u001b[0;32m--> 685\u001b[0;31m         \u001b[0;32mreturn\u001b[0m \u001b[0m_read\u001b[0m\u001b[0;34m(\u001b[0m\u001b[0mfilepath_or_buffer\u001b[0m\u001b[0;34m,\u001b[0m \u001b[0mkwds\u001b[0m\u001b[0;34m)\u001b[0m\u001b[0;34m\u001b[0m\u001b[0;34m\u001b[0m\u001b[0m\n\u001b[0m\u001b[1;32m    686\u001b[0m \u001b[0;34m\u001b[0m\u001b[0m\n\u001b[1;32m    687\u001b[0m     \u001b[0mparser_f\u001b[0m\u001b[0;34m.\u001b[0m\u001b[0m__name__\u001b[0m \u001b[0;34m=\u001b[0m \u001b[0mname\u001b[0m\u001b[0;34m\u001b[0m\u001b[0;34m\u001b[0m\u001b[0m\n",
      "\u001b[0;32m/hpc/applications/anaconda/3/lib/python3.6/site-packages/pandas/io/parsers.py\u001b[0m in \u001b[0;36m_read\u001b[0;34m(filepath_or_buffer, kwds)\u001b[0m\n\u001b[1;32m    461\u001b[0m \u001b[0;34m\u001b[0m\u001b[0m\n\u001b[1;32m    462\u001b[0m     \u001b[0;32mtry\u001b[0m\u001b[0;34m:\u001b[0m\u001b[0;34m\u001b[0m\u001b[0;34m\u001b[0m\u001b[0m\n\u001b[0;32m--> 463\u001b[0;31m         \u001b[0mdata\u001b[0m \u001b[0;34m=\u001b[0m \u001b[0mparser\u001b[0m\u001b[0;34m.\u001b[0m\u001b[0mread\u001b[0m\u001b[0;34m(\u001b[0m\u001b[0mnrows\u001b[0m\u001b[0;34m)\u001b[0m\u001b[0;34m\u001b[0m\u001b[0;34m\u001b[0m\u001b[0m\n\u001b[0m\u001b[1;32m    464\u001b[0m     \u001b[0;32mfinally\u001b[0m\u001b[0;34m:\u001b[0m\u001b[0;34m\u001b[0m\u001b[0;34m\u001b[0m\u001b[0m\n\u001b[1;32m    465\u001b[0m         \u001b[0mparser\u001b[0m\u001b[0;34m.\u001b[0m\u001b[0mclose\u001b[0m\u001b[0;34m(\u001b[0m\u001b[0;34m)\u001b[0m\u001b[0;34m\u001b[0m\u001b[0;34m\u001b[0m\u001b[0m\n",
      "\u001b[0;32m/hpc/applications/anaconda/3/lib/python3.6/site-packages/pandas/io/parsers.py\u001b[0m in \u001b[0;36mread\u001b[0;34m(self, nrows)\u001b[0m\n\u001b[1;32m   1152\u001b[0m     \u001b[0;32mdef\u001b[0m \u001b[0mread\u001b[0m\u001b[0;34m(\u001b[0m\u001b[0mself\u001b[0m\u001b[0;34m,\u001b[0m \u001b[0mnrows\u001b[0m\u001b[0;34m=\u001b[0m\u001b[0;32mNone\u001b[0m\u001b[0;34m)\u001b[0m\u001b[0;34m:\u001b[0m\u001b[0;34m\u001b[0m\u001b[0;34m\u001b[0m\u001b[0m\n\u001b[1;32m   1153\u001b[0m         \u001b[0mnrows\u001b[0m \u001b[0;34m=\u001b[0m \u001b[0m_validate_integer\u001b[0m\u001b[0;34m(\u001b[0m\u001b[0;34m\"nrows\"\u001b[0m\u001b[0;34m,\u001b[0m \u001b[0mnrows\u001b[0m\u001b[0;34m)\u001b[0m\u001b[0;34m\u001b[0m\u001b[0;34m\u001b[0m\u001b[0m\n\u001b[0;32m-> 1154\u001b[0;31m         \u001b[0mret\u001b[0m \u001b[0;34m=\u001b[0m \u001b[0mself\u001b[0m\u001b[0;34m.\u001b[0m\u001b[0m_engine\u001b[0m\u001b[0;34m.\u001b[0m\u001b[0mread\u001b[0m\u001b[0;34m(\u001b[0m\u001b[0mnrows\u001b[0m\u001b[0;34m)\u001b[0m\u001b[0;34m\u001b[0m\u001b[0;34m\u001b[0m\u001b[0m\n\u001b[0m\u001b[1;32m   1155\u001b[0m \u001b[0;34m\u001b[0m\u001b[0m\n\u001b[1;32m   1156\u001b[0m         \u001b[0;31m# May alter columns / col_dict\u001b[0m\u001b[0;34m\u001b[0m\u001b[0;34m\u001b[0m\u001b[0;34m\u001b[0m\u001b[0m\n",
      "\u001b[0;32m/hpc/applications/anaconda/3/lib/python3.6/site-packages/pandas/io/parsers.py\u001b[0m in \u001b[0;36mread\u001b[0;34m(self, nrows)\u001b[0m\n\u001b[1;32m   2057\u001b[0m     \u001b[0;32mdef\u001b[0m \u001b[0mread\u001b[0m\u001b[0;34m(\u001b[0m\u001b[0mself\u001b[0m\u001b[0;34m,\u001b[0m \u001b[0mnrows\u001b[0m\u001b[0;34m=\u001b[0m\u001b[0;32mNone\u001b[0m\u001b[0;34m)\u001b[0m\u001b[0;34m:\u001b[0m\u001b[0;34m\u001b[0m\u001b[0;34m\u001b[0m\u001b[0m\n\u001b[1;32m   2058\u001b[0m         \u001b[0;32mtry\u001b[0m\u001b[0;34m:\u001b[0m\u001b[0;34m\u001b[0m\u001b[0;34m\u001b[0m\u001b[0m\n\u001b[0;32m-> 2059\u001b[0;31m             \u001b[0mdata\u001b[0m \u001b[0;34m=\u001b[0m \u001b[0mself\u001b[0m\u001b[0;34m.\u001b[0m\u001b[0m_reader\u001b[0m\u001b[0;34m.\u001b[0m\u001b[0mread\u001b[0m\u001b[0;34m(\u001b[0m\u001b[0mnrows\u001b[0m\u001b[0;34m)\u001b[0m\u001b[0;34m\u001b[0m\u001b[0;34m\u001b[0m\u001b[0m\n\u001b[0m\u001b[1;32m   2060\u001b[0m         \u001b[0;32mexcept\u001b[0m \u001b[0mStopIteration\u001b[0m\u001b[0;34m:\u001b[0m\u001b[0;34m\u001b[0m\u001b[0;34m\u001b[0m\u001b[0m\n\u001b[1;32m   2061\u001b[0m             \u001b[0;32mif\u001b[0m \u001b[0mself\u001b[0m\u001b[0;34m.\u001b[0m\u001b[0m_first_chunk\u001b[0m\u001b[0;34m:\u001b[0m\u001b[0;34m\u001b[0m\u001b[0;34m\u001b[0m\u001b[0m\n",
      "\u001b[0;32mpandas/_libs/parsers.pyx\u001b[0m in \u001b[0;36mpandas._libs.parsers.TextReader.read\u001b[0;34m()\u001b[0m\n",
      "\u001b[0;32mpandas/_libs/parsers.pyx\u001b[0m in \u001b[0;36mpandas._libs.parsers.TextReader._read_low_memory\u001b[0;34m()\u001b[0m\n",
      "\u001b[0;32mpandas/_libs/parsers.pyx\u001b[0m in \u001b[0;36mpandas._libs.parsers.TextReader._read_rows\u001b[0;34m()\u001b[0m\n",
      "\u001b[0;32mpandas/_libs/parsers.pyx\u001b[0m in \u001b[0;36mpandas._libs.parsers.TextReader._convert_column_data\u001b[0;34m()\u001b[0m\n",
      "\u001b[0;32mpandas/_libs/parsers.pyx\u001b[0m in \u001b[0;36mpandas._libs.parsers.TextReader._convert_tokens\u001b[0;34m()\u001b[0m\n",
      "\u001b[0;32mpandas/_libs/parsers.pyx\u001b[0m in \u001b[0;36mpandas._libs.parsers.TextReader._convert_with_dtype\u001b[0;34m()\u001b[0m\n",
      "\u001b[0;32m/hpc/applications/anaconda/3/lib/python3.6/site-packages/pandas/core/dtypes/common.py\u001b[0m in \u001b[0;36mis_categorical_dtype\u001b[0;34m(arr_or_dtype)\u001b[0m\n\u001b[1;32m    676\u001b[0m \u001b[0;34m\u001b[0m\u001b[0m\n\u001b[1;32m    677\u001b[0m \u001b[0;34m\u001b[0m\u001b[0m\n\u001b[0;32m--> 678\u001b[0;31m \u001b[0;32mdef\u001b[0m \u001b[0mis_categorical_dtype\u001b[0m\u001b[0;34m(\u001b[0m\u001b[0marr_or_dtype\u001b[0m\u001b[0;34m)\u001b[0m\u001b[0;34m:\u001b[0m\u001b[0;34m\u001b[0m\u001b[0;34m\u001b[0m\u001b[0m\n\u001b[0m\u001b[1;32m    679\u001b[0m     \"\"\"\n\u001b[1;32m    680\u001b[0m     \u001b[0mCheck\u001b[0m \u001b[0mwhether\u001b[0m \u001b[0man\u001b[0m \u001b[0marray\u001b[0m\u001b[0;34m-\u001b[0m\u001b[0mlike\u001b[0m \u001b[0;32mor\u001b[0m \u001b[0mdtype\u001b[0m \u001b[0;32mis\u001b[0m \u001b[0mof\u001b[0m \u001b[0mthe\u001b[0m \u001b[0mCategorical\u001b[0m \u001b[0mdtype\u001b[0m\u001b[0;34m.\u001b[0m\u001b[0;34m\u001b[0m\u001b[0;34m\u001b[0m\u001b[0m\n",
      "\u001b[0;31mKeyboardInterrupt\u001b[0m: "
     ]
    }
   ],
   "source": [
    "import glob\n",
    "import os\n",
    "import csv\n",
    "import pandas as pd\n",
    "import numpy as np \n",
    "\n",
    "def read_speeches():\n",
    "    all_speech_files = glob.glob('/scratch/group/oit_research_data/stanford_congress/hein-bound/speeches_*.txt')\n",
    "    CONGRESS_MIN_THRESHOLD = 1\n",
    "    CONGRESS_MAX_THRESHOLD = 115\n",
    "    \n",
    "    speech_files = []\n",
    "    \n",
    "    for fn in all_speech_files:\n",
    "        number = int(fn.rsplit('_', 1)[-1].split('.')[0])\n",
    "        \n",
    "        if CONGRESS_MIN_THRESHOLD <= number <= CONGRESS_MAX_THRESHOLD:\n",
    "            speech_files.append(fn)\n",
    "            speech_files.sort()\n",
    "    return speech_files\n",
    "\n",
    "def read_descriptions():\n",
    "    all_description_files = glob.glob('/scratch/group/oit_research_data/stanford_congress/hein-bound/descr_*.txt')\n",
    "    CONGRESS_MIN_THRESHOLD = 1\n",
    "    CONGRESS_MAX_THRESHOLD = 115\n",
    "    \n",
    "    description_files = []\n",
    "    \n",
    "    for fn in all_description_files:\n",
    "        number = int(fn.rsplit('_', 1)[-1].split('.')[0])\n",
    "        \n",
    "        if CONGRESS_MIN_THRESHOLD <= number <= CONGRESS_MAX_THRESHOLD:\n",
    "            description_files.append(fn)\n",
    "            description_files.sort()\n",
    "    return description_files\n",
    "        \n",
    "def reader(fn):\n",
    "    print(f'Reading {fn}...')\n",
    "    return pd.read_csv(fn, sep='|', encoding=\"ISO-8859-1\", error_bad_lines=False, warn_bad_lines=False, quoting=csv.QUOTE_NONE)\n",
    "\n",
    "def clean_data(all_data):\n",
    "    all_data = all_data.drop(['chamber', 'speech_id', 'number_within_file', 'speaker', 'first_name'], 1)\n",
    "    all_data = all_data.drop(['last_name', 'state', 'gender', 'line_start', 'line_end', 'file', 'char_count', 'word_count'], 1)\n",
    "    all_data['date']=pd.to_datetime(all_data['date'],format='%Y%m%d')\n",
    "    all_data['year'] = pd.to_datetime(all_data['date']).dt.year\n",
    "    all_data['5yrperiod'] = np.floor(all_data['year'] / 5) * 5 # round each year to the nearest 5 -- by dividing by 5 and \"flooring\" to the lowest integer\n",
    "    all_data = all_data.drop(['date', '5yrperiod'], 1)\n",
    "    all_data['index'] = np.arange(len(all_data)) # create an 'index' column\n",
    "    return all_data\n",
    "    \n",
    "def import_congressional_data(*args, **kwargs):\n",
    "    cd = kwargs.get('clean_data', None)\n",
    "    speech_files = read_speeches()\n",
    "    description_files = read_descriptions()\n",
    "    \n",
    "    speeches_df = pd.concat((reader(fn) for fn in speech_files))\n",
    "    speeches_df.dropna(how='any', inplace=True)\n",
    "    \n",
    "    description_df = pd.concat((reader(fn) for fn in description_files))\n",
    "    \n",
    "    all_data = pd.merge(speeches_df, description_df, on = 'speech_id')\n",
    "    all_data.fillna(0, inplace=True)\n",
    "    \n",
    "    if cd == True:\n",
    "        all_data = clean_data(all_data)\n",
    "    \n",
    "    return all_data\n",
    "\n",
    "congressional_data = import_congressional_data(clean_data = True)"
   ]
  },
  {
   "cell_type": "code",
   "execution_count": 8,
   "metadata": {},
   "outputs": [],
   "source": [
    "import os \n",
    "import pandas as pd \n",
    "from varname import nameof\n",
    "\n",
    "def set_dir(data): \n",
    "    path = os.getcwd()\n",
    "    current_folder = os.path.basename(path)\n",
    "    target_folder = nameof(data) + '_subsets'\n",
    "\n",
    "    if current_folder != target_folder:\n",
    "        os.makedirs(target_folder)\n",
    "        os.chdir(target_folder)\n",
    "        \n",
    "def interval_subset(data, col_name, start, end, intv):\n",
    "    set_dir(data)\n",
    "    \n",
    "    start = start\n",
    "    end = end\n",
    "\n",
    "    while start <= end:\n",
    "        start = start + intv\n",
    "        subset = data[(data[col_name] >= start - intv) & (data[col_name] <= start - 1)]\n",
    "        \n",
    "        descr = str(subset[col_name].iloc[0])\n",
    "        descr_2 = str(subset[col_name]. iloc[-1])\n",
    "        \n",
    "        file_name = \"stanford_congressional_records_\" + descr + \"_\" + descr_2\n",
    "        \n",
    "        subset.to_csv(file_name + \".csv\", index = False)\n",
    "        \n",
    "interval_subset(congressional_data, 'year', 1870, 2010, 5)"
   ]
  },
  {
   "cell_type": "code",
   "execution_count": 68,
   "metadata": {},
   "outputs": [],
   "source": [
    "### starting here"
   ]
  },
  {
   "cell_type": "code",
   "execution_count": 1,
   "metadata": {},
   "outputs": [],
   "source": [
    "#import nltk\n",
    "from multiprocessing import Process, Queue, cpu_count, Pool\n",
    "\n",
    "n = 1\n",
    "\n",
    "def parallelize_operation(df, function, n_cores = n):\n",
    "    split_df = np.array_split(df, n_cores)\n",
    "    pool = Pool(n)\n",
    "    df = pd.concat(pool.map(function, split_df))\n",
    "    pool.close()\n",
    "    pool.join()\n",
    "    return df"
   ]
  },
  {
   "cell_type": "code",
   "execution_count": 2,
   "metadata": {},
   "outputs": [],
   "source": [
    "def split_sentences(df):\n",
    "    split_rule = r\"(?<!\\w\\.\\w.)(?<![A-Z][a-z]\\.)(?<=\\.|\\?)\\s\"\n",
    "    \n",
    "    df['speech'] = df['speech'].apply(lambda x: re.split(split_rule, x))\n",
    "    \n",
    "    df = df.explode('speech')\n",
    "    df.reset_index()\n",
    "    df.rename(columns = {'speech': 'sentence'}, inplace = True)\n",
    "    \n",
    "    return df"
   ]
  },
  {
   "cell_type": "code",
   "execution_count": 3,
   "metadata": {},
   "outputs": [],
   "source": [
    "# The gensim Word2Vec model does not expect strings as its text examples (sentences), \n",
    "# but lists-of-tokens. Thus, it's up to your code to tokenize your text, \n",
    "# before passing it to Word2Vec. "
   ]
  },
  {
   "cell_type": "code",
   "execution_count": 6,
   "metadata": {},
   "outputs": [
    {
     "name": "stdout",
     "output_type": "stream",
     "text": [
      "                                                sentence  year  index\n",
      "0      [The, Secretary, will, read, the, names, of, t...  1873      0\n",
      "0            [The, list, was, read, as, follows:, lion.]  1873      0\n",
      "0                                [Bainbridge, Wadleigh.]  1873      0\n",
      "0                                  [of, New, Hampshire.]  1873      0\n",
      "0                                                 [Hon.]  1873      0\n",
      "...                                                  ...   ...    ...\n",
      "83131  [for, the, expenses, of, said, coninittee, whi...  1874  83131\n",
      "83131                                            [1874.]  1874  83131\n",
      "83131  [and, the, receipts, of, the, SergeantatArms, ...  1874  83131\n",
      "83132  [I, would, like, to, ask, the, gentleman, from...  1874  83132\n",
      "83132  [[Mr., ]IUFFINTON.], the, chairman, of, the, C...  1874  83132\n",
      "\n",
      "[906218 rows x 3 columns]\n"
     ]
    },
    {
     "ename": "KeyboardInterrupt",
     "evalue": "",
     "output_type": "error",
     "traceback": [
      "\u001b[0;31m---------------------------------------------------------------------------\u001b[0m",
      "\u001b[0;31mKeyboardInterrupt\u001b[0m                         Traceback (most recent call last)",
      "\u001b[0;32m<ipython-input-6-8b72b4b540b3>\u001b[0m in \u001b[0;36m<module>\u001b[0;34m\u001b[0m\n\u001b[1;32m     43\u001b[0m \u001b[0;34m\u001b[0m\u001b[0m\n\u001b[1;32m     44\u001b[0m \u001b[0;34m\u001b[0m\u001b[0m\n\u001b[0;32m---> 45\u001b[0;31m \u001b[0mexport_congressional_gensim_models\u001b[0m\u001b[0;34m(\u001b[0m\u001b[0;34m'data_subsets/'\u001b[0m\u001b[0;34m)\u001b[0m\u001b[0;34m\u001b[0m\u001b[0;34m\u001b[0m\u001b[0m\n\u001b[0m",
      "\u001b[0;32m<ipython-input-6-8b72b4b540b3>\u001b[0m in \u001b[0;36mexport_congressional_gensim_models\u001b[0;34m(dir_path)\u001b[0m\n\u001b[1;32m     20\u001b[0m \u001b[0;34m\u001b[0m\u001b[0m\n\u001b[1;32m     21\u001b[0m         \u001b[0;31m#sentences_df['sentence'] = sentences_df.apply(lambda row: nltk.word_tokenize(row['sentence']), axis = 1)\u001b[0m\u001b[0;34m\u001b[0m\u001b[0;34m\u001b[0m\u001b[0;34m\u001b[0m\u001b[0m\n\u001b[0;32m---> 22\u001b[0;31m         \u001b[0msentences_df\u001b[0m\u001b[0;34m[\u001b[0m\u001b[0;34m'sentence'\u001b[0m\u001b[0;34m]\u001b[0m \u001b[0;34m=\u001b[0m \u001b[0msentences_df\u001b[0m\u001b[0;34m[\u001b[0m\u001b[0;34m'sentence'\u001b[0m\u001b[0;34m]\u001b[0m\u001b[0;34m.\u001b[0m\u001b[0mstr\u001b[0m\u001b[0;34m.\u001b[0m\u001b[0msplit\u001b[0m\u001b[0;34m(\u001b[0m\u001b[0;34m)\u001b[0m\u001b[0;34m\u001b[0m\u001b[0;34m\u001b[0m\u001b[0m\n\u001b[0m\u001b[1;32m     23\u001b[0m \u001b[0;34m\u001b[0m\u001b[0m\n\u001b[1;32m     24\u001b[0m         \u001b[0mprint\u001b[0m\u001b[0;34m(\u001b[0m\u001b[0msentences_df\u001b[0m\u001b[0;34m)\u001b[0m\u001b[0;34m\u001b[0m\u001b[0;34m\u001b[0m\u001b[0m\n",
      "\u001b[0;32m/hpc/applications/anaconda/3/lib/python3.6/site-packages/pandas/core/strings.py\u001b[0m in \u001b[0;36mwrapper\u001b[0;34m(self, *args, **kwargs)\u001b[0m\n\u001b[1;32m   1841\u001b[0m                 )\n\u001b[1;32m   1842\u001b[0m                 \u001b[0;32mraise\u001b[0m \u001b[0mTypeError\u001b[0m\u001b[0;34m(\u001b[0m\u001b[0mmsg\u001b[0m\u001b[0;34m)\u001b[0m\u001b[0;34m\u001b[0m\u001b[0;34m\u001b[0m\u001b[0m\n\u001b[0;32m-> 1843\u001b[0;31m             \u001b[0;32mreturn\u001b[0m \u001b[0mfunc\u001b[0m\u001b[0;34m(\u001b[0m\u001b[0mself\u001b[0m\u001b[0;34m,\u001b[0m \u001b[0;34m*\u001b[0m\u001b[0margs\u001b[0m\u001b[0;34m,\u001b[0m \u001b[0;34m**\u001b[0m\u001b[0mkwargs\u001b[0m\u001b[0;34m)\u001b[0m\u001b[0;34m\u001b[0m\u001b[0;34m\u001b[0m\u001b[0m\n\u001b[0m\u001b[1;32m   1844\u001b[0m \u001b[0;34m\u001b[0m\u001b[0m\n\u001b[1;32m   1845\u001b[0m         \u001b[0mwrapper\u001b[0m\u001b[0;34m.\u001b[0m\u001b[0m__name__\u001b[0m \u001b[0;34m=\u001b[0m \u001b[0mfunc_name\u001b[0m\u001b[0;34m\u001b[0m\u001b[0;34m\u001b[0m\u001b[0m\n",
      "\u001b[0;32m/hpc/applications/anaconda/3/lib/python3.6/site-packages/pandas/core/strings.py\u001b[0m in \u001b[0;36msplit\u001b[0;34m(self, pat, n, expand)\u001b[0m\n\u001b[1;32m   2559\u001b[0m     \u001b[0;34m@\u001b[0m\u001b[0mforbid_nonstring_types\u001b[0m\u001b[0;34m(\u001b[0m\u001b[0;34m[\u001b[0m\u001b[0;34m\"bytes\"\u001b[0m\u001b[0;34m]\u001b[0m\u001b[0;34m)\u001b[0m\u001b[0;34m\u001b[0m\u001b[0;34m\u001b[0m\u001b[0m\n\u001b[1;32m   2560\u001b[0m     \u001b[0;32mdef\u001b[0m \u001b[0msplit\u001b[0m\u001b[0;34m(\u001b[0m\u001b[0mself\u001b[0m\u001b[0;34m,\u001b[0m \u001b[0mpat\u001b[0m\u001b[0;34m=\u001b[0m\u001b[0;32mNone\u001b[0m\u001b[0;34m,\u001b[0m \u001b[0mn\u001b[0m\u001b[0;34m=\u001b[0m\u001b[0;34m-\u001b[0m\u001b[0;36m1\u001b[0m\u001b[0;34m,\u001b[0m \u001b[0mexpand\u001b[0m\u001b[0;34m=\u001b[0m\u001b[0;32mFalse\u001b[0m\u001b[0;34m)\u001b[0m\u001b[0;34m:\u001b[0m\u001b[0;34m\u001b[0m\u001b[0;34m\u001b[0m\u001b[0m\n\u001b[0;32m-> 2561\u001b[0;31m         \u001b[0mresult\u001b[0m \u001b[0;34m=\u001b[0m \u001b[0mstr_split\u001b[0m\u001b[0;34m(\u001b[0m\u001b[0mself\u001b[0m\u001b[0;34m.\u001b[0m\u001b[0m_parent\u001b[0m\u001b[0;34m,\u001b[0m \u001b[0mpat\u001b[0m\u001b[0;34m,\u001b[0m \u001b[0mn\u001b[0m\u001b[0;34m=\u001b[0m\u001b[0mn\u001b[0m\u001b[0;34m)\u001b[0m\u001b[0;34m\u001b[0m\u001b[0;34m\u001b[0m\u001b[0m\n\u001b[0m\u001b[1;32m   2562\u001b[0m         \u001b[0;32mreturn\u001b[0m \u001b[0mself\u001b[0m\u001b[0;34m.\u001b[0m\u001b[0m_wrap_result\u001b[0m\u001b[0;34m(\u001b[0m\u001b[0mresult\u001b[0m\u001b[0;34m,\u001b[0m \u001b[0mexpand\u001b[0m\u001b[0;34m=\u001b[0m\u001b[0mexpand\u001b[0m\u001b[0;34m)\u001b[0m\u001b[0;34m\u001b[0m\u001b[0;34m\u001b[0m\u001b[0m\n\u001b[1;32m   2563\u001b[0m \u001b[0;34m\u001b[0m\u001b[0m\n",
      "\u001b[0;32m/hpc/applications/anaconda/3/lib/python3.6/site-packages/pandas/core/strings.py\u001b[0m in \u001b[0;36mstr_split\u001b[0;34m(arr, pat, n)\u001b[0m\n\u001b[1;32m   1386\u001b[0m             \u001b[0mregex\u001b[0m \u001b[0;34m=\u001b[0m \u001b[0mre\u001b[0m\u001b[0;34m.\u001b[0m\u001b[0mcompile\u001b[0m\u001b[0;34m(\u001b[0m\u001b[0mpat\u001b[0m\u001b[0;34m)\u001b[0m\u001b[0;34m\u001b[0m\u001b[0;34m\u001b[0m\u001b[0m\n\u001b[1;32m   1387\u001b[0m             \u001b[0mf\u001b[0m \u001b[0;34m=\u001b[0m \u001b[0;32mlambda\u001b[0m \u001b[0mx\u001b[0m\u001b[0;34m:\u001b[0m \u001b[0mregex\u001b[0m\u001b[0;34m.\u001b[0m\u001b[0msplit\u001b[0m\u001b[0;34m(\u001b[0m\u001b[0mx\u001b[0m\u001b[0;34m,\u001b[0m \u001b[0mmaxsplit\u001b[0m\u001b[0;34m=\u001b[0m\u001b[0mn\u001b[0m\u001b[0;34m)\u001b[0m\u001b[0;34m\u001b[0m\u001b[0;34m\u001b[0m\u001b[0m\n\u001b[0;32m-> 1388\u001b[0;31m     \u001b[0mres\u001b[0m \u001b[0;34m=\u001b[0m \u001b[0m_na_map\u001b[0m\u001b[0;34m(\u001b[0m\u001b[0mf\u001b[0m\u001b[0;34m,\u001b[0m \u001b[0marr\u001b[0m\u001b[0;34m)\u001b[0m\u001b[0;34m\u001b[0m\u001b[0;34m\u001b[0m\u001b[0m\n\u001b[0m\u001b[1;32m   1389\u001b[0m     \u001b[0;32mreturn\u001b[0m \u001b[0mres\u001b[0m\u001b[0;34m\u001b[0m\u001b[0;34m\u001b[0m\u001b[0m\n\u001b[1;32m   1390\u001b[0m \u001b[0;34m\u001b[0m\u001b[0m\n",
      "\u001b[0;32m/hpc/applications/anaconda/3/lib/python3.6/site-packages/pandas/core/strings.py\u001b[0m in \u001b[0;36m_na_map\u001b[0;34m(f, arr, na_result, dtype)\u001b[0m\n\u001b[1;32m    103\u001b[0m \u001b[0;32mdef\u001b[0m \u001b[0m_na_map\u001b[0m\u001b[0;34m(\u001b[0m\u001b[0mf\u001b[0m\u001b[0;34m,\u001b[0m \u001b[0marr\u001b[0m\u001b[0;34m,\u001b[0m \u001b[0mna_result\u001b[0m\u001b[0;34m=\u001b[0m\u001b[0mnp\u001b[0m\u001b[0;34m.\u001b[0m\u001b[0mnan\u001b[0m\u001b[0;34m,\u001b[0m \u001b[0mdtype\u001b[0m\u001b[0;34m=\u001b[0m\u001b[0mobject\u001b[0m\u001b[0;34m)\u001b[0m\u001b[0;34m:\u001b[0m\u001b[0;34m\u001b[0m\u001b[0;34m\u001b[0m\u001b[0m\n\u001b[1;32m    104\u001b[0m     \u001b[0;31m# should really _check_ for NA\u001b[0m\u001b[0;34m\u001b[0m\u001b[0;34m\u001b[0m\u001b[0;34m\u001b[0m\u001b[0m\n\u001b[0;32m--> 105\u001b[0;31m     \u001b[0;32mreturn\u001b[0m \u001b[0m_map\u001b[0m\u001b[0;34m(\u001b[0m\u001b[0mf\u001b[0m\u001b[0;34m,\u001b[0m \u001b[0marr\u001b[0m\u001b[0;34m,\u001b[0m \u001b[0mna_mask\u001b[0m\u001b[0;34m=\u001b[0m\u001b[0;32mTrue\u001b[0m\u001b[0;34m,\u001b[0m \u001b[0mna_value\u001b[0m\u001b[0;34m=\u001b[0m\u001b[0mna_result\u001b[0m\u001b[0;34m,\u001b[0m \u001b[0mdtype\u001b[0m\u001b[0;34m=\u001b[0m\u001b[0mdtype\u001b[0m\u001b[0;34m)\u001b[0m\u001b[0;34m\u001b[0m\u001b[0;34m\u001b[0m\u001b[0m\n\u001b[0m\u001b[1;32m    106\u001b[0m \u001b[0;34m\u001b[0m\u001b[0m\n\u001b[1;32m    107\u001b[0m \u001b[0;34m\u001b[0m\u001b[0m\n",
      "\u001b[0;32m/hpc/applications/anaconda/3/lib/python3.6/site-packages/pandas/core/strings.py\u001b[0m in \u001b[0;36m_map\u001b[0;34m(f, arr, na_mask, na_value, dtype)\u001b[0m\n\u001b[1;32m    118\u001b[0m         \u001b[0;32mtry\u001b[0m\u001b[0;34m:\u001b[0m\u001b[0;34m\u001b[0m\u001b[0;34m\u001b[0m\u001b[0m\n\u001b[1;32m    119\u001b[0m             \u001b[0mconvert\u001b[0m \u001b[0;34m=\u001b[0m \u001b[0;32mnot\u001b[0m \u001b[0mall\u001b[0m\u001b[0;34m(\u001b[0m\u001b[0mmask\u001b[0m\u001b[0;34m)\u001b[0m\u001b[0;34m\u001b[0m\u001b[0;34m\u001b[0m\u001b[0m\n\u001b[0;32m--> 120\u001b[0;31m             \u001b[0mresult\u001b[0m \u001b[0;34m=\u001b[0m \u001b[0mlib\u001b[0m\u001b[0;34m.\u001b[0m\u001b[0mmap_infer_mask\u001b[0m\u001b[0;34m(\u001b[0m\u001b[0marr\u001b[0m\u001b[0;34m,\u001b[0m \u001b[0mf\u001b[0m\u001b[0;34m,\u001b[0m \u001b[0mmask\u001b[0m\u001b[0;34m.\u001b[0m\u001b[0mview\u001b[0m\u001b[0;34m(\u001b[0m\u001b[0mnp\u001b[0m\u001b[0;34m.\u001b[0m\u001b[0muint8\u001b[0m\u001b[0;34m)\u001b[0m\u001b[0;34m,\u001b[0m \u001b[0mconvert\u001b[0m\u001b[0;34m)\u001b[0m\u001b[0;34m\u001b[0m\u001b[0;34m\u001b[0m\u001b[0m\n\u001b[0m\u001b[1;32m    121\u001b[0m         \u001b[0;32mexcept\u001b[0m \u001b[0;34m(\u001b[0m\u001b[0mTypeError\u001b[0m\u001b[0;34m,\u001b[0m \u001b[0mAttributeError\u001b[0m\u001b[0;34m)\u001b[0m \u001b[0;32mas\u001b[0m \u001b[0me\u001b[0m\u001b[0;34m:\u001b[0m\u001b[0;34m\u001b[0m\u001b[0;34m\u001b[0m\u001b[0m\n\u001b[1;32m    122\u001b[0m             \u001b[0;31m# Reraise the exception if callable `f` got wrong number of args.\u001b[0m\u001b[0;34m\u001b[0m\u001b[0;34m\u001b[0m\u001b[0;34m\u001b[0m\u001b[0m\n",
      "\u001b[0;32mpandas/_libs/lib.pyx\u001b[0m in \u001b[0;36mpandas._libs.lib.map_infer_mask\u001b[0;34m()\u001b[0m\n",
      "\u001b[0;32m/hpc/applications/anaconda/3/lib/python3.6/site-packages/pandas/core/strings.py\u001b[0m in \u001b[0;36m<lambda>\u001b[0;34m(x)\u001b[0m\n\u001b[1;32m   1375\u001b[0m         \u001b[0;32mif\u001b[0m \u001b[0mn\u001b[0m \u001b[0;32mis\u001b[0m \u001b[0;32mNone\u001b[0m \u001b[0;32mor\u001b[0m \u001b[0mn\u001b[0m \u001b[0;34m==\u001b[0m \u001b[0;36m0\u001b[0m\u001b[0;34m:\u001b[0m\u001b[0;34m\u001b[0m\u001b[0;34m\u001b[0m\u001b[0m\n\u001b[1;32m   1376\u001b[0m             \u001b[0mn\u001b[0m \u001b[0;34m=\u001b[0m \u001b[0;34m-\u001b[0m\u001b[0;36m1\u001b[0m\u001b[0;34m\u001b[0m\u001b[0;34m\u001b[0m\u001b[0m\n\u001b[0;32m-> 1377\u001b[0;31m         \u001b[0mf\u001b[0m \u001b[0;34m=\u001b[0m \u001b[0;32mlambda\u001b[0m \u001b[0mx\u001b[0m\u001b[0;34m:\u001b[0m \u001b[0mx\u001b[0m\u001b[0;34m.\u001b[0m\u001b[0msplit\u001b[0m\u001b[0;34m(\u001b[0m\u001b[0mpat\u001b[0m\u001b[0;34m,\u001b[0m \u001b[0mn\u001b[0m\u001b[0;34m)\u001b[0m\u001b[0;34m\u001b[0m\u001b[0;34m\u001b[0m\u001b[0m\n\u001b[0m\u001b[1;32m   1378\u001b[0m     \u001b[0;32melse\u001b[0m\u001b[0;34m:\u001b[0m\u001b[0;34m\u001b[0m\u001b[0;34m\u001b[0m\u001b[0m\n\u001b[1;32m   1379\u001b[0m         \u001b[0;32mif\u001b[0m \u001b[0mlen\u001b[0m\u001b[0;34m(\u001b[0m\u001b[0mpat\u001b[0m\u001b[0;34m)\u001b[0m \u001b[0;34m==\u001b[0m \u001b[0;36m1\u001b[0m\u001b[0;34m:\u001b[0m\u001b[0;34m\u001b[0m\u001b[0;34m\u001b[0m\u001b[0m\n",
      "\u001b[0;31mKeyboardInterrupt\u001b[0m: "
     ]
    }
   ],
   "source": [
    "import pandas as pd\n",
    "import numpy as np\n",
    "import os\n",
    "import re\n",
    "import gensim\n",
    "\n",
    "def export_congressional_gensim_models(dir_path):\n",
    "    file_names = []\n",
    "    cycle = 0\n",
    "    \n",
    "    for fname in os.listdir(dir_path):\n",
    "        file_names.append(fname)\n",
    "        \n",
    "    for fname in file_names:\n",
    "        cycle = cycle + 1\n",
    "        \n",
    "        imported_data = pd.read_csv(dir_path + fname)\n",
    "        \n",
    "        sentences_df = parallelize_operation(imported_data, split_sentences)\n",
    "        \n",
    "        sentences_df['sentence'] = sentences_df['sentence'].str.split()\n",
    "        \n",
    "        period_model = gensim.models.Word2Vec(sentences = sentences_df['sentence'],\n",
    "                                             workers = n, \n",
    "                                             min_count = 20, # remove words stated less than 20 times\n",
    "                                             size = 100) # size of neuralnet layers; default is 100 - go higher for larger corpora \n",
    "        \n",
    "        extention_position = fname.index('.')\n",
    "        fname = fname[0:extention_position]\n",
    "        \n",
    "        #period_model.save(add somethign about period + '_model')\n",
    "        \n",
    "        if cycle == 1:\n",
    "            congress_model = period_model\n",
    "        else:\n",
    "            congress_model.build_vocab(sentences_df['sentence'], update = True)\n",
    "            congress_model.train(sentences_df['sentence'], total_examples = period_model.corpus_count, epochs = period_model.epochs)\n",
    "            \n",
    "        congress_model.save(fname + '_model')\n",
    "                      \n",
    "\n",
    "export_congressional_gensim_models('data_subsets/')  "
   ]
  },
  {
   "cell_type": "code",
   "execution_count": 7,
   "metadata": {},
   "outputs": [],
   "source": [
    "congress_model = gensim.models.Word2Vec.load('stanford_congressional_records_1873_1874_model')"
   ]
  },
  {
   "cell_type": "code",
   "execution_count": 8,
   "metadata": {},
   "outputs": [],
   "source": [
    "# Load Google news vectors\n",
    "#word2vec_path = \"path_to_the_vectors/GoogleNews-vectors-negative300.bin\"\n",
    "#word2vec = gensim.models.KeyedVectors.load_word2vec_format(word2vec_path, binary=True)\n",
    "\n",
    "congress_model = gensim.models.Word2Vec.load('stanford_congressional_records_1873_1874_model')# contains the list of all unique words in pre-trained word2vec vectors\n",
    "congress_w2v_vocabulary = congress_model.wv.vocab"
   ]
  },
  {
   "cell_type": "code",
   "execution_count": 9,
   "metadata": {},
   "outputs": [
    {
     "data": {
      "text/plain": [
       "['the',\n",
       " 'of',\n",
       " 'to',\n",
       " 'and',\n",
       " 'that',\n",
       " 'I',\n",
       " 'in',\n",
       " 'a',\n",
       " 'is',\n",
       " 'it',\n",
       " 'be',\n",
       " 'for',\n",
       " 'this',\n",
       " 'not',\n",
       " 'as',\n",
       " 'by',\n",
       " 'have',\n",
       " 'was',\n",
       " 'from',\n",
       " 'on',\n",
       " 'The',\n",
       " 'which',\n",
       " 'will',\n",
       " 'or',\n",
       " 'at']"
      ]
     },
     "execution_count": 9,
     "metadata": {},
     "output_type": "execute_result"
    }
   ],
   "source": [
    "congress_model.wv.index2word[:25]"
   ]
  },
  {
   "cell_type": "code",
   "execution_count": 30,
   "metadata": {},
   "outputs": [
    {
     "data": {
      "text/plain": [
       "12786"
      ]
     },
     "execution_count": 30,
     "metadata": {},
     "output_type": "execute_result"
    }
   ],
   "source": [
    "len(congress_model.wv.index2word)"
   ]
  },
  {
   "cell_type": "code",
   "execution_count": 31,
   "metadata": {},
   "outputs": [
    {
     "data": {
      "text/plain": [
       "array([[ 0.60460347,  0.30577746,  0.04732674, ..., -0.1637509 ,\n",
       "         0.8122656 ,  0.91422427],\n",
       "       [ 1.8640128 , -0.4627957 , -0.00588125, ..., -0.17580304,\n",
       "         1.1726897 ,  3.2119944 ],\n",
       "       [ 1.7400634 ,  0.27179623, -0.41134694, ...,  0.5012224 ,\n",
       "         1.3753427 ,  2.5045655 ],\n",
       "       ...,\n",
       "       [-0.36400697,  0.21801034,  0.12883958, ..., -0.03926761,\n",
       "         0.19388047, -0.12139821],\n",
       "       [ 0.00443427,  0.26798034,  0.11281913, ...,  0.02487435,\n",
       "         0.21857229, -0.00399325],\n",
       "       [-0.14769058,  0.15812978, -0.0885343 , ..., -0.09518862,\n",
       "         0.12002692, -0.07296944]], dtype=float32)"
      ]
     },
     "execution_count": 31,
     "metadata": {},
     "output_type": "execute_result"
    }
   ],
   "source": [
    "congress_model.wv.vectors"
   ]
  },
  {
   "cell_type": "code",
   "execution_count": 32,
   "metadata": {},
   "outputs": [
    {
     "data": {
      "text/plain": [
       "'to'"
      ]
     },
     "execution_count": 32,
     "metadata": {},
     "output_type": "execute_result"
    }
   ],
   "source": [
    "congress_model.wv.index2word[3]"
   ]
  },
  {
   "cell_type": "code",
   "execution_count": 34,
   "metadata": {},
   "outputs": [
    {
     "data": {
      "text/plain": [
       "array([ 1.5259914 , -0.06501204,  1.5409822 ,  1.3083979 , -0.09762071,\n",
       "       -0.3784739 , -0.65320337, -0.45095688, -0.20189238,  0.47988546,\n",
       "       -0.79922223, -0.70096254, -0.55282915,  0.67890483,  0.28057677,\n",
       "        3.623499  ,  0.24380912, -0.6631685 , -1.2019287 ,  1.8694769 ,\n",
       "        0.26237366,  2.2759106 ,  2.0318587 , -0.02667681, -0.83172095,\n",
       "        0.81786513,  3.2583039 ,  0.12102979, -0.23105001, -0.20997049,\n",
       "        0.11903524,  1.3914397 , -1.15164   , -0.63356674,  1.4139063 ,\n",
       "       -0.34143248,  0.6979728 , -0.21829842, -0.43481293, -1.7108552 ,\n",
       "        0.39861017,  0.5982425 ,  0.858112  ,  0.37887698,  2.215464  ,\n",
       "       -0.06052481, -1.7100105 , -0.980291  , -1.0175716 , -1.2064841 ,\n",
       "       -0.8480001 ,  1.4861001 , -0.06477726, -0.13914345, -1.2290816 ,\n",
       "        0.92969143,  0.09116568, -0.5941392 , -0.8047061 ,  0.8558362 ,\n",
       "       -0.3209721 ,  3.0910513 ,  0.46904764,  0.93448955, -1.3295171 ,\n",
       "        1.48655   , -1.2432182 ,  1.239149  ,  1.1468074 , -0.11366431,\n",
       "        1.3464209 ,  0.48968115, -0.567803  ,  1.8335845 , -1.2409717 ,\n",
       "       -1.865468  ,  0.66046077,  2.4157166 , -0.45785534, -0.5529319 ,\n",
       "        1.5311644 ,  0.8497933 ,  2.6074293 ,  3.8606565 , -0.02601852,\n",
       "       -1.2102785 , -0.7278145 , -0.9929369 , -1.2268631 ,  0.8575734 ,\n",
       "       -1.1555388 , -1.3079864 , -2.2555938 , -0.0460612 , -2.1884418 ,\n",
       "        1.9284163 ,  2.8677738 , -1.8528106 ,  1.3085878 ,  0.48535308],\n",
       "      dtype=float32)"
      ]
     },
     "execution_count": 34,
     "metadata": {},
     "output_type": "execute_result"
    }
   ],
   "source": [
    "congress_model.wv['to']"
   ]
  },
  {
   "cell_type": "code",
   "execution_count": 35,
   "metadata": {},
   "outputs": [
    {
     "data": {
      "text/plain": [
       "array([ 1.5259914 , -0.06501204,  1.5409822 ,  1.3083979 , -0.09762071,\n",
       "       -0.3784739 , -0.65320337, -0.45095688, -0.20189238,  0.47988546,\n",
       "       -0.79922223, -0.70096254, -0.55282915,  0.67890483,  0.28057677,\n",
       "        3.623499  ,  0.24380912, -0.6631685 , -1.2019287 ,  1.8694769 ,\n",
       "        0.26237366,  2.2759106 ,  2.0318587 , -0.02667681, -0.83172095,\n",
       "        0.81786513,  3.2583039 ,  0.12102979, -0.23105001, -0.20997049,\n",
       "        0.11903524,  1.3914397 , -1.15164   , -0.63356674,  1.4139063 ,\n",
       "       -0.34143248,  0.6979728 , -0.21829842, -0.43481293, -1.7108552 ,\n",
       "        0.39861017,  0.5982425 ,  0.858112  ,  0.37887698,  2.215464  ,\n",
       "       -0.06052481, -1.7100105 , -0.980291  , -1.0175716 , -1.2064841 ,\n",
       "       -0.8480001 ,  1.4861001 , -0.06477726, -0.13914345, -1.2290816 ,\n",
       "        0.92969143,  0.09116568, -0.5941392 , -0.8047061 ,  0.8558362 ,\n",
       "       -0.3209721 ,  3.0910513 ,  0.46904764,  0.93448955, -1.3295171 ,\n",
       "        1.48655   , -1.2432182 ,  1.239149  ,  1.1468074 , -0.11366431,\n",
       "        1.3464209 ,  0.48968115, -0.567803  ,  1.8335845 , -1.2409717 ,\n",
       "       -1.865468  ,  0.66046077,  2.4157166 , -0.45785534, -0.5529319 ,\n",
       "        1.5311644 ,  0.8497933 ,  2.6074293 ,  3.8606565 , -0.02601852,\n",
       "       -1.2102785 , -0.7278145 , -0.9929369 , -1.2268631 ,  0.8575734 ,\n",
       "       -1.1555388 , -1.3079864 , -2.2555938 , -0.0460612 , -2.1884418 ,\n",
       "        1.9284163 ,  2.8677738 , -1.8528106 ,  1.3085878 ,  0.48535308],\n",
       "      dtype=float32)"
      ]
     },
     "execution_count": 35,
     "metadata": {},
     "output_type": "execute_result"
    }
   ],
   "source": [
    "congress_model.wv.vectors[3]"
   ]
  },
  {
   "cell_type": "code",
   "execution_count": 36,
   "metadata": {},
   "outputs": [
    {
     "data": {
      "text/plain": [
       "[('man', 1.0),\n",
       " ('mai', 0.7953096032142639),\n",
       " ('lawyer', 0.794982373714447),\n",
       " ('mian', 0.7246367931365967),\n",
       " ('merchant', 0.7235336303710938),\n",
       " ('person', 0.7084944248199463),\n",
       " ('citizen', 0.7060525417327881),\n",
       " ('woman', 0.6985549926757812),\n",
       " ('witness', 0.6958960890769958),\n",
       " ('mani', 0.6927763819694519)]"
      ]
     },
     "execution_count": 36,
     "metadata": {},
     "output_type": "execute_result"
    }
   ],
   "source": [
    "man_vector = congress_model.wv['man']\n",
    "congress_model.wv.similar_by_vector(man_vector)"
   ]
  },
  {
   "cell_type": "code",
   "execution_count": 37,
   "metadata": {},
   "outputs": [
    {
     "data": {
      "text/plain": [
       "[('woman', 1.0),\n",
       " ('mau', 0.7448790073394775),\n",
       " ('nan', 0.7285056710243225),\n",
       " ('citizen', 0.721676230430603),\n",
       " ('foreigner', 0.7166454792022705),\n",
       " ('lawyer', 0.711015522480011),\n",
       " ('man', 0.698555052280426),\n",
       " ('mal', 0.6902548670768738),\n",
       " ('statesman', 0.6847317814826965),\n",
       " ('child', 0.682125985622406)]"
      ]
     },
     "execution_count": 37,
     "metadata": {},
     "output_type": "execute_result"
    }
   ],
   "source": [
    "woman_vector = congress_model.wv['woman']\n",
    "congress_model.wv.similar_by_vector(woman_vector)"
   ]
  },
  {
   "cell_type": "code",
   "execution_count": 38,
   "metadata": {},
   "outputs": [
    {
     "data": {
      "text/plain": [
       "[('individual', 1.0),\n",
       " ('invasion', 0.6480956077575684),\n",
       " ('honest', 0.6223812103271484),\n",
       " ('citizen', 0.5964864492416382),\n",
       " ('enemy', 0.5819460153579712),\n",
       " ('eminent', 0.5773656368255615),\n",
       " ('absolute', 0.5759495496749878),\n",
       " ('creditor', 0.5704253911972046),\n",
       " ('impartial', 0.5657567977905273),\n",
       " ('institution', 0.562224268913269)]"
      ]
     },
     "execution_count": 38,
     "metadata": {},
     "output_type": "execute_result"
    }
   ],
   "source": [
    "individual_vector = congress_model.wv['individual']\n",
    "congress_model.wv.similar_by_vector(individual_vector)"
   ]
  },
  {
   "cell_type": "code",
   "execution_count": 39,
   "metadata": {},
   "outputs": [
    {
     "data": {
      "text/plain": [
       "[('soldier', 1.0),\n",
       " ('banker', 0.735933244228363),\n",
       " ('merchant', 0.7165051698684692),\n",
       " ('pensioner', 0.7065895795822144),\n",
       " ('child', 0.7055156826972961),\n",
       " ('captain', 0.7017030119895935),\n",
       " ('citizen', 0.6945666670799255),\n",
       " ('master', 0.684952437877655),\n",
       " ('widow', 0.6798447370529175),\n",
       " ('man', 0.678787350654602)]"
      ]
     },
     "execution_count": 39,
     "metadata": {},
     "output_type": "execute_result"
    }
   ],
   "source": [
    "soldier_vector = congress_model.wv['soldier']\n",
    "congress_model.wv.similar_by_vector(soldier_vector)"
   ]
  },
  {
   "cell_type": "code",
   "execution_count": 40,
   "metadata": {},
   "outputs": [
    {
     "data": {
      "text/plain": [
       "0.660766"
      ]
     },
     "execution_count": 40,
     "metadata": {},
     "output_type": "execute_result"
    }
   ],
   "source": [
    "congress_model.wv.similarity('women', 'men')"
   ]
  },
  {
   "cell_type": "code",
   "execution_count": 41,
   "metadata": {},
   "outputs": [
    {
     "data": {
      "text/plain": [
       "[('children', 0.7390205264091492),\n",
       " ('mechanics', 0.696312665939331),\n",
       " ('merchants', 0.6934593915939331),\n",
       " ('soldiers', 0.662136971950531),\n",
       " ('men', 0.6607660055160522),\n",
       " ('rich', 0.6575027704238892),\n",
       " ('poor', 0.6511082649230957),\n",
       " ('white', 0.6481199264526367),\n",
       " ('wealthy', 0.6472270488739014),\n",
       " ('farmers', 0.6381540298461914),\n",
       " ('capitalists', 0.6340653300285339),\n",
       " ('colored', 0.6272273659706116),\n",
       " ('widows', 0.6266400218009949),\n",
       " ('whites', 0.6213538646697998),\n",
       " ('race', 0.6209286451339722),\n",
       " ('laboring', 0.6203826069831848),\n",
       " ('skilled', 0.6200368404388428),\n",
       " ('brave', 0.6170817017555237),\n",
       " ('noble', 0.6160266399383545),\n",
       " ('sailors', 0.6157126426696777),\n",
       " ('families', 0.6148433089256287),\n",
       " ('politicians', 0.611767053604126),\n",
       " ('struggling', 0.6080377101898193),\n",
       " ('pursuits', 0.5966960191726685),\n",
       " ('fields', 0.5959955453872681),\n",
       " ('laborers', 0.5951179265975952),\n",
       " ('foreigners', 0.5948503017425537),\n",
       " ('miners', 0.590263843536377),\n",
       " ('orphans', 0.5888699293136597),\n",
       " ('destitute', 0.5869976878166199),\n",
       " ('nen', 0.5824073553085327),\n",
       " ('settlers', 0.5790747404098511),\n",
       " ('statesmen', 0.5770258903503418),\n",
       " ('immigrants', 0.5770193934440613),\n",
       " ('girls', 0.5769401788711548),\n",
       " ('starving', 0.5763654112815857),\n",
       " ('mon', 0.5761592984199524),\n",
       " ('thousands', 0.5747095942497253),\n",
       " ('patriotic', 0.573688268661499),\n",
       " ('themselves', 0.5691554546356201),\n",
       " ('citizens', 0.5687701106071472),\n",
       " ('black', 0.5677112936973572),\n",
       " ('traders', 0.5671266317367554),\n",
       " ('republicans', 0.5648776292800903),\n",
       " ('boys', 0.5614525079727173),\n",
       " ('individuals', 0.5593335628509521),\n",
       " ('ships', 0.5567227602005005),\n",
       " ('helpless', 0.5561745166778564),\n",
       " ('mcn', 0.5561192035675049),\n",
       " ('communities', 0.5554636716842651)]"
      ]
     },
     "execution_count": 41,
     "metadata": {},
     "output_type": "execute_result"
    }
   ],
   "source": [
    "congress_model.wv.most_similar(\"women\", topn = 50)"
   ]
  },
  {
   "cell_type": "code",
   "execution_count": 42,
   "metadata": {},
   "outputs": [
    {
     "data": {
      "text/plain": [
       "[('persons', 0.716057538986206),\n",
       " ('mcn', 0.6782583594322205),\n",
       " ('merchants', 0.6716645956039429),\n",
       " ('lawyers', 0.6679767370223999),\n",
       " ('women', 0.6607660055160522),\n",
       " ('soldiers', 0.6498055458068848),\n",
       " ('nen', 0.6392128467559814),\n",
       " ('gentlemen', 0.6223151683807373),\n",
       " ('people', 0.6207624673843384),\n",
       " ('statesmen', 0.6085804104804993),\n",
       " ('mechanics', 0.6075679063796997),\n",
       " ('Men', 0.6060754060745239),\n",
       " ('farmers', 0.6058502793312073),\n",
       " ('parties', 0.5998297333717346),\n",
       " ('capitalists', 0.5988258123397827),\n",
       " ('mei', 0.5976186990737915),\n",
       " ('claimants', 0.5947614312171936),\n",
       " ('mon', 0.5866626501083374),\n",
       " ('boys', 0.584881067276001),\n",
       " ('ladies', 0.5812183618545532),\n",
       " ('children', 0.577019453048706),\n",
       " ('laborers', 0.563194751739502),\n",
       " ('citizens', 0.562316358089447),\n",
       " ('voters', 0.5585533380508423),\n",
       " ('man', 0.5551823377609253),\n",
       " ('mien', 0.5535681247711182),\n",
       " ('republicans', 0.5527560710906982),\n",
       " ('ones', 0.549206018447876),\n",
       " ('officers', 0.5481641888618469),\n",
       " ('others', 0.545403242111206),\n",
       " ('politicians', 0.5428794622421265),\n",
       " ('miners', 0.542283833026886),\n",
       " ('negroes', 0.5363373756408691),\n",
       " ('printers', 0.5290777683258057),\n",
       " ('pilots', 0.5253907442092896),\n",
       " ('race', 0.5239084362983704),\n",
       " ('individuals', 0.5176242589950562),\n",
       " ('positions', 0.5167728662490845),\n",
       " ('Senators', 0.5132044553756714),\n",
       " ('foreigners', 0.51215660572052),\n",
       " ('sailors', 0.5098243951797485),\n",
       " ('workmen', 0.5098055601119995),\n",
       " ('shipowners', 0.5050595998764038),\n",
       " ('leaders', 0.5042540431022644),\n",
       " ('settlers', 0.5035462975502014),\n",
       " ('manufacturers', 0.5018637180328369),\n",
       " ('thieves', 0.5014432072639465),\n",
       " ('Indians', 0.49901896715164185),\n",
       " ('engineers', 0.4969925284385681),\n",
       " ('communities', 0.4934859573841095)]"
      ]
     },
     "execution_count": 42,
     "metadata": {},
     "output_type": "execute_result"
    }
   ],
   "source": [
    "congress_model.wv.most_similar(\"men\", topn = 50)"
   ]
  },
  {
   "cell_type": "code",
   "execution_count": 45,
   "metadata": {},
   "outputs": [
    {
     "data": {
      "text/plain": [
       "[('man', 0.9851939678192139),\n",
       " ('mai', 0.7532967925071716),\n",
       " ('lawyer', 0.7459124326705933),\n",
       " ('person', 0.6866796612739563),\n",
       " ('mian', 0.6854915618896484),\n",
       " ('merchant', 0.6839532852172852),\n",
       " ('witness', 0.667205810546875),\n",
       " ('citizen', 0.6408608555793762),\n",
       " ('mani', 0.6379607915878296),\n",
       " ('farmer', 0.628496527671814),\n",
       " ('soldier', 0.623019278049469),\n",
       " ('mal', 0.6229250431060791),\n",
       " ('mau', 0.5995610356330872),\n",
       " ('banker', 0.5969903469085693),\n",
       " ('statesman', 0.5964738130569458),\n",
       " ('claimant', 0.5928665399551392),\n",
       " ('mans', 0.5873139500617981),\n",
       " ('nian', 0.5828565955162048),\n",
       " ('member', 0.5819664001464844),\n",
       " ('child', 0.5807590484619141),\n",
       " ('officer', 0.5775875449180603),\n",
       " ('woman', 0.5655345916748047),\n",
       " ('creditor', 0.5430001020431519),\n",
       " ('party', 0.5425457954406738),\n",
       " ('men', 0.5381265878677368),\n",
       " ('pensioner', 0.5282629728317261),\n",
       " ('importer', 0.5280255079269409),\n",
       " ('inventor', 0.5202513933181763),\n",
       " ('crime', 0.5167615413665771),\n",
       " ('nan', 0.5114675760269165),\n",
       " ('everybody', 0.49589303135871887),\n",
       " ('he', 0.49390310049057007),\n",
       " ('race', 0.48710042238235474),\n",
       " ('laborer', 0.4836813807487488),\n",
       " ('contractor', 0.48092377185821533),\n",
       " ('patentee', 0.47216373682022095),\n",
       " ('manufacturer', 0.47057193517684937),\n",
       " ('anybody', 0.4698984920978546),\n",
       " ('him', 0.45634564757347107),\n",
       " ('gentleman', 0.4529034197330475)]"
      ]
     },
     "execution_count": 45,
     "metadata": {},
     "output_type": "execute_result"
    }
   ],
   "source": [
    "diff = congress_model.wv['man'] - congress_model.wv['woman']\n",
    "congress_model.wv.similar_by_vector(diff, topn=40)"
   ]
  },
  {
   "cell_type": "code",
   "execution_count": 46,
   "metadata": {},
   "outputs": [
    {
     "data": {
      "text/plain": [
       "[('bythe', 0.44771862030029297),\n",
       " ('thc', 0.42590487003326416),\n",
       " ('seventeenth', 0.42080157995224),\n",
       " ('regulating', 0.42070892453193665),\n",
       " ('enlarging', 0.4206809997558594),\n",
       " ('limiting', 0.4198291599750519),\n",
       " ('thie', 0.4162326455116272),\n",
       " ('rite', 0.4155820608139038),\n",
       " ('tlte', 0.4118894934654236),\n",
       " ('rhe', 0.41102635860443115),\n",
       " ('bytho', 0.4047302305698395),\n",
       " ('thatthe', 0.3940526843070984),\n",
       " ('fromthe', 0.3919954299926758),\n",
       " ('repealing', 0.3863179385662079),\n",
       " ('samo', 0.3858068883419037),\n",
       " ('onthe', 0.3821149170398712),\n",
       " ('ibis', 0.3818950951099396),\n",
       " ('che', 0.3814570903778076),\n",
       " ('thme', 0.3813951313495636),\n",
       " ('tlhis', 0.38039737939834595),\n",
       " ('3', 0.3798547685146332),\n",
       " ('Tite', 0.379599928855896),\n",
       " ('Revised', 0.3795681595802307),\n",
       " ('tb', 0.37943193316459656),\n",
       " ('adhering', 0.37870073318481445),\n",
       " ('otter', 0.3784489035606384),\n",
       " ('instructing', 0.37661123275756836),\n",
       " ('thrat', 0.37167686223983765),\n",
       " ('flom', 0.3710923194885254),\n",
       " ('tihe', 0.36981987953186035),\n",
       " ('tbo', 0.3668579161167145),\n",
       " ('perfecting', 0.3660222291946411),\n",
       " ('organizing', 0.3652533292770386),\n",
       " ('tids', 0.3651738166809082),\n",
       " ('tbe', 0.3608320653438568),\n",
       " ('fts', 0.3602498769760132),\n",
       " ('tse', 0.3598273694515228),\n",
       " ('rho', 0.35860785841941833),\n",
       " ('tlie', 0.3581957221031189),\n",
       " ('-the', 0.3570544719696045)]"
      ]
     },
     "execution_count": 46,
     "metadata": {},
     "output_type": "execute_result"
    }
   ],
   "source": [
    "diff = congress_model.wv['woman'] - congress_model.wv['man']\n",
    "congress_model.wv.similar_by_vector(diff, topn = 40)"
   ]
  },
  {
   "cell_type": "code",
   "execution_count": null,
   "metadata": {},
   "outputs": [],
   "source": [
    "# come back to rest: https://github.com/stephbuon/democracy-lab/blob/main/word-embeddings/workhorse-parallel-context-vectors.ipynb"
   ]
  }
 ],
 "metadata": {
  "kernelspec": {
   "display_name": "Python 3",
   "language": "python",
   "name": "python3"
  },
  "language_info": {
   "codemirror_mode": {
    "name": "ipython",
    "version": 3
   },
   "file_extension": ".py",
   "mimetype": "text/x-python",
   "name": "python",
   "nbconvert_exporter": "python",
   "pygments_lexer": "ipython3",
   "version": "3.6.7"
  }
 },
 "nbformat": 4,
 "nbformat_minor": 4
}
