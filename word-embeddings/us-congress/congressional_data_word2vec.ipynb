{
 "cells": [
  {
   "cell_type": "code",
   "execution_count": 1,
   "metadata": {},
   "outputs": [],
   "source": [
    "import sys\n",
    "import os\n",
    "import csv\n",
    "import gensim\n",
    "import pandas as pd\n",
    "\n",
    "from matplotlib import pyplot as plt\n",
    "from matplotlib import cm\n",
    "from numpy import linspace\n",
    "from adjustText import adjust_text\n",
    "\n",
    "os.chdir('/users/sbuongiorno/democracy-lab/util/')\n",
    "# add: import_congressional_data\n",
    "from pyfunctions.interval_subsetter import interval_subset\n",
    "from pyfunctions.parallelize_operation import parallelize_operation\n",
    "from pyfunctions.preprocess_functions import standardize_spelling_df\n",
    "from pyfunctions.str_functions import lemmatize_df_text, str_split_df_sentences\n",
    "from pyfunctions.w2v_gensim_functions import w2v_export_gensim_models, w2v_embeddings, w2v_visualize_scatter_plot\n",
    "from pyfunctions.import_kw import import_keywords_list\n",
    "\n",
    "os.chdir('/users/sbuongiorno/democracy-lab/word-embeddings/')"
   ]
  },
  {
   "cell_type": "code",
   "execution_count": null,
   "metadata": {},
   "outputs": [],
   "source": [
    "def data_process(target_fpath, label, find_replace):\n",
    "    if not os.path.exists(target_fpath + label + '_subsets'):\n",
    "        \n",
    "        print('Importing data...')\n",
    "        data = import_congressional_data(clean_data = True)\n",
    "        print('Selecting columns...')\n",
    "        data = data[['speech','year']].copy() # this might not be the right date column name --check -- but it probably should be transformed to year and text\n",
    "        #print('Standardizing spelling...')\n",
    "        #data = standardize_spelling_df(data, \n",
    "        #                               text_col='speech', \n",
    "        #                               fpath_replace_list=find_replace)\n",
    "        print('Generating ' + label + '_subsets')\n",
    "        os.mkdir(target_fpath + label + '_subsets')\n",
    "\n",
    "    if os.path.exists(target_fpath + label + '_subsets'):\n",
    "        if 'data' in locals():\n",
    "            print('Exporting period subsets to ' + label + '_subsets...') \n",
    "            interval_subset(data, 'year', 1800, 2010, 5, fname=label)\n",
    "        print('Exporting models to ' + label + '_subsets...')\n",
    "        w2v_export_gensim_models(label +'_subsets/', n_cores=36)"
   ]
  },
  {
   "cell_type": "code",
   "execution_count": null,
   "metadata": {},
   "outputs": [],
   "source": [
    "data_process('/users/sbuongiorno/democracy-lab/word-embeddings/', \n",
    "             'us_congress', \n",
    "             '/users/sbuongiorno/name.csv')#,\n",
    "             #'/users/sbuongiorno/preprocess_propertywords.csv')"
   ]
  },
  {
   "cell_type": "code",
   "execution_count": null,
   "metadata": {},
   "outputs": [],
   "source": [
    "keywords_list = import_keywords_list('/users/sbuongiorno/propertywords_cleaned_for_w2v_1grams.csv')"
   ]
  },
  {
   "cell_type": "code",
   "execution_count": null,
   "metadata": {},
   "outputs": [],
   "source": [
    "for keyword in keywords_list:\n",
    "    keyword_context = w2v_embeddings.keyword_context('/users/sbuongiorno/democracy-lab/word-embeddings/c19_20_hansard_subsets/', keyword)\n",
    "    \n",
    "    period_names = w2v_visualize_scatter_plot.define_periods(1800, 2005, 5)\n",
    "    \n",
    "    period_words = w2v_visualize_scatter_plot.collect_text_values(keyword_context, period_names)\n",
    "    \n",
    "    flat_list = w2v_visualize_scatter_plot.make_1D_list(period_words)    \n",
    "    \n",
    "    try:\n",
    "        w2v_visualize_scatter_plot.w2v_scatter_plot(period_names, keyword_context, flat_list, keyword)\n",
    "    except:\n",
    "        continue"
   ]
  },
  {
   "cell_type": "markdown",
   "metadata": {},
   "source": [
    "## Exploration"
   ]
  },
  {
   "cell_type": "code",
   "execution_count": 22,
   "metadata": {},
   "outputs": [],
   "source": [
    "#congress_model = gensim.models.Word2Vec.load('/users/sbuongiorno/democracy-lab/word-embeddings/stanford_congressional_records_subsets/stanford_congressional_records1873_1874_model') # contains the list of all unique words in pre-trained word2vec vectors"
   ]
  },
  {
   "cell_type": "code",
   "execution_count": 24,
   "metadata": {},
   "outputs": [],
   "source": [
    "#congress_w2v_vocabulary = congress_model.wv.vocab"
   ]
  },
  {
   "cell_type": "code",
   "execution_count": 25,
   "metadata": {},
   "outputs": [
    {
     "data": {
      "text/plain": [
       "['the',\n",
       " 'of',\n",
       " 'to',\n",
       " 'and',\n",
       " 'that',\n",
       " 'I',\n",
       " 'in',\n",
       " 'a',\n",
       " 'is',\n",
       " 'it',\n",
       " 'be',\n",
       " 'for',\n",
       " 'this',\n",
       " 'not',\n",
       " 'as',\n",
       " 'by',\n",
       " 'have',\n",
       " 'was',\n",
       " 'from',\n",
       " 'on',\n",
       " 'The',\n",
       " 'which',\n",
       " 'will',\n",
       " 'or',\n",
       " 'at']"
      ]
     },
     "execution_count": 25,
     "metadata": {},
     "output_type": "execute_result"
    }
   ],
   "source": [
    "#congress_model.wv.index2word[:25]"
   ]
  },
  {
   "cell_type": "code",
   "execution_count": 26,
   "metadata": {},
   "outputs": [
    {
     "data": {
      "text/plain": [
       "15327"
      ]
     },
     "execution_count": 26,
     "metadata": {},
     "output_type": "execute_result"
    }
   ],
   "source": [
    "#len(congress_model.wv.index2word)"
   ]
  },
  {
   "cell_type": "code",
   "execution_count": 27,
   "metadata": {},
   "outputs": [
    {
     "data": {
      "text/plain": [
       "array([[ 1.73035562e+00, -6.83970094e-01, -2.69009709e-01, ...,\n",
       "         3.92869741e-01, -8.13241079e-02, -6.10144734e-01],\n",
       "       [ 1.76975167e+00, -1.46722076e-02, -4.42213297e-01, ...,\n",
       "         6.75639212e-01,  1.39195370e-02, -7.84029961e-01],\n",
       "       [ 9.16211843e-01, -8.73500168e-01,  1.89974701e+00, ...,\n",
       "         4.91572767e-01,  1.01502645e+00, -1.67135492e-01],\n",
       "       ...,\n",
       "       [ 2.01857984e-02, -4.97993231e-02, -2.06858143e-02, ...,\n",
       "        -1.01056248e-01,  3.14819254e-02, -3.12528685e-02],\n",
       "       [ 5.89295104e-02, -1.70368829e-03,  1.27697602e-01, ...,\n",
       "        -2.35911578e-01, -1.18444666e-01, -7.70635530e-02],\n",
       "       [ 6.27761930e-02, -1.31842718e-01,  1.25894830e-01, ...,\n",
       "        -1.82212010e-01, -8.32660496e-02,  4.40259390e-02]], dtype=float32)"
      ]
     },
     "execution_count": 27,
     "metadata": {},
     "output_type": "execute_result"
    }
   ],
   "source": [
    "#congress_model.wv.vectors"
   ]
  },
  {
   "cell_type": "code",
   "execution_count": 28,
   "metadata": {},
   "outputs": [
    {
     "data": {
      "text/plain": [
       "'and'"
      ]
     },
     "execution_count": 28,
     "metadata": {},
     "output_type": "execute_result"
    }
   ],
   "source": [
    "#congress_model.wv.index2word[3]"
   ]
  },
  {
   "cell_type": "code",
   "execution_count": 29,
   "metadata": {},
   "outputs": [
    {
     "data": {
      "text/plain": [
       "array([ 0.91621184, -0.87350017,  1.899747  ,  1.905248  , -0.13984899,\n",
       "       -1.0875859 ,  1.6942468 , -0.01040702,  1.8601773 ,  2.709001  ,\n",
       "       -0.24671529, -2.486799  , -0.9311729 ,  0.28369635,  1.1143824 ,\n",
       "       -1.2657373 ,  0.58928347, -0.147861  ,  0.11638104, -0.80986816,\n",
       "        0.9408491 , -2.6817534 , -0.44196448, -2.5782387 ,  0.9019148 ,\n",
       "        0.04292612,  0.29616672,  1.1208102 , -0.63703114, -0.28486174,\n",
       "        1.4621372 , -0.74971825, -0.9556688 , -0.32937533,  0.1302492 ,\n",
       "        1.4080564 ,  1.229292  ,  0.18882783,  1.1709342 , -1.3881642 ,\n",
       "        1.0525256 ,  0.5111599 ,  0.05191733, -1.5173302 , -0.93335575,\n",
       "       -0.50936973, -0.20901261,  1.8754948 ,  0.5607795 , -1.0483916 ,\n",
       "       -0.47771373,  1.0070051 , -0.47526026, -1.0236734 , -1.7460467 ,\n",
       "       -2.1290226 , -1.4244438 ,  0.11539432,  0.90179926,  1.3103766 ,\n",
       "        0.512915  , -0.16312021, -1.2417433 ,  1.3376906 , -0.49068815,\n",
       "       -1.2018003 ,  1.584356  ,  0.31289983, -0.28954217,  1.3765568 ,\n",
       "        2.4800081 , -0.67764324, -1.5330877 , -0.96118784,  2.1529686 ,\n",
       "        1.3222066 , -1.2469205 ,  1.5045137 ,  1.7814437 , -1.5373058 ,\n",
       "       -0.52180403, -0.90622437,  0.21490458,  0.9778082 ,  1.2446356 ,\n",
       "        0.9666302 ,  1.271274  , -1.5870007 , -0.39055166, -0.6679828 ,\n",
       "       -0.8408751 ,  1.0088519 , -1.6686109 , -1.3167557 ,  1.3809677 ,\n",
       "        1.1763123 , -0.22929583,  0.49157277,  1.0150265 , -0.16713549],\n",
       "      dtype=float32)"
      ]
     },
     "execution_count": 29,
     "metadata": {},
     "output_type": "execute_result"
    }
   ],
   "source": [
    "#congress_model.wv['to']"
   ]
  },
  {
   "cell_type": "code",
   "execution_count": 30,
   "metadata": {},
   "outputs": [
    {
     "data": {
      "text/plain": [
       "array([ 0.25987232, -1.0454421 ,  0.55559415, -1.0159976 ,  0.20438798,\n",
       "       -0.2817539 , -0.444001  ,  0.6758486 ,  0.7846123 ,  1.1649584 ,\n",
       "       -0.24571837, -0.9608447 ,  0.566566  ,  0.59756935,  1.2640162 ,\n",
       "        0.01420574,  0.6141216 , -0.6792223 , -0.39184752, -0.32092163,\n",
       "        0.7508321 , -0.63225496, -1.4306395 ,  0.21366134,  0.2802836 ,\n",
       "        0.3817243 , -1.0148244 ,  0.15586749,  1.0278411 , -1.3139789 ,\n",
       "        0.13459414,  0.02274267,  0.99231356,  0.2764427 , -0.5354334 ,\n",
       "        0.11765855,  0.8595166 , -1.9107814 ,  2.4422991 , -0.6925129 ,\n",
       "       -0.07926845,  0.586401  ,  0.09067354, -0.6419713 ,  0.3716558 ,\n",
       "       -1.0815433 ,  0.41559333,  1.065362  , -0.7503217 ,  0.45964354,\n",
       "        0.87521446,  0.27853864,  0.29807135, -0.18738072,  0.5378493 ,\n",
       "        0.5734402 , -0.6965925 , -0.19923292, -1.0329779 ,  0.89816874,\n",
       "        0.49004483, -0.77272165, -1.9950471 ,  0.9752638 , -0.5072653 ,\n",
       "        0.1952957 ,  0.02216992,  1.2731632 , -0.05519395,  1.1732687 ,\n",
       "        0.35680392,  0.21180198, -1.1539359 , -0.60683787,  0.5199582 ,\n",
       "        1.2770743 ,  0.2769506 , -0.56800246,  0.31435877,  0.07918427,\n",
       "        0.35855135,  1.0772176 ,  0.92930734,  0.46107167,  0.6259181 ,\n",
       "        0.7618069 ,  0.60621464, -0.36561158,  0.08861659, -0.8580908 ,\n",
       "       -0.22630976, -0.09776402, -2.252134  , -0.5246687 ,  1.2781751 ,\n",
       "        1.0612104 , -0.64274657,  0.7054868 , -0.30200428, -0.6027239 ],\n",
       "      dtype=float32)"
      ]
     },
     "execution_count": 30,
     "metadata": {},
     "output_type": "execute_result"
    }
   ],
   "source": [
    "#congress_model.wv.vectors[3]"
   ]
  },
  {
   "cell_type": "code",
   "execution_count": 31,
   "metadata": {},
   "outputs": [
    {
     "data": {
      "text/plain": [
       "[('man', 1.0),\n",
       " ('lawyer', 0.7873023748397827),\n",
       " ('mai', 0.7688322067260742),\n",
       " ('merchant', 0.7556109428405762),\n",
       " ('mian', 0.7486206293106079),\n",
       " ('soldier', 0.7367701530456543),\n",
       " ('mani', 0.7314112186431885),\n",
       " ('man.', 0.7275295257568359),\n",
       " ('witness', 0.722841739654541),\n",
       " ('citizen', 0.7098455429077148)]"
      ]
     },
     "execution_count": 31,
     "metadata": {},
     "output_type": "execute_result"
    }
   ],
   "source": [
    "#man_vector = congress_model.wv['man']\n",
    "#congress_model.wv.similar_by_vector(man_vector)"
   ]
  },
  {
   "cell_type": "code",
   "execution_count": 32,
   "metadata": {},
   "outputs": [
    {
     "data": {
      "text/plain": [
       "[('woman', 1.0),\n",
       " ('mau', 0.7746826410293579),\n",
       " ('citizen', 0.7594645023345947),\n",
       " ('soldier', 0.7473379373550415),\n",
       " ('man.', 0.7440284490585327),\n",
       " ('nian', 0.739978551864624),\n",
       " ('mian', 0.7210935950279236),\n",
       " ('foreigner', 0.7194973230361938),\n",
       " ('nan', 0.7192388772964478),\n",
       " ('child', 0.7159484624862671)]"
      ]
     },
     "execution_count": 32,
     "metadata": {},
     "output_type": "execute_result"
    }
   ],
   "source": [
    "#woman_vector = congress_model.wv['woman']\n",
    "#congress_model.wv.similar_by_vector(woman_vector)"
   ]
  },
  {
   "cell_type": "code",
   "execution_count": 33,
   "metadata": {},
   "outputs": [
    {
     "data": {
      "text/plain": [
       "[('individual', 1.0),\n",
       " ('honest', 0.6153244376182556),\n",
       " ('creditor', 0.6087626814842224),\n",
       " ('individual.', 0.6070312857627869),\n",
       " ('fraudulent', 0.5945761799812317),\n",
       " ('superior', 0.5931428670883179),\n",
       " ('mans', 0.5908780097961426),\n",
       " ('race', 0.5881892442703247),\n",
       " ('society', 0.5822649002075195),\n",
       " ('citizen.', 0.5816092491149902)]"
      ]
     },
     "execution_count": 33,
     "metadata": {},
     "output_type": "execute_result"
    }
   ],
   "source": [
    "#individual_vector = congress_model.wv['individual']\n",
    "#congress_model.wv.similar_by_vector(individual_vector)"
   ]
  },
  {
   "cell_type": "code",
   "execution_count": 34,
   "metadata": {},
   "outputs": [
    {
     "data": {
      "text/plain": [
       "[('soldier', 1.0),\n",
       " ('merchant', 0.7489620447158813),\n",
       " ('woman', 0.7473379373550415),\n",
       " ('mian', 0.742435097694397),\n",
       " ('pensioner', 0.7392129898071289),\n",
       " ('man', 0.7367701530456543),\n",
       " ('master', 0.7333453893661499),\n",
       " ('nian', 0.7064769268035889),\n",
       " ('soldier.', 0.7063614130020142),\n",
       " ('captain', 0.7043235301971436)]"
      ]
     },
     "execution_count": 34,
     "metadata": {},
     "output_type": "execute_result"
    }
   ],
   "source": [
    "#soldier_vector = congress_model.wv['soldier']\n",
    "#congress_model.wv.similar_by_vector(soldier_vector)"
   ]
  },
  {
   "cell_type": "code",
   "execution_count": 35,
   "metadata": {},
   "outputs": [
    {
     "data": {
      "text/plain": [
       "0.6369535"
      ]
     },
     "execution_count": 35,
     "metadata": {},
     "output_type": "execute_result"
    }
   ],
   "source": [
    "#congress_model.wv.similarity('women', 'men')"
   ]
  },
  {
   "cell_type": "code",
   "execution_count": 36,
   "metadata": {},
   "outputs": [
    {
     "data": {
      "text/plain": [
       "[('children', 0.7649115324020386),\n",
       " ('merchants', 0.7290546298027039),\n",
       " ('children.', 0.6868888735771179),\n",
       " ('rich', 0.6865991353988647),\n",
       " ('wealthy', 0.6686532497406006),\n",
       " ('soldiers', 0.6671132445335388),\n",
       " ('destitute', 0.6626975536346436),\n",
       " ('colored', 0.6594951152801514),\n",
       " ('struggling', 0.6561284065246582),\n",
       " ('noble', 0.6490404605865479),\n",
       " ('poor', 0.6459184288978577),\n",
       " ('widows', 0.644420862197876),\n",
       " ('traders', 0.6371326446533203),\n",
       " ('men', 0.6369534730911255),\n",
       " ('skilled', 0.6349139213562012),\n",
       " ('capitalists', 0.6344571113586426),\n",
       " ('fields', 0.6341192126274109),\n",
       " ('farmers', 0.6315756440162659),\n",
       " ('mechanics', 0.6282700300216675),\n",
       " ('women.', 0.6276668906211853),\n",
       " ('brave', 0.6266326904296875),\n",
       " ('white', 0.6262197494506836),\n",
       " ('laborers', 0.6215879917144775),\n",
       " ('families', 0.618699312210083),\n",
       " ('orphans', 0.6185200214385986),\n",
       " ('bankers', 0.6162791848182678),\n",
       " ('habits', 0.6152911186218262),\n",
       " ('trained', 0.6091819405555725),\n",
       " ('men.', 0.6084530353546143),\n",
       " ('miners', 0.6082907915115356),\n",
       " ('black', 0.608189046382904),\n",
       " ('patriotic', 0.60260009765625),\n",
       " ('bread', 0.6009469628334045),\n",
       " ('starving', 0.5995293855667114),\n",
       " ('soldiers.', 0.5994361042976379),\n",
       " ('poor.', 0.5990910530090332),\n",
       " ('pursuits', 0.5989997386932373),\n",
       " ('boys', 0.5960805416107178),\n",
       " ('race', 0.5955729484558105),\n",
       " ('thousands', 0.5923489332199097),\n",
       " ('agriculturists', 0.5877745151519775),\n",
       " ('masters', 0.5866717100143433),\n",
       " ('nen', 0.5844448208808899),\n",
       " ('race.', 0.5816906094551086),\n",
       " ('whites', 0.5812400579452515),\n",
       " ('culture', 0.5797741413116455),\n",
       " ('sailors', 0.5790680646896362),\n",
       " ('sailors.', 0.5788769721984863),\n",
       " ('citizens.', 0.5787416100502014),\n",
       " ('parents', 0.5760336518287659)]"
      ]
     },
     "execution_count": 36,
     "metadata": {},
     "output_type": "execute_result"
    }
   ],
   "source": [
    "#congress_model.wv.most_similar(\"women\", topn = 50)"
   ]
  },
  {
   "cell_type": "code",
   "execution_count": 37,
   "metadata": {},
   "outputs": [
    {
     "data": {
      "text/plain": [
       "[('men.', 0.7389687299728394),\n",
       " ('persons', 0.691087007522583),\n",
       " ('lawyers', 0.6904367804527283),\n",
       " ('Men', 0.6618365049362183),\n",
       " ('merchants', 0.6598010659217834),\n",
       " ('people', 0.6544091701507568),\n",
       " ('gentlemen', 0.6472547054290771),\n",
       " ('nen', 0.6388335824012756),\n",
       " ('women', 0.6369534134864807),\n",
       " ('ones', 0.6297272443771362),\n",
       " ('farmers', 0.6238963603973389),\n",
       " ('capitalists', 0.6147263050079346),\n",
       " ('parties', 0.6117362380027771),\n",
       " ('others', 0.6092349290847778),\n",
       " ('claimants', 0.6037822961807251),\n",
       " ('children', 0.6009438037872314),\n",
       " ('soldiers', 0.5979388952255249),\n",
       " ('foreigners', 0.5976136326789856),\n",
       " ('politicians', 0.5932735204696655),\n",
       " ('ladies', 0.5877074003219604),\n",
       " ('statesmen', 0.5874553918838501),\n",
       " ('witnesses', 0.5851725339889526),\n",
       " ('mcn', 0.5825263261795044),\n",
       " ('man', 0.5695891380310059),\n",
       " ('laborers', 0.5683018565177917),\n",
       " ('meu', 0.5656101703643799),\n",
       " ('mon', 0.5635080337524414),\n",
       " ('boys', 0.5634727478027344),\n",
       " ('negroes', 0.5616649985313416),\n",
       " ('mei', 0.557658314704895),\n",
       " ('bankers', 0.5562137365341187),\n",
       " ('mechanics', 0.5546979308128357),\n",
       " ('officers', 0.548090934753418),\n",
       " ('miners', 0.5452719926834106),\n",
       " ('pilots', 0.5449994802474976),\n",
       " ('printers', 0.5429702401161194),\n",
       " ('Indians', 0.5407403707504272),\n",
       " ('positions', 0.5368291735649109),\n",
       " ('republicans', 0.5356074571609497),\n",
       " ('individuals', 0.5332755446434021),\n",
       " ('skilled', 0.5321464538574219),\n",
       " ('families', 0.5289841294288635),\n",
       " ('struggling', 0.5243566632270813),\n",
       " ('whites', 0.5181846022605896),\n",
       " ('mn', 0.5175377130508423),\n",
       " ('inen', 0.5168136358261108),\n",
       " ('officials', 0.5146636962890625),\n",
       " ('democrats', 0.5142396092414856),\n",
       " ('community', 0.5127623081207275),\n",
       " ('traders', 0.5112526416778564)]"
      ]
     },
     "execution_count": 37,
     "metadata": {},
     "output_type": "execute_result"
    }
   ],
   "source": [
    "#congress_model.wv.most_similar(\"men\", topn = 50)"
   ]
  },
  {
   "cell_type": "code",
   "execution_count": 38,
   "metadata": {},
   "outputs": [
    {
     "data": {
      "text/plain": [
       "[('man', 0.9886401295661926),\n",
       " ('lawyer', 0.7529689073562622),\n",
       " ('mai', 0.726211428642273),\n",
       " ('merchant', 0.7248859405517578),\n",
       " ('witness', 0.7051510214805603),\n",
       " ('mian', 0.6982424259185791),\n",
       " ('mani', 0.6860320568084717),\n",
       " ('soldier', 0.6793063879013062),\n",
       " ('man.', 0.6695171594619751),\n",
       " ('person', 0.6633116006851196),\n",
       " ('mal', 0.6597539186477661),\n",
       " ('citizen', 0.6462264060974121),\n",
       " ('farmer', 0.6450856924057007),\n",
       " ('nian', 0.631976842880249),\n",
       " ('mans', 0.6207333207130432),\n",
       " ('mau', 0.6102208495140076),\n",
       " ('claimant', 0.60492342710495),\n",
       " ('creditor', 0.601830005645752),\n",
       " ('foreigner', 0.5999503135681152),\n",
       " ('child', 0.59288489818573),\n",
       " ('party', 0.5820441842079163),\n",
       " ('everybody', 0.5819985866546631),\n",
       " ('manufacturer', 0.5808119177818298),\n",
       " ('woman', 0.580191969871521),\n",
       " ('officer', 0.5729767084121704),\n",
       " ('anybody', 0.5680667757987976),\n",
       " ('importer', 0.5605961680412292),\n",
       " ('men', 0.5604574084281921),\n",
       " ('contractor', 0.5591752529144287),\n",
       " ('inventor', 0.5537365078926086),\n",
       " ('banker', 0.5460249781608582),\n",
       " ('member', 0.5408440232276917),\n",
       " ('nan', 0.5345739126205444),\n",
       " ('mas', 0.5287490487098694),\n",
       " ('he', 0.5284063220024109),\n",
       " ('laborer', 0.5274409055709839),\n",
       " ('debtor', 0.5264487266540527),\n",
       " ('him', 0.5240200161933899),\n",
       " ('lady', 0.5208617448806763),\n",
       " ('inan', 0.5203758478164673)]"
      ]
     },
     "execution_count": 38,
     "metadata": {},
     "output_type": "execute_result"
    }
   ],
   "source": [
    "#diff = congress_model.wv['man'] - congress_model.wv['woman']\n",
    "#congress_model.wv.similar_by_vector(diff, topn=40)"
   ]
  },
  {
   "cell_type": "code",
   "execution_count": 39,
   "metadata": {},
   "outputs": [
    {
     "data": {
      "text/plain": [
       "[('instructing', 0.42829954624176025),\n",
       " ('Whereas', 0.42052528262138367),\n",
       " ('limiting', 0.4200958013534546),\n",
       " ('regulating', 0.41683223843574524),\n",
       " ('numbered', 0.4070498049259186),\n",
       " ('following', 0.4062387943267822),\n",
       " ('revised', 0.3852912187576294),\n",
       " ('adopted:', 0.38496482372283936),\n",
       " ('thie', 0.38468122482299805),\n",
       " ('Tite', 0.38423842191696167),\n",
       " ('recommend', 0.38337522745132446),\n",
       " ('thatthe', 0.3787490129470825),\n",
       " ('tse', 0.37820374965667725),\n",
       " ('joint', 0.376299649477005),\n",
       " ('bythe', 0.37561750411987305),\n",
       " ('changing', 0.3745558261871338),\n",
       " ('fifteenth', 0.3718433380126953),\n",
       " ('refers.', 0.3667224049568176),\n",
       " ('By', 0.36655232310295105),\n",
       " ('relating', 0.36471980810165405),\n",
       " ('Tile', 0.3620380759239197),\n",
       " ('directing', 0.3603741526603699),\n",
       " ('approved', 0.357888400554657),\n",
       " ('embraced', 0.3556845784187317),\n",
       " ('rejecting', 0.35543444752693176),\n",
       " ('fixing', 0.3542177677154541),\n",
       " ('concurrent', 0.3537256121635437),\n",
       " ('requiring', 0.3499775528907776),\n",
       " ('refers', 0.3488360345363617),\n",
       " ('thc', 0.3485381603240967),\n",
       " ('tbe', 0.3477025032043457),\n",
       " ('construing', 0.3462144732475281),\n",
       " ('relative', 0.34537243843078613),\n",
       " ('asa', 0.3400205075740814),\n",
       " ('repealing', 0.3389521837234497),\n",
       " ('askc', 0.3386949896812439),\n",
       " ('Should', 0.337361216545105),\n",
       " ('authorizes', 0.33717307448387146),\n",
       " ('providing', 0.33516451716423035),\n",
       " ('indicated', 0.3341253697872162)]"
      ]
     },
     "execution_count": 39,
     "metadata": {},
     "output_type": "execute_result"
    }
   ],
   "source": [
    "#diff = congress_model.wv['woman'] - congress_model.wv['man']\n",
    "#congress_model.wv.similar_by_vector(diff, topn = 40)"
   ]
  },
  {
   "cell_type": "code",
   "execution_count": 40,
   "metadata": {},
   "outputs": [],
   "source": [
    "# come back to rest: https://github.com/stephbuon/democracy-lab/blob/main/word-embeddings/workhorse-parallel-context-vectors.ipynb"
   ]
  },
  {
   "cell_type": "code",
   "execution_count": 34,
   "metadata": {},
   "outputs": [
    {
     "data": {
      "text/plain": [
       "[('mau', 0.7809287905693054),\n",
       " ('citizen', 0.7573187351226807),\n",
       " ('soldier', 0.7517971992492676),\n",
       " ('man.', 0.7454029321670532),\n",
       " ('nian', 0.7337642908096313),\n",
       " ('child', 0.7282170057296753),\n",
       " ('foreigner', 0.7275236248970032),\n",
       " ('nan', 0.7158505320549011),\n",
       " ('mian', 0.7087287902832031),\n",
       " ('lady', 0.70368492603302),\n",
       " ('citizen.', 0.7031761407852173),\n",
       " ('man', 0.6877122521400452),\n",
       " ('mai', 0.6828106641769409),\n",
       " ('mani', 0.6816163063049316),\n",
       " ('lawyer', 0.6712002158164978)]"
      ]
     },
     "execution_count": 34,
     "metadata": {},
     "output_type": "execute_result"
    }
   ],
   "source": [
    "keyword_context[0][:15]"
   ]
  },
  {
   "cell_type": "code",
   "execution_count": 35,
   "metadata": {},
   "outputs": [
    {
     "data": {
      "text/plain": [
       "[('child', 0.8186684846878052),\n",
       " ('girl', 0.8168043494224548),\n",
       " ('woman.', 0.8089375495910645),\n",
       " ('lady', 0.7855381965637207),\n",
       " ('boy', 0.7776932716369629),\n",
       " ('man', 0.7576967477798462),\n",
       " ('soldier', 0.7317655682563782),\n",
       " ('sailor', 0.7316795587539673),\n",
       " ('child.', 0.7156210541725159),\n",
       " ('Chinaman', 0.7138143181800842),\n",
       " ('mai', 0.7091273069381714),\n",
       " ('mau', 0.6919853687286377),\n",
       " ('foreigner', 0.6905137896537781),\n",
       " ('preacher', 0.6904029846191406),\n",
       " ('wife', 0.686038613319397)]"
      ]
     },
     "execution_count": 35,
     "metadata": {},
     "output_type": "execute_result"
    }
   ],
   "source": [
    "keyword_context[2][:15]"
   ]
  },
  {
   "cell_type": "code",
   "execution_count": 59,
   "metadata": {},
   "outputs": [
    {
     "data": {
      "text/plain": [
       "['mau', 'citizen', 'soldier', 'nian', 'man.']"
      ]
     },
     "execution_count": 59,
     "metadata": {},
     "output_type": "execute_result"
    }
   ],
   "source": [
    "[elem[0] for elem in keyword_context[0]][:5]"
   ]
  },
  {
   "cell_type": "code",
   "execution_count": 62,
   "metadata": {},
   "outputs": [
    {
     "data": {
      "text/plain": [
       "[0.7833964228630066,\n",
       " 0.7581620216369629,\n",
       " 0.7527076601982117,\n",
       " 0.7463874816894531,\n",
       " 0.7352272868156433]"
      ]
     },
     "execution_count": 62,
     "metadata": {},
     "output_type": "execute_result"
    }
   ],
   "source": [
    "[elem[1] for elem in keyword_context[0]][:5]"
   ]
  },
  {
   "cell_type": "code",
   "execution_count": null,
   "metadata": {},
   "outputs": [],
   "source": [
    "# maybe I want a df with 10 words per period and their scores "
   ]
  },
  {
   "cell_type": "code",
   "execution_count": null,
   "metadata": {},
   "outputs": [],
   "source": []
  },
  {
   "cell_type": "code",
   "execution_count": null,
   "metadata": {},
   "outputs": [],
   "source": []
  },
  {
   "cell_type": "code",
   "execution_count": null,
   "metadata": {},
   "outputs": [],
   "source": []
  },
  {
   "cell_type": "code",
   "execution_count": null,
   "metadata": {},
   "outputs": [],
   "source": []
  }
 ],
 "metadata": {
  "kernelspec": {
   "display_name": "Python 3",
   "language": "python",
   "name": "python3"
  },
  "language_info": {
   "codemirror_mode": {
    "name": "ipython",
    "version": 3
   },
   "file_extension": ".py",
   "mimetype": "text/x-python",
   "name": "python",
   "nbconvert_exporter": "python",
   "pygments_lexer": "ipython3",
   "version": "3.6.7"
  }
 },
 "nbformat": 4,
 "nbformat_minor": 4
}