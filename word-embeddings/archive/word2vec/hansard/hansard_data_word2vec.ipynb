{
 "cells": [
  {
   "cell_type": "code",
   "execution_count": 4,
   "metadata": {},
   "outputs": [],
   "source": [
    "import sys\n",
    "import os\n",
    "import csv\n",
    "import gensim\n",
    "import pandas as pd\n",
    "\n",
    "from matplotlib import pyplot as plt\n",
    "from matplotlib import cm\n",
    "from numpy import linspace\n",
    "from adjustText import adjust_text\n",
    "\n",
    "os.chdir('/users/sbuongiorno/democracy-lab/util/')\n",
    "from pyfunctions.interval_subsetter import interval_subset\n",
    "from pyfunctions.parallelize_operation import parallelize_operation\n",
    "from pyfunctions.preprocess_functions import standardize_spelling_df\n",
    "from pyfunctions.str_functions import lemmatize_df_text, str_split_df_sentences\n",
    "from pyfunctions.w2v_gensim_functions import w2v_export_gensim_models, w2v_embeddings, w2v_visualize_scatter_plot\n",
    "from pyfunctions.import_kw import import_keywords_list\n",
    "\n",
    "os.chdir('/users/sbuongiorno/democracy-lab/word-embeddings/')"
   ]
  },
  {
   "cell_type": "code",
   "execution_count": 3,
   "metadata": {},
   "outputs": [],
   "source": [
    "def data_process(target_fpath, label, csv_data, find_replace):\n",
    "    if not os.path.exists(target_fpath + label + '_subsets'):\n",
    "        \n",
    "        print('Importing data...')\n",
    "        data = pd.read_csv(csv_data)\n",
    "        print('Selecting columns...')\n",
    "        data = data[['text','year']].copy()\n",
    "        print('Standardizing column names...')\n",
    "        data = data.rename(columns = {'text': 'speech'})\n",
    "        print('Standardizing spelling...')\n",
    "        data = standardize_spelling_df(data, \n",
    "                                       text_col='speech', \n",
    "                                       fpath_replace_list=find_replace)\n",
    "        print('Generating ' + label + '_subsets')\n",
    "        os.mkdir(target_fpath + label + '_subsets')\n",
    "\n",
    "    if os.path.exists(target_fpath + label + '_subsets'):\n",
    "        if 'data' in locals():\n",
    "            print('Exporting period subsets to ' + label + '_subsets...') \n",
    "            interval_subset(data, 'year', 1800, 2010, 5, fname=label)\n",
    "        print('Exporting models to ' + label + '_subsets...')\n",
    "        w2v_export_gensim_models(label +'_subsets/', n_cores=36)"
   ]
  },
  {
   "cell_type": "code",
   "execution_count": null,
   "metadata": {},
   "outputs": [],
   "source": [
    "data_process('/users/sbuongiorno/democracy-lab/word-embeddings/', \n",
    "             'c19_20_hansard', \n",
    "             '/users/sbuongiorno/hansard_20191119_w_year.csv',\n",
    "             '/users/sbuongiorno/preprocess_propertywords.csv')"
   ]
  },
  {
   "cell_type": "code",
   "execution_count": 2,
   "metadata": {},
   "outputs": [],
   "source": [
    "keywords_list = import_keywords_list('/users/sbuongiorno/propertywords_cleaned_for_w2v_1grams.csv')"
   ]
  },
  {
   "cell_type": "code",
   "execution_count": null,
   "metadata": {},
   "outputs": [],
   "source": [
    "for keyword in keywords_list:\n",
    "    keyword_context = w2v_embeddings.keyword_context('/users/sbuongiorno/democracy-lab/word-embeddings/c19_20_hansard_subsets/', keyword)\n",
    "    \n",
    "    period_names = w2v_visualize_scatter_plot.define_periods(1800, 2005, 5)\n",
    "    \n",
    "    period_words = w2v_visualize_scatter_plot.collect_text_values(keyword_context, period_names)\n",
    "    \n",
    "    flat_list = w2v_visualize_scatter_plot.make_1D_list(period_words)    \n",
    "    \n",
    "    try:\n",
    "        w2v_visualize_scatter_plot.w2v_scatter_plot(period_names, keyword_context, flat_list, keyword)\n",
    "    except:\n",
    "        continue"
   ]
  },
  {
   "cell_type": "code",
   "execution_count": 10,
   "metadata": {},
   "outputs": [
    {
     "name": "stdout",
     "output_type": "stream",
     "text": [
      "[NbConvertApp] Converting notebook hansard_data_word2vec.ipynb to script\n",
      "[NbConvertApp] Writing 11561 bytes to hansard_data_word2vec.py\n"
     ]
    }
   ],
   "source": [
    "#os.chdir('/users/sbuongiorno/democracy-lab/word-embeddings/hansard')\n",
    "#!jupyter nbconvert --to script hansard_data_word2vec.ipynb"
   ]
  },
  {
   "cell_type": "code",
   "execution_count": null,
   "metadata": {},
   "outputs": [],
   "source": []
  }
 ],
 "metadata": {
  "kernelspec": {
   "display_name": "Python 3.8.6 64-bit ('venv': venv)",
   "language": "python",
   "name": "python386jvsc74a57bd0d6d8159a65db64be1e44edd21871961b8aab1031de333ef6218477a226e97456"
  },
  "language_info": {
   "name": "python",
   "version": ""
  }
 },
 "nbformat": 4,
 "nbformat_minor": 4
}
