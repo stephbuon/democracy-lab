{
 "cells": [
  {
   "cell_type": "code",
   "execution_count": 1,
   "metadata": {},
   "outputs": [],
   "source": [
    "import os\n",
    "import pandas as pd\n",
    "\n",
    "os.chdir('/users/sbuongiorno/democracy-lab/util/')\n",
    "from pyfunctions.interval_subsetter import interval_subset\n",
    "from pyfunctions.str_functions import str_split_df_sentences\n",
    "from pyfunctions.parallelize_operation import parallelize_operation\n",
    "\n",
    "os.chdir('/users/sbuongiorno/triples/congress-triples/')"
   ]
  },
  {
   "cell_type": "code",
   "execution_count": 5,
   "metadata": {},
   "outputs": [],
   "source": [
    "congress_data = pd.read_csv('/users/sbuongiorno/stanford_congressional_records_w_year.csv')"
   ]
  },
  {
   "cell_type": "code",
   "execution_count": 6,
   "metadata": {},
   "outputs": [],
   "source": [
    "interval_subset(congress_data, 'year', 1870, 2010, 10, 'stanford_congressional_records')"
   ]
  },
  {
   "cell_type": "code",
   "execution_count": 6,
   "metadata": {},
   "outputs": [],
   "source": [
    "dir_path = '/users/sbuongiorno/stanford_congressional_records_subsets/'"
   ]
  },
  {
   "cell_type": "code",
   "execution_count": 36,
   "metadata": {},
   "outputs": [],
   "source": [
    "cycle = 0\n",
    "\n",
    "for fname in os.listdir(dir_path):\n",
    "    if '.csv' in fname:\n",
    "        cycle = cycle + 1\n",
    "        \n",
    "        imported_data = pd.read_csv(dir_path + fname, error_bad_lines = False)\n",
    "       \n",
    "        out = parallelize_operation(imported_data, str_split_df_sentences, 36)\n",
    "        \n",
    "        out.to_csv('/users/sbuongiorno/stanford_congressional_records_subsets/' + '_' + 'cycle' + str(cycle))"
   ]
  },
  {
   "cell_type": "code",
   "execution_count": 7,
   "metadata": {},
   "outputs": [],
   "source": [
    "all_data = pd.DataFrame()\n",
    "\n",
    "for fname in os.listdir(dir_path):\n",
    "    if 'cycle' in fname:\n",
    "        \n",
    "        inputf = pd.read_csv(dir_path + fname)\n",
    "        \n",
    "        all_data = pd.concat([all_data, inputf], axis=0)       "
   ]
  },
  {
   "cell_type": "code",
   "execution_count": 12,
   "metadata": {},
   "outputs": [],
   "source": [
    "all_data.to_csv('/scratch/group/pract-txt-mine/clean_stanford_congressional_records_w_year.csv', index = False)"
   ]
  },
  {
   "cell_type": "code",
   "execution_count": 13,
   "metadata": {},
   "outputs": [
    {
     "name": "stdout",
     "output_type": "stream",
     "text": [
      "[NbConvertApp] Converting notebook Untitled.ipynb to script\n",
      "[NbConvertApp] Writing 3155 bytes to Untitled.py\n"
     ]
    }
   ],
   "source": [
    "#!jupyter nbconvert --to script Untitled.ipynb"
   ]
  }
 ],
 "metadata": {
  "kernelspec": {
   "display_name": "Python 3",
   "language": "python",
   "name": "python3"
  },
  "language_info": {
   "codemirror_mode": {
    "name": "ipython",
    "version": 3
   },
   "file_extension": ".py",
   "mimetype": "text/x-python",
   "name": "python",
   "nbconvert_exporter": "python",
   "pygments_lexer": "ipython3",
   "version": "3.6.7"
  }
 },
 "nbformat": 4,
 "nbformat_minor": 4
}
