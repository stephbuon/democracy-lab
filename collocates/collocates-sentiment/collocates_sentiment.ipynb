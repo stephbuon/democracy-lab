{
 "cells": [
  {
   "cell_type": "code",
   "execution_count": 3,
   "metadata": {},
   "outputs": [
    {
     "name": "stderr",
     "output_type": "stream",
     "text": [
      "/hpc/applications/anaconda/3/lib/python3.6/site-packages/nltk/twitter/__init__.py:20: UserWarning: The twython library has not been installed. Some functionality from the twitter package will not be available.\n",
      "  warnings.warn(\"The twython library has not been installed. \"\n"
     ]
    }
   ],
   "source": [
    "import re\n",
    "import os\n",
    "import sys\n",
    "import pandas as pd\n",
    "\n",
    "from pyfunctions.collocate_functions import collocate_analysis\n",
    "from pyfunctions.dict_functions import dict_keyword_lookup\n",
    "from pyfunctions.sentiment_functions import sentiment_score_df"
   ]
  },
  {
   "cell_type": "markdown",
   "metadata": {},
   "source": [
    "## Interactive Lab:"
   ]
  },
  {
   "cell_type": "code",
   "execution_count": 6,
   "metadata": {},
   "outputs": [],
   "source": [
    "notebook = is_notebook()\n",
    "\n",
    "if notebook == True:\n",
    "    keywords_list = pd.read_csv('propertywords_cleaned_for_collocates.csv')\n",
    "    kw_col_name = keywords_list.columns[0]\n",
    "    keywords_list = keywords_list[kw_col_name].tolist()\n",
    "\n",
    "    # can't use usecols here bc text is str andn year is int -- dumb \n",
    "    data = collocate_analysis.import_data('/users/sbuongiorno/rerun_csv_chunk.csv', ',', text_col='text', year_col='year', sub='/users/sbuongiorno/preprocess_propertywords.csv')\n",
    "    \n",
    "    data = dict_keyword_lookup(data, keywords_list)\n",
    "\n",
    "    data = collocate_analysis.extract_grammatical_collocates(data, keywords_list) # add a cli option for return type \n",
    "    \n",
    "    data = sentiment_score_df(data, 'grammatical_collocates')\n",
    "    \n",
    "    export_folder = 'collocates_sentiment'\n",
    "    \n",
    "    if not os.path.exists(export_folder):\n",
    "        os.mkdir(export_folder)\n",
    "    \n",
    "    data.to_csv(export_folder + '/' + 'collocates_sentiment_scores.csv', index=False)"
   ]
  },
  {
   "cell_type": "markdown",
   "metadata": {},
   "source": [
    "## sbatch:"
   ]
  },
  {
   "cell_type": "code",
   "execution_count": 65,
   "metadata": {},
   "outputs": [],
   "source": [
    "keywords_list = ['absentee', 'adscription', 'agist', 'allod', 'allotment', 'almoign', 'amortized', 'apanage', 'atar', 'attorn', \n",
    "                 'blettro', 'bond-land', 'bookland', 'bordage', 'bordar', 'boscage', 'burgage', 'burgery', 'cablicum', \n",
    "                 'cammandery', 'cartbote', 'charter-hold', 'charter-land', 'chattel', 'co-feof', 'co-tenancy', 'co-tenant', \n",
    "                 'coedcae', 'commonage', 'commonties', 'commonty', 'croft', 'curiality', 'demesn', 'depopulation', 'dispossess',\n",
    "                 'domanial', 'domesday', 'dreng', 'eject', 'emin', 'enclosure','escuage', 'esplees', 'estover', 'ethel', 'evict',\n",
    "                 'feu', 'ffridd', 'fiar', 'fief', 'firebote', 'fogg', 'folkland', 'frank-ferm', 'frank-marriage', 'frankalmoign',\n",
    "                 'franklin', 'frith', 'gavelkind', 'gaveller', 'grasanese', 'gwely', 'haybote', 'herbage', 'holdership', \n",
    "                 'homager', 'householdership', 'hypothec', 'inclosure', 'intercommoning', 'joint-tenancy', 'joint-tenant', \n",
    "                 'knight-service', 'laen', 'laetic', 'land', 'lease', 'lessee', 'lifehold', 'liferent', 'livier', 'lotment', \n",
    "                 'mail-payer', 'majorat', 'manorialize', 'manurance', 'mese', 'mesn', 'metayage', 'metayer', 'mivvy', 'occupance',\n",
    "                 'occupancy', 'outland', 'pannage', 'parage', 'patrony', 'pendicle', 'perpetual', 'piscary', 'ploughbote', \n",
    "                 'poffle', 'pollam', 'pre-emptive', 'property', 'rack-rent', 'radknight', 'radman', 'rent', 'rere-fief', 'roture',\n",
    "                 'roturier', 'rundale', 'runrig', 'ryoti', 'ryotwar', 'scattald', 'seisin', 'severalty', 'socage', 'sokeman', \n",
    "                 'solidate', 'sorning', 'sple', 'squat', 'steelbow', 'sub-fief', 'subaltern', 'subfeu', 'sublessee', 'subsman', \n",
    "                 'subtenancy', 'subtenant', 'subvassal', 'suit-hold', 'swinamote', 'tanistic', 'tanistry', 'tariot', 'tenancy',\n",
    "                 'tenant', 'tenement', 'tenurial', 'termon', 'termor', 'terre-tenant', 'thanage', 'thaneland', 'three-life',\n",
    "                 'thring', 'turbary', 'udal', 'under-tenancy', 'under-tenant', 'underlessee', 'undertenant', 'undervassal',\n",
    "                 'unfeued', 'unleased', 'unlet', 'urbarial', 'vassal', 'venville', 'vidame', 'villan', 'villar', 'villein', \n",
    "                 'woodmote', 'zemindar']"
   ]
  },
  {
   "cell_type": "code",
   "execution_count": null,
   "metadata": {},
   "outputs": [],
   "source": [
    "arg1 = sys.argv[1]\n",
    "\n",
    "data = collocate_analysis.import_data(arg1, ',', text_col='text', year_col='year', sub='/users/sbuongiorno/preprocess_propertywords.csv')\n",
    "\n",
    "data = data_contains(data, keywords_list)\n",
    "    \n",
    "data = collocate_analysis.extract_grammatical_collocates(data, keywords_list) # add a cli option for return type \n",
    "\n",
    "data = sentiment_score(data, 'grammatical_collocates')\n",
    "\n",
    "if not data.empty:\n",
    "    handle = open(arg1 + '.pickle', 'wb') \n",
    "    pickle.dump(data, handle)\n",
    "else:\n",
    "    exit()"
   ]
  },
  {
   "cell_type": "code",
   "execution_count": 60,
   "metadata": {},
   "outputs": [
    {
     "name": "stdout",
     "output_type": "stream",
     "text": [
      "[NbConvertApp] Converting notebook collocates_sentiment.ipynb to script\n",
      "[NbConvertApp] Writing 11853 bytes to collocates_sentiment.py\n"
     ]
    }
   ],
   "source": [
    "!jupyter nbconvert --to script collocates_sentiment.ipynb"
   ]
  },
  {
   "cell_type": "code",
   "execution_count": null,
   "metadata": {},
   "outputs": [],
   "source": []
  }
 ],
 "metadata": {
  "kernelspec": {
   "display_name": "Python 3.8.6 64-bit ('venv': venv)",
   "language": "python",
   "name": "python386jvsc74a57bd0d6d8159a65db64be1e44edd21871961b8aab1031de333ef6218477a226e97456"
  },
  "language_info": {
   "name": "python",
   "version": ""
  }
 },
 "nbformat": 4,
 "nbformat_minor": 4
}