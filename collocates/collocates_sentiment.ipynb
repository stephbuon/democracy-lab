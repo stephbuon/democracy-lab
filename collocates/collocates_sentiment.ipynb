{
 "cells": [
  {
   "cell_type": "code",
   "execution_count": 5,
   "metadata": {},
   "outputs": [],
   "source": [
    "import re\n",
    "import csv\n",
    "import pandas as pd\n",
    "\n",
    "from afinn import Afinn\n",
    "from textblob import TextBlob\n",
    "from nltk.sentiment.vader import SentimentIntensityAnalyzer\n",
    "from nltk.corpus import sentiwordnet as swn\n",
    "from nltk.sentiment.vader import SentimentIntensityAnalyzer\n",
    "\n",
    "import spacy\n",
    "nlp = spacy.load('en_core_web_sm', disable=['ner'])"
   ]
  },
  {
   "cell_type": "code",
   "execution_count": null,
   "metadata": {},
   "outputs": [],
   "source": [
    "# add the preprocessing script: https://github.com/stephbuon/democracy-lab/issues/75\n",
    "# create a copy of these property words and use them: https://docs.google.com/spreadsheets/d/1J1UofUSAeaOM0eWo8_1FbwgFHcris2SGZLH4XXXk21A/edit#gid=2100970163"
   ]
  },
  {
   "cell_type": "code",
   "execution_count": 26,
   "metadata": {},
   "outputs": [],
   "source": [
    "def list_contains(ls, keywords_list):\n",
    "    filtered_list = []\n",
    "    \n",
    "    for string in ls:\n",
    "        for keyword in keywords_list:\n",
    "            if keyword in string:\n",
    "                filtered_list.append(string)\n",
    "                \n",
    "    return filtered_list\n",
    "\n",
    "\n",
    "def import_data(data, sep, col_name):\n",
    "    hansard = pd.read_csv(data, sep=sep, usecols=[col_name])\n",
    "    debate_text = hansard[col_name].tolist()\n",
    "    return debate_text\n",
    "\n",
    "\n",
    "def grammatical_collocates(ls, keywords_list, **kwargs):\n",
    "    return_type = kwargs.get('return_type', None)\n",
    "    \n",
    "    if type(keywords_list) != list:\n",
    "        print('Error: keywords_list must be a list')\n",
    "        return None\n",
    "        \n",
    "    regex = re.compile('|'.join(keywords_list))\n",
    "    \n",
    "    collocates = []\n",
    "    \n",
    "    for string in ls:\n",
    "        doc = nlp(string)\n",
    "        \n",
    "        for token in doc:\n",
    "            if regex.match(token.text):\n",
    "                print(token, regex)\n",
    "                col = str(token.text) + ' ' + str(token.head.text)\n",
    "                collocates.append(str(token.text) + ' ' + str(token.head.text))\n",
    "                \n",
    "                for child in token.children:\n",
    "                    collocates.append(str(token.text) + ' ' + str(child))\n",
    "                    \n",
    "    if return_type == 'ls':\n",
    "        return collocates\n",
    "    if return_type == 'df':\n",
    "        return pd.DataFrame(collocates, columns =['grammatical_collocates'])\n",
    "    \n",
    "    \n",
    "def afinn_sentiment(text):\n",
    "    return Afinn().score(text)\n",
    "\n",
    "\n",
    "def textblob_sentiment(text):\n",
    "    return TextBlob(text).sentiment.polarity\n",
    "\n",
    "\n",
    "def vader_sentiment(text):\n",
    "    return SentimentIntensityAnalyzer().polarity_scores(text)\n",
    "\n",
    "\n",
    "def sentiment_score(df, col_name):\n",
    "    df['afinn'] = df[col_name].apply(afinn_sentiment)\n",
    "    df['textblob'] = df[col_name].apply(textblob_sentiment)\n",
    "    df['vader'] = df[col_name].apply(vader_sentiment)\n",
    "    df['vader'] = df['vader'].apply(lambda score_dict: score_dict['compound'])    \n",
    "    return df\n",
    "\n",
    "def m(fname):\n",
    "    data = import_data(fname, ',', 'text')\n",
    "    \n",
    "    # import keywords_list\n",
    "    \n",
    "    data = list_contains(data, keywords_list)\n",
    "    \n",
    "    # for keyword in property_keywords:\n",
    "    \n",
    "    collocates = grammatical_collocates(data, keyword, return_type='df')\n",
    "    \n",
    "    collocates_and_sentiment = sentiment_score(collocates, 'grammatical_collocates')\n",
    "    \n",
    "    collocates_and_sentiemnt.to_csv('collocates_sentiment_scores.csv', index=False)"
   ]
  },
  {
   "cell_type": "code",
   "execution_count": 6,
   "metadata": {},
   "outputs": [],
   "source": [
    "out = import_data('/users/sbuongiorno/hansard_justnine_w_year.csv', ',', 'text')"
   ]
  },
  {
   "cell_type": "code",
   "execution_count": 8,
   "metadata": {},
   "outputs": [],
   "source": [
    "test = out[:15]"
   ]
  },
  {
   "cell_type": "code",
   "execution_count": 10,
   "metadata": {},
   "outputs": [],
   "source": [
    "out = list_contains(test, ['respect', ' it '])"
   ]
  },
  {
   "cell_type": "code",
   "execution_count": 31,
   "metadata": {},
   "outputs": [
    {
     "name": "stdout",
     "output_type": "stream",
     "text": [
      "he re.compile('he')\n",
      "he re.compile('he')\n"
     ]
    }
   ],
   "source": [
    "save = grammatical_collocates(out, ['he'], return_type='df')"
   ]
  },
  {
   "cell_type": "code",
   "execution_count": 32,
   "metadata": {},
   "outputs": [
    {
     "data": {
      "text/html": [
       "<div>\n",
       "<style scoped>\n",
       "    .dataframe tbody tr th:only-of-type {\n",
       "        vertical-align: middle;\n",
       "    }\n",
       "\n",
       "    .dataframe tbody tr th {\n",
       "        vertical-align: top;\n",
       "    }\n",
       "\n",
       "    .dataframe thead th {\n",
       "        text-align: right;\n",
       "    }\n",
       "</style>\n",
       "<table border=\"1\" class=\"dataframe\">\n",
       "  <thead>\n",
       "    <tr style=\"text-align: right;\">\n",
       "      <th></th>\n",
       "      <th>grammatical_collocates</th>\n",
       "    </tr>\n",
       "  </thead>\n",
       "  <tbody>\n",
       "    <tr>\n",
       "      <th>0</th>\n",
       "      <td>he begged</td>\n",
       "    </tr>\n",
       "    <tr>\n",
       "      <th>1</th>\n",
       "      <td>he begged</td>\n",
       "    </tr>\n",
       "  </tbody>\n",
       "</table>\n",
       "</div>"
      ],
      "text/plain": [
       "  grammatical_collocates\n",
       "0              he begged\n",
       "1              he begged"
      ]
     },
     "execution_count": 32,
     "metadata": {},
     "output_type": "execute_result"
    }
   ],
   "source": [
    "save"
   ]
  },
  {
   "cell_type": "code",
   "execution_count": 33,
   "metadata": {},
   "outputs": [],
   "source": [
    "test = sentiment_score(save, 'grammatical_collocates')"
   ]
  },
  {
   "cell_type": "code",
   "execution_count": 34,
   "metadata": {},
   "outputs": [
    {
     "data": {
      "text/html": [
       "<div>\n",
       "<style scoped>\n",
       "    .dataframe tbody tr th:only-of-type {\n",
       "        vertical-align: middle;\n",
       "    }\n",
       "\n",
       "    .dataframe tbody tr th {\n",
       "        vertical-align: top;\n",
       "    }\n",
       "\n",
       "    .dataframe thead th {\n",
       "        text-align: right;\n",
       "    }\n",
       "</style>\n",
       "<table border=\"1\" class=\"dataframe\">\n",
       "  <thead>\n",
       "    <tr style=\"text-align: right;\">\n",
       "      <th></th>\n",
       "      <th>grammatical_collocates</th>\n",
       "      <th>afinn</th>\n",
       "      <th>textblob</th>\n",
       "      <th>vader</th>\n",
       "    </tr>\n",
       "  </thead>\n",
       "  <tbody>\n",
       "    <tr>\n",
       "      <th>0</th>\n",
       "      <td>he begged</td>\n",
       "      <td>0.0</td>\n",
       "      <td>0.0</td>\n",
       "      <td>0.0</td>\n",
       "    </tr>\n",
       "    <tr>\n",
       "      <th>1</th>\n",
       "      <td>he begged</td>\n",
       "      <td>0.0</td>\n",
       "      <td>0.0</td>\n",
       "      <td>0.0</td>\n",
       "    </tr>\n",
       "  </tbody>\n",
       "</table>\n",
       "</div>"
      ],
      "text/plain": [
       "  grammatical_collocates  afinn  textblob  vader\n",
       "0              he begged    0.0       0.0    0.0\n",
       "1              he begged    0.0       0.0    0.0"
      ]
     },
     "execution_count": 34,
     "metadata": {},
     "output_type": "execute_result"
    }
   ],
   "source": [
    "test"
   ]
  },
  {
   "cell_type": "code",
   "execution_count": null,
   "metadata": {},
   "outputs": [],
   "source": []
  }
 ],
 "metadata": {
  "kernelspec": {
   "display_name": "Python 3",
   "language": "python",
   "name": "python3"
  },
  "language_info": {
   "codemirror_mode": {
    "name": "ipython",
    "version": 3
   },
   "file_extension": ".py",
   "mimetype": "text/x-python",
   "name": "python",
   "nbconvert_exporter": "python",
   "pygments_lexer": "ipython3",
   "version": "3.6.7"
  }
 },
 "nbformat": 4,
 "nbformat_minor": 4
}
