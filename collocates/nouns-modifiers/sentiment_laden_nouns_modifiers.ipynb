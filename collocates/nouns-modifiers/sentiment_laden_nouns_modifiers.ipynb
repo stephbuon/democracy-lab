{
 "cells": [
  {
   "cell_type": "code",
   "execution_count": null,
   "metadata": {},
   "outputs": [],
   "source": [
    "import pandas as pd\n",
    "import os\n",
    "\n",
    "from pyfunctions.sentiment_functions import sentiment_score_df\n",
    "from pyfunctions.sentiment_functions import export_sentiment_laden_text"
   ]
  },
  {
   "cell_type": "code",
   "execution_count": 95,
   "metadata": {},
   "outputs": [],
   "source": [
    "def export_sentiment_laden_text(df, col_name, export_path, export_fname):\n",
    "    scored = sentiment_score_df(nouns_modifiers, col_name)\n",
    "    scored['combined_score'] = scored['afinn'] + scored['textblob'] + scored['vader']\n",
    "    scored = scored[scored['combined_score'] != 0.000000]\n",
    "    x\n",
    "    if not os.path.exists(export_path):\n",
    "        os.mkdir(export_path)\n",
    "    \n",
    "    scored.to_csv(export_path + export_fname, index = False)"
   ]
  },
  {
   "cell_type": "code",
   "execution_count": 92,
   "metadata": {},
   "outputs": [],
   "source": [
    "nouns_modifiers = pd.read_csv('/scratch/group/pract-txt-mine/stuff_from_last_couple_months/collocates_noun_modifiers_property_keywords_07192021.csv')"
   ]
  },
  {
   "cell_type": "code",
   "execution_count": 103,
   "metadata": {},
   "outputs": [],
   "source": [
    "export_sentiment_laden_text(nouns_modifiers, 'grammatical_collocates', '/users/sbuongiorno/', 'collocates.csv')"
   ]
  },
  {
   "cell_type": "code",
   "execution_count": null,
   "metadata": {},
   "outputs": [],
   "source": []
  }
 ],
 "metadata": {
  "kernelspec": {
   "display_name": "Python 3",
   "language": "python",
   "name": "python3"
  },
  "language_info": {
   "codemirror_mode": {
    "name": "ipython",
    "version": 3
   },
   "file_extension": ".py",
   "mimetype": "text/x-python",
   "name": "python",
   "nbconvert_exporter": "python",
   "pygments_lexer": "ipython3",
   "version": "3.6.7"
  }
 },
 "nbformat": 4,
 "nbformat_minor": 4
}
