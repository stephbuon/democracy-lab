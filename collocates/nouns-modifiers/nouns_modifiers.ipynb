{
 "cells": [
  {
   "cell_type": "code",
   "execution_count": 86,
   "metadata": {},
   "outputs": [],
   "source": [
    "import pickle\n",
    "import sys\n",
    "\n",
    "from pyfunctions.preprocessor_functions import preprocess_df\n",
    "from pyfunctions.dict_functions import dict_keyword_lookup\n",
    "from pyfunctions.collocate_functions import collocate_analysis"
   ]
  },
  {
   "cell_type": "code",
   "execution_count": 43,
   "metadata": {},
   "outputs": [],
   "source": [
    "keywords_list = ['absentee', 'adscription', 'agist', 'allod', 'allot', 'almoign', 'amortized', 'apanage', 'atar', 'attorn', \n",
    "                 'blettro', 'bond-land', 'bookland', 'bordage', 'bordar', 'boscage', 'burgage', 'burgery', 'cablicum', \n",
    "                 'cammandery', 'cartbote', 'charter-hold', 'charter-land', 'chattel', 'co-feof', 'co-tenancy', 'co-tenant', \n",
    "                 'coedcae', 'commonage', 'commonties', 'commonty', 'croft', 'curiality', 'demesn', 'depopulation', 'dispossess',\n",
    "                 'domanial', 'domesday', 'dreng', 'ft_19689289-1.outeject', 'emin', 'enclosure','escuage', 'esplees', 'estover', 'ethel', 'evict',\n",
    "                 'feu', 'ffridd', 'fiar', 'fief', 'firebote', 'fogg', 'folkland', 'frank-ferm', 'frank-marriage', 'frankalmoign',\n",
    "                 'franklin', 'frith', 'gavelkind', 'gaveller', 'grasanese', 'gwely', 'haybote', 'herbage', 'holdership', \n",
    "                 'homager', 'householdership', 'hypothec', 'inclosure', 'intercommoning', 'joint-tenancy', 'joint-tenant', \n",
    "                 'knight-service', 'laen', 'laetic', 'land', 'lease', 'lessee', 'lifehold', 'liferent', 'livier', 'lotment', \n",
    "                 'mail-payer', 'majorat', 'manorialize', 'manurance', 'mese', 'mesn', 'metayage', 'metayer', 'mivvy', 'occupance',\n",
    "                 'occupancy', 'outland', 'pannage', 'parage', 'patrony', 'pendicle', 'perpetual', 'piscary', 'ploughbote', \n",
    "                 'poffle', 'pollam', 'pre-emptive', 'property', 'rack-rent', 'radknight', 'radman', 'rent', 'rere-fief', 'roture',\n",
    "                 'roturier', 'rundale', 'runrig', 'ryoti', 'ryotwar', 'scattald', 'seisin', 'severalty', 'socage', 'sokeman', \n",
    "                 'solidate', 'sorning', 'sple', 'squat', 'steelbow', 'sub-fief', 'subaltern', 'subfeu', 'sublessee', 'subsman', \n",
    "                 'subtenancy', 'subtenant', 'subvassal', 'suit-hold', 'swinamote', 'tanistic', 'tanistry', 'tariot', 'tenancy',\n",
    "                 'tenant', 'tenement', 'tenurial', 'termon', 'termor', 'terre-tenant', 'thanage', 'thaneland', 'three-life',\n",
    "                 'thring', 'turbary', 'udal', 'under-tenancy', 'under-tenant', 'underlessee', 'undertenant', 'undervassal',\n",
    "                 'unfeued', 'unleased', 'unlet', 'urbarial', 'vassal', 'venville', 'vidame', 'villan', 'villar', 'villein', \n",
    "                 'woodmote', 'zemindar']"
   ]
  },
  {
   "cell_type": "code",
   "execution_count": null,
   "metadata": {},
   "outputs": [],
   "source": [
    "arg1 = sys.argv[1]\n",
    "\n",
    "data = collocate_analysis.import_data(arg1, ',', text_col='text', year_col='year', sub='/users/sbuongiorno/preprocess_propertywords.csv')\n",
    "data = dict_keyword_lookup(data, keywords_list)   \n",
    "data = collocate_analysis.extract_nouns_and_modifiers(data, keywords_list)\n",
    "\n",
    "if not data.empty:\n",
    "    handle = open(arg1 + '.pickle', 'wb') \n",
    "    pickle.dump(data, handle)\n",
    "else:\n",
    "    exit()"
   ]
  },
  {
   "cell_type": "code",
   "execution_count": 88,
   "metadata": {},
   "outputs": [
    {
     "name": "stdout",
     "output_type": "stream",
     "text": [
      "[NbConvertApp] Converting notebook run_noun_m.ipynb to script\n",
      "[NbConvertApp] Writing 5916 bytes to run_noun_m.py\n"
     ]
    }
   ],
   "source": [
    "os.chdir('/users/sbuongiorno/')\n",
    "!jupyter nbconvert --to script run_noun_m.ipynb"
   ]
  },
  {
   "cell_type": "code",
   "execution_count": null,
   "metadata": {},
   "outputs": [],
   "source": []
  }
 ],
 "metadata": {
  "kernelspec": {
   "display_name": "Python 3.8.6 64-bit ('venv': venv)",
   "language": "python",
   "name": "python386jvsc74a57bd0d6d8159a65db64be1e44edd21871961b8aab1031de333ef6218477a226e97456"
  },
  "language_info": {
   "name": "python",
   "version": ""
  }
 },
 "nbformat": 4,
 "nbformat_minor": 4
}
